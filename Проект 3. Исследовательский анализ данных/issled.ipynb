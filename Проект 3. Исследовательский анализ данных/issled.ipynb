{
 "cells": [
  {
   "cell_type": "markdown",
   "metadata": {},
   "source": [
    "# Исследование объявлений о продаже квартир\n",
    "\n",
    "В вашем распоряжении данные сервиса Яндекс.Недвижимость — архив объявлений о продаже квартир в Санкт-Петербурге и соседних населённых пунктов за несколько лет. Нужно научиться определять рыночную стоимость объектов недвижимости. Ваша задача — установить параметры. Это позволит построить автоматизированную систему: она отследит аномалии и мошенническую деятельность. \n",
    "\n",
    "По каждой квартире на продажу доступны два вида данных. Первые вписаны пользователем, вторые — получены автоматически на основе картографических данных. Например, расстояние до центра, аэропорта, ближайшего парка и водоёма. \n",
    "\n",
    "Цель проекта  \n",
    "Найти интересные особенности и зависимости, которые существуют на рынке недвижимости Санкт-Петербурга и Ленинградской области.  \n",
    "\n",
    "Описание данных\n",
    "\n",
    "Датасет представляет из себя таблицу со следующими столбцами:  \n",
    "airports_nearest — расстояние до ближайшего аэропорта в метрах (м)  \n",
    "balcony — число балконов  \n",
    "ceiling_height — высота потолков (м)  \n",
    "cityCenters_nearest — расстояние до центра города (м)  \n",
    "days_exposition — сколько дней было размещено объявление (от публикации до снятия)  \n",
    "first_day_exposition — дата публикации  \n",
    "floor — этаж  \n",
    "floors_total — всего этажей в доме\n",
    "is_apartment — апартаменты (булев тип)  \n",
    "kitchen_area — площадь кухни в квадратных метрах (м²)  \n",
    "last_price — цена на момент снятия с публикации  \n",
    "living_area — жилая площадь в квадратных метрах (м²)  \n",
    "locality_name — название населённого пункта  \n",
    "open_plan — свободная планировка (булев тип)  \n",
    "parks_around3000 — число парков в радиусе 3 км  \n",
    "parks_nearest — расстояние до ближайшего парка (м)  \n",
    "ponds_around3000 — число водоёмов в радиусе 3 км  \n",
    "ponds_nearest — расстояние до ближайшего водоёма (м)  \n",
    "rooms — число комнат  \n",
    "studio — квартира-студия (булев тип)  \n",
    "total_area — общая площадь квартиры в квадратных метрах (м²)  \n",
    "total_images — число фотографий квартиры в объявлении    \n",
    "\n",
    "\n",
    "\n",
    "\n",
    "\n",
    "<b>План работы</b>\n",
    "\n",
    "Шаг 1. Открыть файл с данными и изучить общую информацию\n",
    "\n",
    "Шаг 2. Выполнть предобработку данных\n",
    "\n",
    " определить пропущенные значения и заполненить там, где это возможно\n",
    " измененить типы данных\n",
    " устранить неявные дубликаты, редкие и выбивающиеся значения (аномалии) во всех столбцах\n",
    "\n",
    "Шаг 3. Добавить в таблицу новые столбцы  \n",
    " цена одного квадратного метра  \n",
    " день, месяц и год публикации объявления  \n",
    " тип этажа квартиры (значения — «первый», «последний», «другой»)  \n",
    " расстояние в км до центра города  \n",
    " \n",
    "Шаг 4. Провести исследовательский анализ данных\n",
    " изучить и описаны следующие параметры:\n",
    "  - общая площадь;\n",
    "  - жилая площадь;\n",
    "  - площадь кухни;\n",
    "  - цена объекта;\n",
    "  - количество комнат;\n",
    "  - высота потолков;\n",
    "  - этаж квартиры;\n",
    "  - тип этажа квартиры («первый», «последний», «другой»);\n",
    "  - общее количество этажей в доме;\n",
    "  - расстояние до центра города в метрах;\n",
    "  - расстояние до ближайшего аэропорта;\n",
    "  - расстояние до ближайшего парка;\n",
    "  - день и месяц публикации объявления\n",
    " Изучить, как быстро продавались квартиры (столбец days_exposition) и описать, сколько обычно занимает продажа, пояснить какие продажи можно считать быстрыми, а какие — необычно долгими.\n",
    " Изучить, какие факторы больше всего влияют на общую (полную) стоимость объекта?\n",
    "  - общей площади;\n",
    "  - жилой площади;\n",
    "  - площади кухни;\n",
    "  - количество комнат;\n",
    "  - типа этажа, на котором расположена квартира (первый, последний, другой);\n",
    "  - даты размещения (день недели, месяц, год);\n",
    " Посчитать среднюю цену одного квадратного метра в 10 населённых пунктах с наибольшим числом объявлений. Выделить населённые пункты с самой высокой и низкой стоимостью квадратного метра\n",
    " Выделить квартиры в Санкт-Петербурге и вычислите среднюю цену каждого километра. Описать, как стоимость объектов зависит от расстояния до центра города.\n",
    "\n",
    "Завершить исследование общим выводом.\n",
    "\n",
    "\n",
    "\n",
    "\n",
    "\n",
    "\n",
    "\n",
    "\n"
   ]
  },
  {
   "cell_type": "markdown",
   "metadata": {},
   "source": [
    "### Шаг 1. Откройте файл с данными и изучите общую информацию. "
   ]
  },
  {
   "cell_type": "code",
   "execution_count": 245,
   "metadata": {},
   "outputs": [],
   "source": [
    "import pandas as pd\n",
    "import seaborn as sns\n",
    "import matplotlib.pyplot as plt"
   ]
  },
  {
   "cell_type": "code",
   "execution_count": 246,
   "metadata": {},
   "outputs": [],
   "source": [
    "data = pd.read_csv('/datasets/real_estate_data.csv',sep='\\t')"
   ]
  },
  {
   "cell_type": "code",
   "execution_count": 247,
   "metadata": {},
   "outputs": [
    {
     "name": "stdout",
     "output_type": "stream",
     "text": [
      "<class 'pandas.core.frame.DataFrame'>\n",
      "RangeIndex: 23699 entries, 0 to 23698\n",
      "Data columns (total 22 columns):\n",
      " #   Column                Non-Null Count  Dtype  \n",
      "---  ------                --------------  -----  \n",
      " 0   total_images          23699 non-null  int64  \n",
      " 1   last_price            23699 non-null  float64\n",
      " 2   total_area            23699 non-null  float64\n",
      " 3   first_day_exposition  23699 non-null  object \n",
      " 4   rooms                 23699 non-null  int64  \n",
      " 5   ceiling_height        14504 non-null  float64\n",
      " 6   floors_total          23613 non-null  float64\n",
      " 7   living_area           21796 non-null  float64\n",
      " 8   floor                 23699 non-null  int64  \n",
      " 9   is_apartment          2775 non-null   object \n",
      " 10  studio                23699 non-null  bool   \n",
      " 11  open_plan             23699 non-null  bool   \n",
      " 12  kitchen_area          21421 non-null  float64\n",
      " 13  balcony               12180 non-null  float64\n",
      " 14  locality_name         23650 non-null  object \n",
      " 15  airports_nearest      18157 non-null  float64\n",
      " 16  cityCenters_nearest   18180 non-null  float64\n",
      " 17  parks_around3000      18181 non-null  float64\n",
      " 18  parks_nearest         8079 non-null   float64\n",
      " 19  ponds_around3000      18181 non-null  float64\n",
      " 20  ponds_nearest         9110 non-null   float64\n",
      " 21  days_exposition       20518 non-null  float64\n",
      "dtypes: bool(2), float64(14), int64(3), object(3)\n",
      "memory usage: 3.7+ MB\n"
     ]
    }
   ],
   "source": [
    "data.info()"
   ]
  },
  {
   "cell_type": "code",
   "execution_count": 248,
   "metadata": {},
   "outputs": [
    {
     "data": {
      "text/plain": [
       "array([[<AxesSubplot:title={'center':'total_images'}>,\n",
       "        <AxesSubplot:title={'center':'last_price'}>,\n",
       "        <AxesSubplot:title={'center':'total_area'}>,\n",
       "        <AxesSubplot:title={'center':'rooms'}>],\n",
       "       [<AxesSubplot:title={'center':'ceiling_height'}>,\n",
       "        <AxesSubplot:title={'center':'floors_total'}>,\n",
       "        <AxesSubplot:title={'center':'living_area'}>,\n",
       "        <AxesSubplot:title={'center':'floor'}>],\n",
       "       [<AxesSubplot:title={'center':'kitchen_area'}>,\n",
       "        <AxesSubplot:title={'center':'balcony'}>,\n",
       "        <AxesSubplot:title={'center':'airports_nearest'}>,\n",
       "        <AxesSubplot:title={'center':'cityCenters_nearest'}>],\n",
       "       [<AxesSubplot:title={'center':'parks_around3000'}>,\n",
       "        <AxesSubplot:title={'center':'parks_nearest'}>,\n",
       "        <AxesSubplot:title={'center':'ponds_around3000'}>,\n",
       "        <AxesSubplot:title={'center':'ponds_nearest'}>],\n",
       "       [<AxesSubplot:title={'center':'days_exposition'}>, <AxesSubplot:>,\n",
       "        <AxesSubplot:>, <AxesSubplot:>]], dtype=object)"
      ]
     },
     "execution_count": 248,
     "metadata": {},
     "output_type": "execute_result"
    },
    {
     "data": {
      "image/png": "[encoded data removed]",
      "text/plain": [
       "<Figure size 1080x1440 with 20 Axes>"
      ]
     },
     "metadata": {
      "needs_background": "light"
     },
     "output_type": "display_data"
    }
   ],
   "source": [
    "data.hist(figsize=(15, 20))"
   ]
  },
  {
   "cell_type": "code",
   "execution_count": 249,
   "metadata": {},
   "outputs": [
    {
     "data": {
      "text/html": [
       "<div>\n",
       "<style scoped>\n",
       "    .dataframe tbody tr th:only-of-type {\n",
       "        vertical-align: middle;\n",
       "    }\n",
       "\n",
       "    .dataframe tbody tr th {\n",
       "        vertical-align: top;\n",
       "    }\n",
       "\n",
       "    .dataframe thead th {\n",
       "        text-align: right;\n",
       "    }\n",
       "</style>\n",
       "<table border=\"1\" class=\"dataframe\">\n",
       "  <thead>\n",
       "    <tr style=\"text-align: right;\">\n",
       "      <th></th>\n",
       "      <th>total_images</th>\n",
       "      <th>last_price</th>\n",
       "      <th>total_area</th>\n",
       "      <th>first_day_exposition</th>\n",
       "      <th>rooms</th>\n",
       "      <th>ceiling_height</th>\n",
       "      <th>floors_total</th>\n",
       "      <th>living_area</th>\n",
       "      <th>floor</th>\n",
       "      <th>is_apartment</th>\n",
       "      <th>...</th>\n",
       "      <th>kitchen_area</th>\n",
       "      <th>balcony</th>\n",
       "      <th>locality_name</th>\n",
       "      <th>airports_nearest</th>\n",
       "      <th>cityCenters_nearest</th>\n",
       "      <th>parks_around3000</th>\n",
       "      <th>parks_nearest</th>\n",
       "      <th>ponds_around3000</th>\n",
       "      <th>ponds_nearest</th>\n",
       "      <th>days_exposition</th>\n",
       "    </tr>\n",
       "  </thead>\n",
       "  <tbody>\n",
       "    <tr>\n",
       "      <th>0</th>\n",
       "      <td>20</td>\n",
       "      <td>13000000.0</td>\n",
       "      <td>108.0</td>\n",
       "      <td>2019-03-07T00:00:00</td>\n",
       "      <td>3</td>\n",
       "      <td>2.70</td>\n",
       "      <td>16.0</td>\n",
       "      <td>51.0</td>\n",
       "      <td>8</td>\n",
       "      <td>NaN</td>\n",
       "      <td>...</td>\n",
       "      <td>25.0</td>\n",
       "      <td>NaN</td>\n",
       "      <td>Санкт-Петербург</td>\n",
       "      <td>18863.0</td>\n",
       "      <td>16028.0</td>\n",
       "      <td>1.0</td>\n",
       "      <td>482.0</td>\n",
       "      <td>2.0</td>\n",
       "      <td>755.0</td>\n",
       "      <td>NaN</td>\n",
       "    </tr>\n",
       "    <tr>\n",
       "      <th>1</th>\n",
       "      <td>7</td>\n",
       "      <td>3350000.0</td>\n",
       "      <td>40.4</td>\n",
       "      <td>2018-12-04T00:00:00</td>\n",
       "      <td>1</td>\n",
       "      <td>NaN</td>\n",
       "      <td>11.0</td>\n",
       "      <td>18.6</td>\n",
       "      <td>1</td>\n",
       "      <td>NaN</td>\n",
       "      <td>...</td>\n",
       "      <td>11.0</td>\n",
       "      <td>2.0</td>\n",
       "      <td>посёлок Шушары</td>\n",
       "      <td>12817.0</td>\n",
       "      <td>18603.0</td>\n",
       "      <td>0.0</td>\n",
       "      <td>NaN</td>\n",
       "      <td>0.0</td>\n",
       "      <td>NaN</td>\n",
       "      <td>81.0</td>\n",
       "    </tr>\n",
       "    <tr>\n",
       "      <th>2</th>\n",
       "      <td>10</td>\n",
       "      <td>5196000.0</td>\n",
       "      <td>56.0</td>\n",
       "      <td>2015-08-20T00:00:00</td>\n",
       "      <td>2</td>\n",
       "      <td>NaN</td>\n",
       "      <td>5.0</td>\n",
       "      <td>34.3</td>\n",
       "      <td>4</td>\n",
       "      <td>NaN</td>\n",
       "      <td>...</td>\n",
       "      <td>8.3</td>\n",
       "      <td>0.0</td>\n",
       "      <td>Санкт-Петербург</td>\n",
       "      <td>21741.0</td>\n",
       "      <td>13933.0</td>\n",
       "      <td>1.0</td>\n",
       "      <td>90.0</td>\n",
       "      <td>2.0</td>\n",
       "      <td>574.0</td>\n",
       "      <td>558.0</td>\n",
       "    </tr>\n",
       "    <tr>\n",
       "      <th>3</th>\n",
       "      <td>0</td>\n",
       "      <td>64900000.0</td>\n",
       "      <td>159.0</td>\n",
       "      <td>2015-07-24T00:00:00</td>\n",
       "      <td>3</td>\n",
       "      <td>NaN</td>\n",
       "      <td>14.0</td>\n",
       "      <td>NaN</td>\n",
       "      <td>9</td>\n",
       "      <td>NaN</td>\n",
       "      <td>...</td>\n",
       "      <td>NaN</td>\n",
       "      <td>0.0</td>\n",
       "      <td>Санкт-Петербург</td>\n",
       "      <td>28098.0</td>\n",
       "      <td>6800.0</td>\n",
       "      <td>2.0</td>\n",
       "      <td>84.0</td>\n",
       "      <td>3.0</td>\n",
       "      <td>234.0</td>\n",
       "      <td>424.0</td>\n",
       "    </tr>\n",
       "    <tr>\n",
       "      <th>4</th>\n",
       "      <td>2</td>\n",
       "      <td>10000000.0</td>\n",
       "      <td>100.0</td>\n",
       "      <td>2018-06-19T00:00:00</td>\n",
       "      <td>2</td>\n",
       "      <td>3.03</td>\n",
       "      <td>14.0</td>\n",
       "      <td>32.0</td>\n",
       "      <td>13</td>\n",
       "      <td>NaN</td>\n",
       "      <td>...</td>\n",
       "      <td>41.0</td>\n",
       "      <td>NaN</td>\n",
       "      <td>Санкт-Петербург</td>\n",
       "      <td>31856.0</td>\n",
       "      <td>8098.0</td>\n",
       "      <td>2.0</td>\n",
       "      <td>112.0</td>\n",
       "      <td>1.0</td>\n",
       "      <td>48.0</td>\n",
       "      <td>121.0</td>\n",
       "    </tr>\n",
       "  </tbody>\n",
       "</table>\n",
       "<p>5 rows × 22 columns</p>\n",
       "</div>"
      ],
      "text/plain": [
       "   total_images  last_price  total_area first_day_exposition  rooms  \\\n",
       "0            20  13000000.0       108.0  2019-03-07T00:00:00      3   \n",
       "1             7   3350000.0        40.4  2018-12-04T00:00:00      1   \n",
       "2            10   5196000.0        56.0  2015-08-20T00:00:00      2   \n",
       "3             0  64900000.0       159.0  2015-07-24T00:00:00      3   \n",
       "4             2  10000000.0       100.0  2018-06-19T00:00:00      2   \n",
       "\n",
       "   ceiling_height  floors_total  living_area  floor is_apartment  ...  \\\n",
       "0            2.70          16.0         51.0      8          NaN  ...   \n",
       "1             NaN          11.0         18.6      1          NaN  ...   \n",
       "2             NaN           5.0         34.3      4          NaN  ...   \n",
       "3             NaN          14.0          NaN      9          NaN  ...   \n",
       "4            3.03          14.0         32.0     13          NaN  ...   \n",
       "\n",
       "   kitchen_area  balcony    locality_name  airports_nearest  \\\n",
       "0          25.0      NaN  Санкт-Петербург           18863.0   \n",
       "1          11.0      2.0   посёлок Шушары           12817.0   \n",
       "2           8.3      0.0  Санкт-Петербург           21741.0   \n",
       "3           NaN      0.0  Санкт-Петербург           28098.0   \n",
       "4          41.0      NaN  Санкт-Петербург           31856.0   \n",
       "\n",
       "  cityCenters_nearest  parks_around3000  parks_nearest  ponds_around3000  \\\n",
       "0             16028.0               1.0          482.0               2.0   \n",
       "1             18603.0               0.0            NaN               0.0   \n",
       "2             13933.0               1.0           90.0               2.0   \n",
       "3              6800.0               2.0           84.0               3.0   \n",
       "4              8098.0               2.0          112.0               1.0   \n",
       "\n",
       "   ponds_nearest  days_exposition  \n",
       "0          755.0              NaN  \n",
       "1            NaN             81.0  \n",
       "2          574.0            558.0  \n",
       "3          234.0            424.0  \n",
       "4           48.0            121.0  \n",
       "\n",
       "[5 rows x 22 columns]"
      ]
     },
     "metadata": {},
     "output_type": "display_data"
    }
   ],
   "source": [
    "display(data.head())"
   ]
  },
  {
   "cell_type": "markdown",
   "metadata": {},
   "source": [
    "Промежуточный вывод: После предварительного знакомства с данными обнаружены пропуски, значения с ошибочными форматами. Для полноценного проведения исследования необходимо предварительно обработать и подготовить данные."
   ]
  },
  {
   "cell_type": "markdown",
   "metadata": {},
   "source": [
    "# Шаг 2. Предобработка данных"
   ]
  },
  {
   "cell_type": "code",
   "execution_count": 250,
   "metadata": {},
   "outputs": [
    {
     "name": "stdout",
     "output_type": "stream",
     "text": [
      "Количесвто дубликатов строк 0\n"
     ]
    }
   ],
   "source": [
    "# узнаем есть ли дубликаты строк?\n",
    "print('Количесвто дубликатов строк',data.duplicated().sum())"
   ]
  },
  {
   "cell_type": "code",
   "execution_count": 251,
   "metadata": {
    "scrolled": true
   },
   "outputs": [
    {
     "data": {
      "text/plain": [
       "total_images                0\n",
       "last_price                  0\n",
       "total_area                  0\n",
       "first_day_exposition        0\n",
       "rooms                       0\n",
       "ceiling_height           9195\n",
       "floors_total               86\n",
       "living_area              1903\n",
       "floor                       0\n",
       "is_apartment            20924\n",
       "studio                      0\n",
       "open_plan                   0\n",
       "kitchen_area             2278\n",
       "balcony                 11519\n",
       "locality_name              49\n",
       "airports_nearest         5542\n",
       "cityCenters_nearest      5519\n",
       "parks_around3000         5518\n",
       "parks_nearest           15620\n",
       "ponds_around3000         5518\n",
       "ponds_nearest           14589\n",
       "days_exposition          3181\n",
       "dtype: int64"
      ]
     },
     "execution_count": 251,
     "metadata": {},
     "output_type": "execute_result"
    }
   ],
   "source": [
    "# узнаем в каких столбцах есть пропуски\n",
    "\n",
    "data.isna().sum()"
   ]
  },
  {
   "cell_type": "markdown",
   "metadata": {},
   "source": [
    "# Список столбцов с пропущенными значениями  \n",
    "В исходных данных необходимо заполнить пропуски в столбцах датафрейма и в некоторых изменить тип данных.  \n",
    "Для удобства сведем выявленные проблемы в задач в таблицу. Геоданные оставим без изменнеия, пропущенные названия столбцов удалим."
   ]
  },
  {
   "cell_type": "code",
   "execution_count": 252,
   "metadata": {
    "scrolled": false
   },
   "outputs": [
    {
     "name": "stdout",
     "output_type": "stream",
     "text": [
      "      Название столбца       Тип   Пропуски значений\n",
      "0        ceiling_height  оставить          заполнить\n",
      "1          floors_total       int          заполнить\n",
      "2           living_area  оставить          заполнить\n",
      "3          is_apartment      bool          заполнить\n",
      "4          kitchen_area  оставить          заполнить\n",
      "5               balcony       int          заполнить\n",
      "6         locality_name  оставить            удалить\n",
      "7      airports_nearest  оставить           оставить\n",
      "8   cityCenters_nearest  оставить           оставить\n",
      "9      parks_around3000  оставить           оставить\n",
      "10        parks_nearest  оставить           оставить\n",
      "11     ponds_around3000  оставить           оставить\n",
      "12        ponds_nearest  оставить           оставить\n",
      "13      days_exposition      data          заполнить\n"
     ]
    }
   ],
   "source": [
    "problems_list = [\n",
    "    ('ceiling_height','оставить','заполнить'),\n",
    "    ('floors_total','int','заполнить'),\n",
    "    ('living_area','оставить','заполнить'),\n",
    "    ('is_apartment','bool','заполнить'),\n",
    "    ('kitchen_area','оставить','заполнить'),\n",
    "    ('balcony','int','заполнить'),\n",
    "    ('locality_name','оставить','удалить'),\n",
    "    ('airports_nearest','оставить','оставить'),\n",
    "    ('cityCenters_nearest','оставить','оставить'),\n",
    "    ('parks_around3000','оставить','оставить'),\n",
    "    ('parks_nearest','оставить','оставить'),\n",
    "    ('ponds_around3000','оставить','оставить'),\n",
    "    ('ponds_nearest','оставить','оставить'),\n",
    "    ('days_exposition','data','заполнить')\n",
    "]\n",
    "tab=pd.DataFrame(problems_list,columns=['Название столбца ','Тип ',' Пропуски значений'])\n",
    "print(tab)"
   ]
  },
  {
   "cell_type": "markdown",
   "metadata": {},
   "source": [
    "# Заполнение пропусков в столбце ceiling_height\n",
    "\n",
    "В столбце хранится количественное значение пропуски которого можно заполнить медианой или средней, так как высота потолков является количественной переменной.Данные в этом столбце не зависят от других значений.    \n",
    "В нашем случае заполним пропуски медианой. "
   ]
  },
  {
   "cell_type": "code",
   "execution_count": 253,
   "metadata": {},
   "outputs": [
    {
     "data": {
      "text/plain": [
       "9195"
      ]
     },
     "execution_count": 253,
     "metadata": {},
     "output_type": "execute_result"
    }
   ],
   "source": [
    "data['ceiling_height'].isna().sum() # выведем количество пропусков в столбце до обработки"
   ]
  },
  {
   "cell_type": "code",
   "execution_count": 254,
   "metadata": {},
   "outputs": [
    {
     "data": {
      "text/plain": [
       "0"
      ]
     },
     "execution_count": 254,
     "metadata": {},
     "output_type": "execute_result"
    }
   ],
   "source": [
    "#заполним медианным занчением пропуски\n",
    "data['ceiling_height'] = data['ceiling_height'].fillna(data['ceiling_height'].median())\n",
    "\n",
    "#проверим наличие пропусков 'ceiling_height'\n",
    "data['ceiling_height'].isna().sum()"
   ]
  },
  {
   "cell_type": "markdown",
   "metadata": {},
   "source": [
    "# Заполнение пропусков в столбце floors_total \n",
    "\n",
    "Так как это количественное значение, мы можем заполнить его медианой"
   ]
  },
  {
   "cell_type": "code",
   "execution_count": 255,
   "metadata": {},
   "outputs": [
    {
     "data": {
      "text/plain": [
       "86"
      ]
     },
     "execution_count": 255,
     "metadata": {},
     "output_type": "execute_result"
    }
   ],
   "source": [
    "data['floors_total'].isnull().sum()"
   ]
  },
  {
   "cell_type": "code",
   "execution_count": 256,
   "metadata": {},
   "outputs": [
    {
     "data": {
      "text/plain": [
       "0"
      ]
     },
     "execution_count": 256,
     "metadata": {},
     "output_type": "execute_result"
    }
   ],
   "source": [
    "#заполним медианным занчением пропуски\n",
    "data['floors_total'] = data['floors_total'].fillna(data['floors_total'].median())\n",
    "# проверим пропуски в floors_total.Если все успешно, пропуски будут равняться 0. \n",
    "data['floors_total'].isnull().sum()"
   ]
  },
  {
   "cell_type": "code",
   "execution_count": 257,
   "metadata": {},
   "outputs": [
    {
     "data": {
      "text/html": [
       "<div>\n",
       "<style scoped>\n",
       "    .dataframe tbody tr th:only-of-type {\n",
       "        vertical-align: middle;\n",
       "    }\n",
       "\n",
       "    .dataframe tbody tr th {\n",
       "        vertical-align: top;\n",
       "    }\n",
       "\n",
       "    .dataframe thead th {\n",
       "        text-align: right;\n",
       "    }\n",
       "</style>\n",
       "<table border=\"1\" class=\"dataframe\">\n",
       "  <thead>\n",
       "    <tr style=\"text-align: right;\">\n",
       "      <th></th>\n",
       "      <th>total_images</th>\n",
       "      <th>last_price</th>\n",
       "      <th>total_area</th>\n",
       "      <th>first_day_exposition</th>\n",
       "      <th>rooms</th>\n",
       "      <th>ceiling_height</th>\n",
       "      <th>floors_total</th>\n",
       "      <th>living_area</th>\n",
       "      <th>floor</th>\n",
       "      <th>is_apartment</th>\n",
       "      <th>...</th>\n",
       "      <th>kitchen_area</th>\n",
       "      <th>balcony</th>\n",
       "      <th>locality_name</th>\n",
       "      <th>airports_nearest</th>\n",
       "      <th>cityCenters_nearest</th>\n",
       "      <th>parks_around3000</th>\n",
       "      <th>parks_nearest</th>\n",
       "      <th>ponds_around3000</th>\n",
       "      <th>ponds_nearest</th>\n",
       "      <th>days_exposition</th>\n",
       "    </tr>\n",
       "  </thead>\n",
       "  <tbody>\n",
       "    <tr>\n",
       "      <th>0</th>\n",
       "      <td>20</td>\n",
       "      <td>13000000.0</td>\n",
       "      <td>108.0</td>\n",
       "      <td>2019-03-07T00:00:00</td>\n",
       "      <td>3</td>\n",
       "      <td>2.70</td>\n",
       "      <td>16.0</td>\n",
       "      <td>51.0</td>\n",
       "      <td>8</td>\n",
       "      <td>NaN</td>\n",
       "      <td>...</td>\n",
       "      <td>25.0</td>\n",
       "      <td>NaN</td>\n",
       "      <td>Санкт-Петербург</td>\n",
       "      <td>18863.0</td>\n",
       "      <td>16028.0</td>\n",
       "      <td>1.0</td>\n",
       "      <td>482.0</td>\n",
       "      <td>2.0</td>\n",
       "      <td>755.0</td>\n",
       "      <td>NaN</td>\n",
       "    </tr>\n",
       "    <tr>\n",
       "      <th>1</th>\n",
       "      <td>7</td>\n",
       "      <td>3350000.0</td>\n",
       "      <td>40.4</td>\n",
       "      <td>2018-12-04T00:00:00</td>\n",
       "      <td>1</td>\n",
       "      <td>2.65</td>\n",
       "      <td>11.0</td>\n",
       "      <td>18.6</td>\n",
       "      <td>1</td>\n",
       "      <td>NaN</td>\n",
       "      <td>...</td>\n",
       "      <td>11.0</td>\n",
       "      <td>2.0</td>\n",
       "      <td>посёлок Шушары</td>\n",
       "      <td>12817.0</td>\n",
       "      <td>18603.0</td>\n",
       "      <td>0.0</td>\n",
       "      <td>NaN</td>\n",
       "      <td>0.0</td>\n",
       "      <td>NaN</td>\n",
       "      <td>81.0</td>\n",
       "    </tr>\n",
       "    <tr>\n",
       "      <th>2</th>\n",
       "      <td>10</td>\n",
       "      <td>5196000.0</td>\n",
       "      <td>56.0</td>\n",
       "      <td>2015-08-20T00:00:00</td>\n",
       "      <td>2</td>\n",
       "      <td>2.65</td>\n",
       "      <td>5.0</td>\n",
       "      <td>34.3</td>\n",
       "      <td>4</td>\n",
       "      <td>NaN</td>\n",
       "      <td>...</td>\n",
       "      <td>8.3</td>\n",
       "      <td>0.0</td>\n",
       "      <td>Санкт-Петербург</td>\n",
       "      <td>21741.0</td>\n",
       "      <td>13933.0</td>\n",
       "      <td>1.0</td>\n",
       "      <td>90.0</td>\n",
       "      <td>2.0</td>\n",
       "      <td>574.0</td>\n",
       "      <td>558.0</td>\n",
       "    </tr>\n",
       "    <tr>\n",
       "      <th>3</th>\n",
       "      <td>0</td>\n",
       "      <td>64900000.0</td>\n",
       "      <td>159.0</td>\n",
       "      <td>2015-07-24T00:00:00</td>\n",
       "      <td>3</td>\n",
       "      <td>2.65</td>\n",
       "      <td>14.0</td>\n",
       "      <td>NaN</td>\n",
       "      <td>9</td>\n",
       "      <td>NaN</td>\n",
       "      <td>...</td>\n",
       "      <td>NaN</td>\n",
       "      <td>0.0</td>\n",
       "      <td>Санкт-Петербург</td>\n",
       "      <td>28098.0</td>\n",
       "      <td>6800.0</td>\n",
       "      <td>2.0</td>\n",
       "      <td>84.0</td>\n",
       "      <td>3.0</td>\n",
       "      <td>234.0</td>\n",
       "      <td>424.0</td>\n",
       "    </tr>\n",
       "    <tr>\n",
       "      <th>4</th>\n",
       "      <td>2</td>\n",
       "      <td>10000000.0</td>\n",
       "      <td>100.0</td>\n",
       "      <td>2018-06-19T00:00:00</td>\n",
       "      <td>2</td>\n",
       "      <td>3.03</td>\n",
       "      <td>14.0</td>\n",
       "      <td>32.0</td>\n",
       "      <td>13</td>\n",
       "      <td>NaN</td>\n",
       "      <td>...</td>\n",
       "      <td>41.0</td>\n",
       "      <td>NaN</td>\n",
       "      <td>Санкт-Петербург</td>\n",
       "      <td>31856.0</td>\n",
       "      <td>8098.0</td>\n",
       "      <td>2.0</td>\n",
       "      <td>112.0</td>\n",
       "      <td>1.0</td>\n",
       "      <td>48.0</td>\n",
       "      <td>121.0</td>\n",
       "    </tr>\n",
       "  </tbody>\n",
       "</table>\n",
       "<p>5 rows × 22 columns</p>\n",
       "</div>"
      ],
      "text/plain": [
       "   total_images  last_price  total_area first_day_exposition  rooms  \\\n",
       "0            20  13000000.0       108.0  2019-03-07T00:00:00      3   \n",
       "1             7   3350000.0        40.4  2018-12-04T00:00:00      1   \n",
       "2            10   5196000.0        56.0  2015-08-20T00:00:00      2   \n",
       "3             0  64900000.0       159.0  2015-07-24T00:00:00      3   \n",
       "4             2  10000000.0       100.0  2018-06-19T00:00:00      2   \n",
       "\n",
       "   ceiling_height  floors_total  living_area  floor is_apartment  ...  \\\n",
       "0            2.70          16.0         51.0      8          NaN  ...   \n",
       "1            2.65          11.0         18.6      1          NaN  ...   \n",
       "2            2.65           5.0         34.3      4          NaN  ...   \n",
       "3            2.65          14.0          NaN      9          NaN  ...   \n",
       "4            3.03          14.0         32.0     13          NaN  ...   \n",
       "\n",
       "   kitchen_area  balcony    locality_name  airports_nearest  \\\n",
       "0          25.0      NaN  Санкт-Петербург           18863.0   \n",
       "1          11.0      2.0   посёлок Шушары           12817.0   \n",
       "2           8.3      0.0  Санкт-Петербург           21741.0   \n",
       "3           NaN      0.0  Санкт-Петербург           28098.0   \n",
       "4          41.0      NaN  Санкт-Петербург           31856.0   \n",
       "\n",
       "  cityCenters_nearest  parks_around3000  parks_nearest  ponds_around3000  \\\n",
       "0             16028.0               1.0          482.0               2.0   \n",
       "1             18603.0               0.0            NaN               0.0   \n",
       "2             13933.0               1.0           90.0               2.0   \n",
       "3              6800.0               2.0           84.0               3.0   \n",
       "4              8098.0               2.0          112.0               1.0   \n",
       "\n",
       "   ponds_nearest  days_exposition  \n",
       "0          755.0              NaN  \n",
       "1            NaN             81.0  \n",
       "2          574.0            558.0  \n",
       "3          234.0            424.0  \n",
       "4           48.0            121.0  \n",
       "\n",
       "[5 rows x 22 columns]"
      ]
     },
     "execution_count": 257,
     "metadata": {},
     "output_type": "execute_result"
    }
   ],
   "source": [
    "data.head(5)"
   ]
  },
  {
   "cell_type": "markdown",
   "metadata": {},
   "source": [
    "# Заполнение пропусков в столбце living_area\n",
    "Жилая площадь это количественная переменная в квадратных метрах. Заполним пропуски медианым значением.    \n",
    "Возможная причина пропусков состоит в том что поле не является обязательным к заполнениию и Позователь пропустил умышленно или по ошибке. \n",
    "Заполним пропуски медианым значением."
   ]
  },
  {
   "cell_type": "code",
   "execution_count": 258,
   "metadata": {},
   "outputs": [
    {
     "data": {
      "text/html": [
       "<div>\n",
       "<style scoped>\n",
       "    .dataframe tbody tr th:only-of-type {\n",
       "        vertical-align: middle;\n",
       "    }\n",
       "\n",
       "    .dataframe tbody tr th {\n",
       "        vertical-align: top;\n",
       "    }\n",
       "\n",
       "    .dataframe thead th {\n",
       "        text-align: right;\n",
       "    }\n",
       "</style>\n",
       "<table border=\"1\" class=\"dataframe\">\n",
       "  <thead>\n",
       "    <tr style=\"text-align: right;\">\n",
       "      <th></th>\n",
       "      <th>living_area</th>\n",
       "      <th>kitchen_area</th>\n",
       "      <th>total_area</th>\n",
       "    </tr>\n",
       "  </thead>\n",
       "  <tbody>\n",
       "    <tr>\n",
       "      <th>0</th>\n",
       "      <td>51.00</td>\n",
       "      <td>25.00</td>\n",
       "      <td>108.00</td>\n",
       "    </tr>\n",
       "    <tr>\n",
       "      <th>1</th>\n",
       "      <td>18.60</td>\n",
       "      <td>11.00</td>\n",
       "      <td>40.40</td>\n",
       "    </tr>\n",
       "    <tr>\n",
       "      <th>2</th>\n",
       "      <td>34.30</td>\n",
       "      <td>8.30</td>\n",
       "      <td>56.00</td>\n",
       "    </tr>\n",
       "    <tr>\n",
       "      <th>3</th>\n",
       "      <td>NaN</td>\n",
       "      <td>NaN</td>\n",
       "      <td>159.00</td>\n",
       "    </tr>\n",
       "    <tr>\n",
       "      <th>4</th>\n",
       "      <td>32.00</td>\n",
       "      <td>41.00</td>\n",
       "      <td>100.00</td>\n",
       "    </tr>\n",
       "    <tr>\n",
       "      <th>5</th>\n",
       "      <td>14.40</td>\n",
       "      <td>9.10</td>\n",
       "      <td>30.40</td>\n",
       "    </tr>\n",
       "    <tr>\n",
       "      <th>6</th>\n",
       "      <td>10.60</td>\n",
       "      <td>14.40</td>\n",
       "      <td>37.30</td>\n",
       "    </tr>\n",
       "    <tr>\n",
       "      <th>7</th>\n",
       "      <td>NaN</td>\n",
       "      <td>18.90</td>\n",
       "      <td>71.60</td>\n",
       "    </tr>\n",
       "    <tr>\n",
       "      <th>8</th>\n",
       "      <td>15.43</td>\n",
       "      <td>8.81</td>\n",
       "      <td>33.16</td>\n",
       "    </tr>\n",
       "    <tr>\n",
       "      <th>9</th>\n",
       "      <td>43.60</td>\n",
       "      <td>6.50</td>\n",
       "      <td>61.00</td>\n",
       "    </tr>\n",
       "  </tbody>\n",
       "</table>\n",
       "</div>"
      ],
      "text/plain": [
       "   living_area  kitchen_area  total_area\n",
       "0        51.00         25.00      108.00\n",
       "1        18.60         11.00       40.40\n",
       "2        34.30          8.30       56.00\n",
       "3          NaN           NaN      159.00\n",
       "4        32.00         41.00      100.00\n",
       "5        14.40          9.10       30.40\n",
       "6        10.60         14.40       37.30\n",
       "7          NaN         18.90       71.60\n",
       "8        15.43          8.81       33.16\n",
       "9        43.60          6.50       61.00"
      ]
     },
     "execution_count": 258,
     "metadata": {},
     "output_type": "execute_result"
    }
   ],
   "source": [
    "#для наглядности работы с пропусками сведем данные по площади объекта в одну таблицу\n",
    "data[['living_area','kitchen_area','total_area']].head(10) "
   ]
  },
  {
   "cell_type": "code",
   "execution_count": 259,
   "metadata": {},
   "outputs": [
    {
     "data": {
      "text/plain": [
       "1903"
      ]
     },
     "execution_count": 259,
     "metadata": {},
     "output_type": "execute_result"
    }
   ],
   "source": [
    "#выведем пропуски в столбце\n",
    "data['living_area'].isna().sum()"
   ]
  },
  {
   "cell_type": "code",
   "execution_count": 260,
   "metadata": {},
   "outputs": [],
   "source": [
    "# заменим пропуски в столбце ceiling_height медианным процентом жилой площади('living_area') от общей площади ('total_area')\n",
    "median_percent_la =(data['living_area'] / data['total_area']).median()\n",
    "\n",
    "#в пропуски вставим общая площадь* медианную долю\n",
    "\n",
    "data['living_area'] = data['living_area'].fillna(data['total_area'] * median_percent_la)"
   ]
  },
  {
   "cell_type": "code",
   "execution_count": 261,
   "metadata": {
    "scrolled": true
   },
   "outputs": [
    {
     "data": {
      "text/html": [
       "<div>\n",
       "<style scoped>\n",
       "    .dataframe tbody tr th:only-of-type {\n",
       "        vertical-align: middle;\n",
       "    }\n",
       "\n",
       "    .dataframe tbody tr th {\n",
       "        vertical-align: top;\n",
       "    }\n",
       "\n",
       "    .dataframe thead th {\n",
       "        text-align: right;\n",
       "    }\n",
       "</style>\n",
       "<table border=\"1\" class=\"dataframe\">\n",
       "  <thead>\n",
       "    <tr style=\"text-align: right;\">\n",
       "      <th></th>\n",
       "      <th>living_area</th>\n",
       "      <th>kitchen_area</th>\n",
       "      <th>total_area</th>\n",
       "    </tr>\n",
       "  </thead>\n",
       "  <tbody>\n",
       "    <tr>\n",
       "      <th>0</th>\n",
       "      <td>51.000000</td>\n",
       "      <td>25.00</td>\n",
       "      <td>108.00</td>\n",
       "    </tr>\n",
       "    <tr>\n",
       "      <th>1</th>\n",
       "      <td>18.600000</td>\n",
       "      <td>11.00</td>\n",
       "      <td>40.40</td>\n",
       "    </tr>\n",
       "    <tr>\n",
       "      <th>2</th>\n",
       "      <td>34.300000</td>\n",
       "      <td>8.30</td>\n",
       "      <td>56.00</td>\n",
       "    </tr>\n",
       "    <tr>\n",
       "      <th>3</th>\n",
       "      <td>90.289724</td>\n",
       "      <td>NaN</td>\n",
       "      <td>159.00</td>\n",
       "    </tr>\n",
       "    <tr>\n",
       "      <th>4</th>\n",
       "      <td>32.000000</td>\n",
       "      <td>41.00</td>\n",
       "      <td>100.00</td>\n",
       "    </tr>\n",
       "    <tr>\n",
       "      <th>5</th>\n",
       "      <td>14.400000</td>\n",
       "      <td>9.10</td>\n",
       "      <td>30.40</td>\n",
       "    </tr>\n",
       "    <tr>\n",
       "      <th>6</th>\n",
       "      <td>10.600000</td>\n",
       "      <td>14.40</td>\n",
       "      <td>37.30</td>\n",
       "    </tr>\n",
       "    <tr>\n",
       "      <th>7</th>\n",
       "      <td>40.658769</td>\n",
       "      <td>18.90</td>\n",
       "      <td>71.60</td>\n",
       "    </tr>\n",
       "    <tr>\n",
       "      <th>8</th>\n",
       "      <td>15.430000</td>\n",
       "      <td>8.81</td>\n",
       "      <td>33.16</td>\n",
       "    </tr>\n",
       "    <tr>\n",
       "      <th>9</th>\n",
       "      <td>43.600000</td>\n",
       "      <td>6.50</td>\n",
       "      <td>61.00</td>\n",
       "    </tr>\n",
       "  </tbody>\n",
       "</table>\n",
       "</div>"
      ],
      "text/plain": [
       "   living_area  kitchen_area  total_area\n",
       "0    51.000000         25.00      108.00\n",
       "1    18.600000         11.00       40.40\n",
       "2    34.300000          8.30       56.00\n",
       "3    90.289724           NaN      159.00\n",
       "4    32.000000         41.00      100.00\n",
       "5    14.400000          9.10       30.40\n",
       "6    10.600000         14.40       37.30\n",
       "7    40.658769         18.90       71.60\n",
       "8    15.430000          8.81       33.16\n",
       "9    43.600000          6.50       61.00"
      ]
     },
     "execution_count": 261,
     "metadata": {},
     "output_type": "execute_result"
    }
   ],
   "source": [
    "#проверка изменений\n",
    "data[['living_area','kitchen_area','total_area']].head(10) "
   ]
  },
  {
   "cell_type": "code",
   "execution_count": 262,
   "metadata": {},
   "outputs": [
    {
     "data": {
      "text/plain": [
       "0"
      ]
     },
     "execution_count": 262,
     "metadata": {},
     "output_type": "execute_result"
    }
   ],
   "source": [
    "# проверим, остались ли пропуски:\n",
    "data['living_area'].isna().sum()"
   ]
  },
  {
   "cell_type": "markdown",
   "metadata": {},
   "source": [
    "# Заполнение пропусков в столбце kitchen_area\n",
    "\n",
    "В столбце хранится количественное значение которое возможно заполнить разностью жилой площади от общей площади объекта.   \n",
    "Причины пропусков: поле не является обязательным к заполнениию и Позователь пропустил умышленно или по ошибке.\n",
    "Пользователь мог не знать точную высоту потолков и предпочел пропустить заполнение."
   ]
  },
  {
   "cell_type": "code",
   "execution_count": 263,
   "metadata": {
    "scrolled": true
   },
   "outputs": [
    {
     "data": {
      "text/html": [
       "<div>\n",
       "<style scoped>\n",
       "    .dataframe tbody tr th:only-of-type {\n",
       "        vertical-align: middle;\n",
       "    }\n",
       "\n",
       "    .dataframe tbody tr th {\n",
       "        vertical-align: top;\n",
       "    }\n",
       "\n",
       "    .dataframe thead th {\n",
       "        text-align: right;\n",
       "    }\n",
       "</style>\n",
       "<table border=\"1\" class=\"dataframe\">\n",
       "  <thead>\n",
       "    <tr style=\"text-align: right;\">\n",
       "      <th></th>\n",
       "      <th>living_area</th>\n",
       "      <th>kitchen_area</th>\n",
       "      <th>total_area</th>\n",
       "    </tr>\n",
       "  </thead>\n",
       "  <tbody>\n",
       "    <tr>\n",
       "      <th>0</th>\n",
       "      <td>51.000000</td>\n",
       "      <td>25.000000</td>\n",
       "      <td>108.00</td>\n",
       "    </tr>\n",
       "    <tr>\n",
       "      <th>1</th>\n",
       "      <td>18.600000</td>\n",
       "      <td>11.000000</td>\n",
       "      <td>40.40</td>\n",
       "    </tr>\n",
       "    <tr>\n",
       "      <th>2</th>\n",
       "      <td>34.300000</td>\n",
       "      <td>8.300000</td>\n",
       "      <td>56.00</td>\n",
       "    </tr>\n",
       "    <tr>\n",
       "      <th>3</th>\n",
       "      <td>90.289724</td>\n",
       "      <td>68.710276</td>\n",
       "      <td>159.00</td>\n",
       "    </tr>\n",
       "    <tr>\n",
       "      <th>4</th>\n",
       "      <td>32.000000</td>\n",
       "      <td>41.000000</td>\n",
       "      <td>100.00</td>\n",
       "    </tr>\n",
       "    <tr>\n",
       "      <th>5</th>\n",
       "      <td>14.400000</td>\n",
       "      <td>9.100000</td>\n",
       "      <td>30.40</td>\n",
       "    </tr>\n",
       "    <tr>\n",
       "      <th>6</th>\n",
       "      <td>10.600000</td>\n",
       "      <td>14.400000</td>\n",
       "      <td>37.30</td>\n",
       "    </tr>\n",
       "    <tr>\n",
       "      <th>7</th>\n",
       "      <td>40.658769</td>\n",
       "      <td>18.900000</td>\n",
       "      <td>71.60</td>\n",
       "    </tr>\n",
       "    <tr>\n",
       "      <th>8</th>\n",
       "      <td>15.430000</td>\n",
       "      <td>8.810000</td>\n",
       "      <td>33.16</td>\n",
       "    </tr>\n",
       "    <tr>\n",
       "      <th>9</th>\n",
       "      <td>43.600000</td>\n",
       "      <td>6.500000</td>\n",
       "      <td>61.00</td>\n",
       "    </tr>\n",
       "  </tbody>\n",
       "</table>\n",
       "</div>"
      ],
      "text/plain": [
       "   living_area  kitchen_area  total_area\n",
       "0    51.000000     25.000000      108.00\n",
       "1    18.600000     11.000000       40.40\n",
       "2    34.300000      8.300000       56.00\n",
       "3    90.289724     68.710276      159.00\n",
       "4    32.000000     41.000000      100.00\n",
       "5    14.400000      9.100000       30.40\n",
       "6    10.600000     14.400000       37.30\n",
       "7    40.658769     18.900000       71.60\n",
       "8    15.430000      8.810000       33.16\n",
       "9    43.600000      6.500000       61.00"
      ]
     },
     "execution_count": 263,
     "metadata": {},
     "output_type": "execute_result"
    }
   ],
   "source": [
    "data['kitchen_area'] = data['kitchen_area'].fillna(data['total_area'] - data['living_area'] )\n",
    "\n",
    "#проверка изменений\n",
    "data[['living_area','kitchen_area','total_area']].head(10) "
   ]
  },
  {
   "cell_type": "code",
   "execution_count": 264,
   "metadata": {},
   "outputs": [
    {
     "data": {
      "text/plain": [
       "0"
      ]
     },
     "execution_count": 264,
     "metadata": {},
     "output_type": "execute_result"
    }
   ],
   "source": [
    "# проверим наличие изменений в kitchen_area. Если все успешно, пропуски будут равняться 0.\n",
    "data['kitchen_area'].isnull().sum()"
   ]
  },
  {
   "cell_type": "markdown",
   "metadata": {},
   "source": [
    "# Заполнение пропусков в столбце is_apartment\n",
    "В столбце хранится булев тип значений. Нам необходимо заполнить значением False.  \n",
    "Аналогично, возможная причина пропусков состоит в том что поле не является обязательным к заполнениию и Позователь пропустил умышленно или по ошибке.   \n",
    "Также вполне возможно, что Пользователь не считает свой объект недвижимости аппартаментами."
   ]
  },
  {
   "cell_type": "code",
   "execution_count": 265,
   "metadata": {},
   "outputs": [
    {
     "data": {
      "text/plain": [
       "0"
      ]
     },
     "execution_count": 265,
     "metadata": {},
     "output_type": "execute_result"
    }
   ],
   "source": [
    "data['is_apartment'] = data['is_apartment'].fillna(value=False)\n",
    "\n",
    "# проверим наличие изменений в is_apartment. Если все успешно, пропуски будут равняться 0.\n",
    "data['is_apartment'].isnull().sum() "
   ]
  },
  {
   "cell_type": "markdown",
   "metadata": {},
   "source": [
    "# Заполнение пропусков в столбце balcony\n",
    "\n",
    "Там,где продавец не указал число балконов, заполним пропуски 0 \n",
    "Продавец не указал число балконов так как балкона в его квартире могло не быть, либо поле не является обязательным для заполнения\n",
    "Продавец мог не знать расстояние до парка, либо произошел сбой в системе"
   ]
  },
  {
   "cell_type": "code",
   "execution_count": 266,
   "metadata": {},
   "outputs": [
    {
     "data": {
      "text/plain": [
       "0"
      ]
     },
     "execution_count": 266,
     "metadata": {},
     "output_type": "execute_result"
    }
   ],
   "source": [
    "data.loc[data['balcony'].isna(), 'balcony'] = 0\n",
    "\n",
    "# проверим наличие изменений в balcony. Если все успешно, пропуски будут равняться 0.\n",
    "data['balcony'].isnull().sum()"
   ]
  },
  {
   "cell_type": "markdown",
   "metadata": {},
   "source": [
    "# Заполнение пропусков в столбце locality_name  \n",
    "\n",
    "Пропусков лишь 49. Можно их удалить, так как они не повляют на результаты "
   ]
  },
  {
   "cell_type": "code",
   "execution_count": 267,
   "metadata": {},
   "outputs": [
    {
     "data": {
      "text/plain": [
       "0"
      ]
     },
     "execution_count": 267,
     "metadata": {},
     "output_type": "execute_result"
    }
   ],
   "source": [
    "data.dropna(subset = ['locality_name'], inplace=True)\n",
    "data['locality_name'].isnull().sum()"
   ]
  },
  {
   "cell_type": "markdown",
   "metadata": {},
   "source": [
    "# Заполнение пропусков в столбце days_exposition\n",
    "\n",
    "Выдвинем предположение, что данных в стобце размещения объявления нет так как квартира ещё не продана. Для заполнения пропусков в столбце предлагаю определить самую дату самого позднего размещения объвления. Затем из нее с помощью логической индексанции вычисть даты объявлений и этими значениями заполнить пропуски в столбце days_exposition для этого сначала изменим формат в столбце дата публикации с object на datetime"
   ]
  },
  {
   "cell_type": "markdown",
   "metadata": {},
   "source": [
    "## Изменение типа данных в столбце first_day_exposition"
   ]
  },
  {
   "cell_type": "code",
   "execution_count": 268,
   "metadata": {},
   "outputs": [
    {
     "data": {
      "text/plain": [
       "0   2019-03-07\n",
       "1   2018-12-04\n",
       "2   2015-08-20\n",
       "3   2015-07-24\n",
       "4   2018-06-19\n",
       "Name: first_day_exposition, dtype: datetime64[ns]"
      ]
     },
     "execution_count": 268,
     "metadata": {},
     "output_type": "execute_result"
    }
   ],
   "source": [
    "# приведем столбец first_day_exposition к необходимому формату даты чтобы можно было заполнить пропучки.\n",
    "data['first_day_exposition'] = pd.to_datetime(data['first_day_exposition'],origin = 'unix' )\n",
    "\n",
    "#проверим отображение\n",
    "data['first_day_exposition'].head(5)"
   ]
  },
  {
   "cell_type": "code",
   "execution_count": 269,
   "metadata": {},
   "outputs": [
    {
     "data": {
      "text/plain": [
       "3180"
      ]
     },
     "execution_count": 269,
     "metadata": {},
     "output_type": "execute_result"
    }
   ],
   "source": [
    "# выведем количество пропусков\n",
    "data['days_exposition'].isna().sum()"
   ]
  },
  {
   "cell_type": "code",
   "execution_count": 270,
   "metadata": {},
   "outputs": [
    {
     "data": {
      "text/plain": [
       "Timestamp('2019-05-03 00:00:00')"
      ]
     },
     "execution_count": 270,
     "metadata": {},
     "output_type": "execute_result"
    }
   ],
   "source": [
    "# найдем максимальную дату размещения объявления\n",
    "data_last = data['first_day_exposition'].max()\n",
    "#Выведем полученный результат\n",
    "data_last"
   ]
  },
  {
   "cell_type": "code",
   "execution_count": 271,
   "metadata": {},
   "outputs": [
    {
     "data": {
      "text/plain": [
       "0"
      ]
     },
     "execution_count": 271,
     "metadata": {},
     "output_type": "execute_result"
    }
   ],
   "source": [
    "# заполним пропуски days_exposition разностью first_day_exposition и late_data\n",
    "data.loc[data['days_exposition'].isna(),'days_exposition'] = \\\n",
    "(data_last - data.loc[data['days_exposition'].isna(),'first_day_exposition']).dt.days\n",
    "#Наличиее пропусков после обработки\n",
    "data['days_exposition'].isna().sum()"
   ]
  },
  {
   "cell_type": "markdown",
   "metadata": {},
   "source": [
    "## Пропусуки в столбцах cityCenters_nearest, parks_nearest, ponds_nearest,parks_around3000,ponds_around3000\n",
    "\n",
    "Так как в данных отутствуют точные адреса в данных полях нет возможности каким-либо образом точно категоризовать данные. Оставим пропуски."
   ]
  },
  {
   "cell_type": "markdown",
   "metadata": {},
   "source": [
    "# Изменение типа данных в столбце floors_total\n",
    "Так как этаж в квартире возможен только в виде целого числа, заменим на значение int."
   ]
  },
  {
   "cell_type": "code",
   "execution_count": 272,
   "metadata": {
    "scrolled": true
   },
   "outputs": [
    {
     "data": {
      "text/plain": [
       "0    16\n",
       "1    11\n",
       "2     5\n",
       "3    14\n",
       "4    14\n",
       "Name: floors_total, dtype: int64"
      ]
     },
     "execution_count": 272,
     "metadata": {},
     "output_type": "execute_result"
    }
   ],
   "source": [
    "data['floors_total'] = data['floors_total'].astype('int')\n",
    "\n",
    "#проверим результат\n",
    "data['floors_total'].head(5)"
   ]
  },
  {
   "cell_type": "markdown",
   "metadata": {},
   "source": [
    " "
   ]
  },
  {
   "cell_type": "markdown",
   "metadata": {},
   "source": [
    "## Приведение названий населенных пунктов locality_name к единому списку"
   ]
  },
  {
   "cell_type": "code",
   "execution_count": 273,
   "metadata": {
    "scrolled": false
   },
   "outputs": [
    {
     "data": {
      "text/plain": [
       "array(['Санкт-Петербург', 'посёлок Шушары', 'городской посёлок Янино-1',\n",
       "       'посёлок Парголово', 'посёлок Мурино', 'Ломоносов', 'Сертолово',\n",
       "       'Петергоф', 'Пушкин', 'деревня Кудрово', 'Коммунар', 'Колпино',\n",
       "       'поселок городского типа Красный Бор', 'Гатчина', 'поселок Мурино',\n",
       "       'деревня Фёдоровское', 'Выборг', 'Кронштадт', 'Кировск',\n",
       "       'деревня Новое Девяткино', 'посёлок Металлострой',\n",
       "       'посёлок городского типа Лебяжье',\n",
       "       'посёлок городского типа Сиверский', 'поселок Молодцово',\n",
       "       'поселок городского типа Кузьмоловский',\n",
       "       'садовое товарищество Новая Ропша', 'Павловск',\n",
       "       'деревня Пикколово', 'Всеволожск', 'Волхов', 'Кингисепп',\n",
       "       'Приозерск', 'Сестрорецк', 'деревня Куттузи', 'посёлок Аннино',\n",
       "       'поселок городского типа Ефимовский', 'посёлок Плодовое',\n",
       "       'деревня Заклинье', 'поселок Торковичи', 'поселок Первомайское',\n",
       "       'Красное Село', 'посёлок Понтонный', 'Сясьстрой', 'деревня Старая',\n",
       "       'деревня Лесколово', 'посёлок Новый Свет', 'Сланцы',\n",
       "       'село Путилово', 'Ивангород', 'Мурино', 'Шлиссельбург',\n",
       "       'Никольское', 'Зеленогорск', 'Сосновый Бор', 'поселок Новый Свет',\n",
       "       'деревня Оржицы', 'деревня Кальтино', 'Кудрово',\n",
       "       'поселок Романовка', 'посёлок Бугры', 'поселок Бугры',\n",
       "       'поселок городского типа Рощино', 'Кириши', 'Луга', 'Волосово',\n",
       "       'Отрадное', 'село Павлово', 'поселок Оредеж', 'село Копорье',\n",
       "       'посёлок городского типа Красный Бор', 'посёлок Молодёжное',\n",
       "       'Тихвин', 'посёлок Победа', 'деревня Нурма',\n",
       "       'поселок городского типа Синявино', 'Тосно',\n",
       "       'посёлок городского типа Кузьмоловский', 'посёлок Стрельна',\n",
       "       'Бокситогорск', 'посёлок Александровская', 'деревня Лопухинка',\n",
       "       'Пикалёво', 'поселок Терволово',\n",
       "       'поселок городского типа Советский', 'Подпорожье',\n",
       "       'посёлок Петровское', 'посёлок городского типа Токсово',\n",
       "       'поселок Сельцо', 'посёлок городского типа Вырица',\n",
       "       'деревня Кипень', 'деревня Келози', 'деревня Вартемяги',\n",
       "       'посёлок Тельмана', 'поселок Севастьяново',\n",
       "       'городской поселок Большая Ижора', 'городской посёлок Павлово',\n",
       "       'деревня Агалатово', 'посёлок Новогорелово',\n",
       "       'городской посёлок Лесогорский', 'деревня Лаголово',\n",
       "       'поселок Цвелодубово', 'поселок городского типа Рахья',\n",
       "       'поселок городского типа Вырица', 'деревня Белогорка',\n",
       "       'поселок Заводской', 'городской посёлок Новоселье',\n",
       "       'деревня Большие Колпаны', 'деревня Горбунки', 'деревня Батово',\n",
       "       'деревня Заневка', 'деревня Иссад', 'Приморск',\n",
       "       'городской посёлок Фёдоровское', 'деревня Мистолово',\n",
       "       'Новая Ладога', 'поселок Зимитицы', 'поселок Барышево',\n",
       "       'деревня Разметелево', 'поселок городского типа имени Свердлова',\n",
       "       'деревня Пеники', 'поселок Рябово', 'деревня Пудомяги',\n",
       "       'поселок станции Корнево', 'деревня Низино', 'деревня Бегуницы',\n",
       "       'посёлок Поляны', 'городской посёлок Мга', 'поселок Елизаветино',\n",
       "       'посёлок городского типа Кузнечное', 'деревня Колтуши',\n",
       "       'поселок Запорожское', 'посёлок городского типа Рощино',\n",
       "       'деревня Гостилицы', 'деревня Малое Карлино',\n",
       "       'посёлок Мичуринское', 'посёлок городского типа имени Морозова',\n",
       "       'посёлок Песочный', 'посёлок Сосново', 'деревня Аро',\n",
       "       'поселок Ильичёво', 'посёлок городского типа Тайцы',\n",
       "       'деревня Малое Верево', 'деревня Извара', 'поселок станции Вещево',\n",
       "       'село Паша', 'деревня Калитино',\n",
       "       'посёлок городского типа Ульяновка', 'деревня Чудской Бор',\n",
       "       'поселок городского типа Дубровка', 'деревня Мины',\n",
       "       'поселок Войсковицы', 'посёлок городского типа имени Свердлова',\n",
       "       'деревня Коркино', 'посёлок Ропша',\n",
       "       'поселок городского типа Приладожский', 'посёлок Щеглово',\n",
       "       'посёлок Гаврилово', 'Лодейное Поле', 'деревня Рабитицы',\n",
       "       'поселок городского типа Никольский', 'деревня Кузьмолово',\n",
       "       'деревня Малые Колпаны', 'поселок Тельмана',\n",
       "       'посёлок Петро-Славянка', 'городской посёлок Назия',\n",
       "       'посёлок Репино', 'посёлок Ильичёво', 'поселок Углово',\n",
       "       'поселок Старая Малукса', 'садовое товарищество Рахья',\n",
       "       'поселок Аннино', 'поселок Победа', 'деревня Меньково',\n",
       "       'деревня Старые Бегуницы', 'посёлок Сапёрный', 'поселок Семрино',\n",
       "       'поселок Гаврилово', 'поселок Глажево', 'поселок Кобринское',\n",
       "       'деревня Гарболово', 'деревня Юкки',\n",
       "       'поселок станции Приветнинское', 'деревня Мануйлово',\n",
       "       'деревня Пчева', 'поселок Поляны', 'поселок Цвылёво',\n",
       "       'поселок Мельниково', 'посёлок Пудость', 'посёлок Усть-Луга',\n",
       "       'Светогорск', 'Любань', 'поселок Селезнёво',\n",
       "       'поселок городского типа Рябово', 'Каменногорск', 'деревня Кривко',\n",
       "       'поселок Глебычево', 'деревня Парицы', 'поселок Жилпосёлок',\n",
       "       'посёлок городского типа Мга', 'городской поселок Янино-1',\n",
       "       'посёлок Войскорово', 'село Никольское', 'посёлок Терволово',\n",
       "       'поселок Стеклянный', 'посёлок городского типа Важины',\n",
       "       'посёлок Мыза-Ивановка', 'село Русско-Высоцкое',\n",
       "       'поселок городского типа Лебяжье',\n",
       "       'поселок городского типа Форносово', 'село Старая Ладога',\n",
       "       'поселок Житково', 'городской посёлок Виллози', 'деревня Лампово',\n",
       "       'деревня Шпаньково', 'деревня Лаврики', 'посёлок Сумино',\n",
       "       'посёлок Возрождение', 'деревня Старосиверская',\n",
       "       'посёлок Кикерино', 'поселок Возрождение',\n",
       "       'деревня Старое Хинколово', 'посёлок Пригородный',\n",
       "       'посёлок Торфяное', 'городской посёлок Будогощь',\n",
       "       'поселок Суходолье', 'поселок Красная Долина', 'деревня Хапо-Ое',\n",
       "       'поселок городского типа Дружная Горка', 'поселок Лисий Нос',\n",
       "       'деревня Яльгелево', 'посёлок Стеклянный', 'село Рождествено',\n",
       "       'деревня Старополье', 'посёлок Левашово', 'деревня Сяськелево',\n",
       "       'деревня Камышовка',\n",
       "       'садоводческое некоммерческое товарищество Лесная Поляна',\n",
       "       'деревня Хязельки', 'поселок Жилгородок',\n",
       "       'посёлок городского типа Павлово', 'деревня Ялгино',\n",
       "       'поселок Новый Учхоз', 'городской посёлок Рощино',\n",
       "       'поселок Гончарово', 'поселок Почап', 'посёлок Сапёрное',\n",
       "       'посёлок Платформа 69-й километр', 'поселок Каложицы',\n",
       "       'деревня Фалилеево', 'деревня Пельгора',\n",
       "       'поселок городского типа Лесогорский', 'деревня Торошковичи',\n",
       "       'посёлок Белоостров', 'посёлок Алексеевка', 'поселок Серебрянский',\n",
       "       'поселок Лукаши', 'поселок Петровское', 'деревня Щеглово',\n",
       "       'поселок Мичуринское', 'деревня Тарасово', 'поселок Кингисеппский',\n",
       "       'посёлок при железнодорожной станции Вещево', 'поселок Ушаки',\n",
       "       'деревня Котлы', 'деревня Сижно', 'деревня Торосово',\n",
       "       'посёлок Форт Красная Горка', 'поселок городского типа Токсово',\n",
       "       'деревня Новолисино', 'посёлок станции Громово', 'деревня Глинка',\n",
       "       'посёлок Мельниково', 'поселок городского типа Назия',\n",
       "       'деревня Старая Пустошь', 'поселок Коммунары', 'поселок Починок',\n",
       "       'посёлок городского типа Вознесенье', 'деревня Разбегаево',\n",
       "       'посёлок городского типа Рябово', 'поселок Гладкое',\n",
       "       'посёлок при железнодорожной станции Приветнинское',\n",
       "       'поселок Тёсово-4', 'посёлок Жилгородок', 'деревня Бор',\n",
       "       'посёлок Коробицыно', 'деревня Большая Вруда', 'деревня Курковицы',\n",
       "       'посёлок Лисий Нос', 'городской посёлок Советский',\n",
       "       'посёлок Кобралово', 'деревня Суоранда', 'поселок Кобралово',\n",
       "       'поселок городского типа Кондратьево',\n",
       "       'коттеджный поселок Счастье', 'поселок Любань', 'деревня Реброво',\n",
       "       'деревня Зимитицы', 'деревня Тойворово', 'поселок Семиозерье',\n",
       "       'поселок Лесное', 'поселок Совхозный', 'поселок Усть-Луга',\n",
       "       'посёлок Ленинское', 'посёлок Суйда',\n",
       "       'посёлок городского типа Форносово', 'деревня Нижние Осельки',\n",
       "       'посёлок станции Свирь', 'поселок Перово', 'Высоцк',\n",
       "       'поселок Гарболово', 'село Шум', 'поселок Котельский',\n",
       "       'поселок станции Лужайка', 'деревня Большая Пустомержа',\n",
       "       'поселок Красносельское', 'деревня Вахнова Кара', 'деревня Пижма',\n",
       "       'коттеджный поселок Кивеннапа Север', 'поселок Коробицыно',\n",
       "       'поселок Ромашки', 'посёлок Перово', 'деревня Каськово',\n",
       "       'деревня Куровицы', 'посёлок Плоское', 'поселок Сумино',\n",
       "       'поселок городского типа Большая Ижора', 'поселок Кирпичное',\n",
       "       'деревня Ям-Тесово', 'деревня Раздолье', 'деревня Терпилицы',\n",
       "       'посёлок Шугозеро', 'деревня Ваганово', 'поселок Пушное',\n",
       "       'садовое товарищество Садко', 'посёлок Усть-Ижора',\n",
       "       'деревня Выскатка', 'городской посёлок Свирьстрой',\n",
       "       'поселок Громово', 'деревня Кисельня', 'посёлок Старая Малукса',\n",
       "       'деревня Трубников Бор', 'поселок Калитино',\n",
       "       'посёлок Высокоключевой', 'садовое товарищество Приладожский',\n",
       "       'посёлок Пансионат Зелёный Бор', 'деревня Ненимяки',\n",
       "       'поселок Пансионат Зелёный Бор', 'деревня Снегирёвка',\n",
       "       'деревня Рапполово', 'деревня Пустынка', 'поселок Рабитицы',\n",
       "       'деревня Большой Сабск', 'деревня Русско', 'деревня Лупполово',\n",
       "       'деревня Большое Рейзино', 'деревня Малая Романовка',\n",
       "       'поселок Дружноселье', 'поселок Пчевжа', 'поселок Володарское',\n",
       "       'деревня Нижняя', 'коттеджный посёлок Лесное', 'деревня Тихковицы',\n",
       "       'деревня Борисова Грива', 'посёлок Дзержинского'], dtype=object)"
      ]
     },
     "execution_count": 273,
     "metadata": {},
     "output_type": "execute_result"
    }
   ],
   "source": [
    "#выведем список уникальных названий населенных пунктов до обработки\n",
    "data['locality_name'].unique()"
   ]
  },
  {
   "cell_type": "code",
   "execution_count": 274,
   "metadata": {},
   "outputs": [],
   "source": [
    "# напишем функцию чтобы оставть только название населенных пунктов\n",
    "\n",
    "def loc_name_correct(s):\n",
    "    for i in range(len(s)):\n",
    "        if s[i].isupper():\n",
    "            return s[i : len(s)]\n",
    "        \n",
    "data['locality_name'] = data['locality_name'].apply(loc_name_correct)"
   ]
  },
  {
   "cell_type": "code",
   "execution_count": 275,
   "metadata": {},
   "outputs": [
    {
     "data": {
      "text/plain": [
       "0        Санкт-Петербург\n",
       "1                 Шушары\n",
       "2        Санкт-Петербург\n",
       "3        Санкт-Петербург\n",
       "4        Санкт-Петербург\n",
       "              ...       \n",
       "23694    Санкт-Петербург\n",
       "23695              Тосно\n",
       "23696        Рождествено\n",
       "23697    Санкт-Петербург\n",
       "23698        Новый Учхоз\n",
       "Name: locality_name, Length: 23650, dtype: object"
      ]
     },
     "execution_count": 275,
     "metadata": {},
     "output_type": "execute_result"
    }
   ],
   "source": [
    "#выведем список уникальных названий населенных пунктов после обработки\n",
    "data['locality_name']"
   ]
  },
  {
   "cell_type": "markdown",
   "metadata": {},
   "source": [
    "# Найдите и устраните редкие и выбивающиеся значения (аномалии)"
   ]
  },
  {
   "cell_type": "markdown",
   "metadata": {},
   "source": [
    "Необходимо исправить аномальные значения 25 м и 32 м. Поправим их на 2.5 и 3.2   \n",
    "Перепишем данные в столбце ceiling_height"
   ]
  },
  {
   "cell_type": "code",
   "execution_count": 276,
   "metadata": {},
   "outputs": [
    {
     "data": {
      "text/plain": [
       "0     2.70\n",
       "1     2.65\n",
       "2     2.65\n",
       "3     2.65\n",
       "4     3.03\n",
       "5     2.65\n",
       "6     2.65\n",
       "7     2.65\n",
       "8     2.65\n",
       "9     2.50\n",
       "10    2.67\n",
       "11    2.65\n",
       "12    2.65\n",
       "13    2.56\n",
       "14    2.65\n",
       "Name: ceiling_height, dtype: float64"
      ]
     },
     "execution_count": 276,
     "metadata": {},
     "output_type": "execute_result"
    }
   ],
   "source": [
    "data.loc[data['ceiling_height']>20,'ceiling_height'] = data['ceiling_height'] / 10\n",
    "\n",
    "#выведем резульатт\n",
    "data['ceiling_height'].head(15)"
   ]
  },
  {
   "cell_type": "code",
   "execution_count": 277,
   "metadata": {},
   "outputs": [],
   "source": [
    "#так как потолки в квартире должны быть не менее 2.1м. удалим значения, не входящие в выборку:\n",
    "data = data.query('ceiling_height > 2.1')"
   ]
  },
  {
   "cell_type": "code",
   "execution_count": 278,
   "metadata": {},
   "outputs": [
    {
     "data": {
      "text/plain": [
       "4.65       1\n",
       "3.58       1\n",
       "2.99       1\n",
       "4.15       1\n",
       "3.44       1\n",
       "        ... \n",
       "3.00    1109\n",
       "2.70    1580\n",
       "2.60    1646\n",
       "2.50    3522\n",
       "2.65    9836\n",
       "Name: ceiling_height, Length: 173, dtype: int64"
      ]
     },
     "execution_count": 278,
     "metadata": {},
     "output_type": "execute_result"
    }
   ],
   "source": [
    "#проверим результат\n",
    "data['ceiling_height'].value_counts().sort_values(ascending=True)"
   ]
  },
  {
   "cell_type": "markdown",
   "metadata": {},
   "source": [
    "# Шаг 3. Добавление в таблицу новых столбцов"
   ]
  },
  {
   "cell_type": "markdown",
   "metadata": {},
   "source": [
    "## Цена одного квадратного метра"
   ]
  },
  {
   "cell_type": "code",
   "execution_count": 279,
   "metadata": {},
   "outputs": [],
   "source": [
    "# Цена одного квадратного метра рассчитывается как стоимость объекта деленная на его площадь\n",
    "data['price_for_metr'] = round(data['last_price'] / data['total_area'],2)"
   ]
  },
  {
   "cell_type": "code",
   "execution_count": 280,
   "metadata": {},
   "outputs": [
    {
     "data": {
      "text/html": [
       "<div>\n",
       "<style scoped>\n",
       "    .dataframe tbody tr th:only-of-type {\n",
       "        vertical-align: middle;\n",
       "    }\n",
       "\n",
       "    .dataframe tbody tr th {\n",
       "        vertical-align: top;\n",
       "    }\n",
       "\n",
       "    .dataframe thead th {\n",
       "        text-align: right;\n",
       "    }\n",
       "</style>\n",
       "<table border=\"1\" class=\"dataframe\">\n",
       "  <thead>\n",
       "    <tr style=\"text-align: right;\">\n",
       "      <th></th>\n",
       "      <th>total_images</th>\n",
       "      <th>last_price</th>\n",
       "      <th>total_area</th>\n",
       "      <th>first_day_exposition</th>\n",
       "      <th>rooms</th>\n",
       "      <th>ceiling_height</th>\n",
       "      <th>floors_total</th>\n",
       "      <th>living_area</th>\n",
       "      <th>floor</th>\n",
       "      <th>is_apartment</th>\n",
       "      <th>...</th>\n",
       "      <th>balcony</th>\n",
       "      <th>locality_name</th>\n",
       "      <th>airports_nearest</th>\n",
       "      <th>cityCenters_nearest</th>\n",
       "      <th>parks_around3000</th>\n",
       "      <th>parks_nearest</th>\n",
       "      <th>ponds_around3000</th>\n",
       "      <th>ponds_nearest</th>\n",
       "      <th>days_exposition</th>\n",
       "      <th>price_for_metr</th>\n",
       "    </tr>\n",
       "  </thead>\n",
       "  <tbody>\n",
       "    <tr>\n",
       "      <th>0</th>\n",
       "      <td>20</td>\n",
       "      <td>13000000.0</td>\n",
       "      <td>108.0</td>\n",
       "      <td>2019-03-07</td>\n",
       "      <td>3</td>\n",
       "      <td>2.70</td>\n",
       "      <td>16</td>\n",
       "      <td>51.000000</td>\n",
       "      <td>8</td>\n",
       "      <td>False</td>\n",
       "      <td>...</td>\n",
       "      <td>0.0</td>\n",
       "      <td>Санкт-Петербург</td>\n",
       "      <td>18863.0</td>\n",
       "      <td>16028.0</td>\n",
       "      <td>1.0</td>\n",
       "      <td>482.0</td>\n",
       "      <td>2.0</td>\n",
       "      <td>755.0</td>\n",
       "      <td>57.0</td>\n",
       "      <td>120370.37</td>\n",
       "    </tr>\n",
       "    <tr>\n",
       "      <th>1</th>\n",
       "      <td>7</td>\n",
       "      <td>3350000.0</td>\n",
       "      <td>40.4</td>\n",
       "      <td>2018-12-04</td>\n",
       "      <td>1</td>\n",
       "      <td>2.65</td>\n",
       "      <td>11</td>\n",
       "      <td>18.600000</td>\n",
       "      <td>1</td>\n",
       "      <td>False</td>\n",
       "      <td>...</td>\n",
       "      <td>2.0</td>\n",
       "      <td>Шушары</td>\n",
       "      <td>12817.0</td>\n",
       "      <td>18603.0</td>\n",
       "      <td>0.0</td>\n",
       "      <td>NaN</td>\n",
       "      <td>0.0</td>\n",
       "      <td>NaN</td>\n",
       "      <td>81.0</td>\n",
       "      <td>82920.79</td>\n",
       "    </tr>\n",
       "    <tr>\n",
       "      <th>2</th>\n",
       "      <td>10</td>\n",
       "      <td>5196000.0</td>\n",
       "      <td>56.0</td>\n",
       "      <td>2015-08-20</td>\n",
       "      <td>2</td>\n",
       "      <td>2.65</td>\n",
       "      <td>5</td>\n",
       "      <td>34.300000</td>\n",
       "      <td>4</td>\n",
       "      <td>False</td>\n",
       "      <td>...</td>\n",
       "      <td>0.0</td>\n",
       "      <td>Санкт-Петербург</td>\n",
       "      <td>21741.0</td>\n",
       "      <td>13933.0</td>\n",
       "      <td>1.0</td>\n",
       "      <td>90.0</td>\n",
       "      <td>2.0</td>\n",
       "      <td>574.0</td>\n",
       "      <td>558.0</td>\n",
       "      <td>92785.71</td>\n",
       "    </tr>\n",
       "    <tr>\n",
       "      <th>3</th>\n",
       "      <td>0</td>\n",
       "      <td>64900000.0</td>\n",
       "      <td>159.0</td>\n",
       "      <td>2015-07-24</td>\n",
       "      <td>3</td>\n",
       "      <td>2.65</td>\n",
       "      <td>14</td>\n",
       "      <td>90.289724</td>\n",
       "      <td>9</td>\n",
       "      <td>False</td>\n",
       "      <td>...</td>\n",
       "      <td>0.0</td>\n",
       "      <td>Санкт-Петербург</td>\n",
       "      <td>28098.0</td>\n",
       "      <td>6800.0</td>\n",
       "      <td>2.0</td>\n",
       "      <td>84.0</td>\n",
       "      <td>3.0</td>\n",
       "      <td>234.0</td>\n",
       "      <td>424.0</td>\n",
       "      <td>408176.10</td>\n",
       "    </tr>\n",
       "    <tr>\n",
       "      <th>4</th>\n",
       "      <td>2</td>\n",
       "      <td>10000000.0</td>\n",
       "      <td>100.0</td>\n",
       "      <td>2018-06-19</td>\n",
       "      <td>2</td>\n",
       "      <td>3.03</td>\n",
       "      <td>14</td>\n",
       "      <td>32.000000</td>\n",
       "      <td>13</td>\n",
       "      <td>False</td>\n",
       "      <td>...</td>\n",
       "      <td>0.0</td>\n",
       "      <td>Санкт-Петербург</td>\n",
       "      <td>31856.0</td>\n",
       "      <td>8098.0</td>\n",
       "      <td>2.0</td>\n",
       "      <td>112.0</td>\n",
       "      <td>1.0</td>\n",
       "      <td>48.0</td>\n",
       "      <td>121.0</td>\n",
       "      <td>100000.00</td>\n",
       "    </tr>\n",
       "  </tbody>\n",
       "</table>\n",
       "<p>5 rows × 23 columns</p>\n",
       "</div>"
      ],
      "text/plain": [
       "   total_images  last_price  total_area first_day_exposition  rooms  \\\n",
       "0            20  13000000.0       108.0           2019-03-07      3   \n",
       "1             7   3350000.0        40.4           2018-12-04      1   \n",
       "2            10   5196000.0        56.0           2015-08-20      2   \n",
       "3             0  64900000.0       159.0           2015-07-24      3   \n",
       "4             2  10000000.0       100.0           2018-06-19      2   \n",
       "\n",
       "   ceiling_height  floors_total  living_area  floor  is_apartment  ...  \\\n",
       "0            2.70            16    51.000000      8         False  ...   \n",
       "1            2.65            11    18.600000      1         False  ...   \n",
       "2            2.65             5    34.300000      4         False  ...   \n",
       "3            2.65            14    90.289724      9         False  ...   \n",
       "4            3.03            14    32.000000     13         False  ...   \n",
       "\n",
       "   balcony    locality_name  airports_nearest  cityCenters_nearest  \\\n",
       "0      0.0  Санкт-Петербург           18863.0              16028.0   \n",
       "1      2.0           Шушары           12817.0              18603.0   \n",
       "2      0.0  Санкт-Петербург           21741.0              13933.0   \n",
       "3      0.0  Санкт-Петербург           28098.0               6800.0   \n",
       "4      0.0  Санкт-Петербург           31856.0               8098.0   \n",
       "\n",
       "  parks_around3000  parks_nearest  ponds_around3000  ponds_nearest  \\\n",
       "0              1.0          482.0               2.0          755.0   \n",
       "1              0.0            NaN               0.0            NaN   \n",
       "2              1.0           90.0               2.0          574.0   \n",
       "3              2.0           84.0               3.0          234.0   \n",
       "4              2.0          112.0               1.0           48.0   \n",
       "\n",
       "   days_exposition  price_for_metr  \n",
       "0             57.0       120370.37  \n",
       "1             81.0        82920.79  \n",
       "2            558.0        92785.71  \n",
       "3            424.0       408176.10  \n",
       "4            121.0       100000.00  \n",
       "\n",
       "[5 rows x 23 columns]"
      ]
     },
     "execution_count": 280,
     "metadata": {},
     "output_type": "execute_result"
    }
   ],
   "source": [
    "data.head(5)"
   ]
  },
  {
   "cell_type": "markdown",
   "metadata": {},
   "source": [
    "## Добавление столбца день публикации объявления"
   ]
  },
  {
   "cell_type": "code",
   "execution_count": 281,
   "metadata": {},
   "outputs": [],
   "source": [
    "#Добавим столбец со днем публикации в таблицу\n",
    "\n",
    "data['week_day'] = data['first_day_exposition'].dt.weekday"
   ]
  },
  {
   "cell_type": "markdown",
   "metadata": {},
   "source": [
    "## Добавление столбца месяц объявления"
   ]
  },
  {
   "cell_type": "code",
   "execution_count": 282,
   "metadata": {},
   "outputs": [],
   "source": [
    "#Добавим столбец с месяем публикации в таблицу\n",
    "data['month'] = data['first_day_exposition'].dt.month"
   ]
  },
  {
   "cell_type": "markdown",
   "metadata": {},
   "source": [
    "## Добавление столбца год публикации объявления"
   ]
  },
  {
   "cell_type": "code",
   "execution_count": 283,
   "metadata": {},
   "outputs": [],
   "source": [
    "#Добавим столбец с годом публикации в таблицу\n",
    "data['year'] = data['first_day_exposition'].dt.year"
   ]
  },
  {
   "cell_type": "markdown",
   "metadata": {},
   "source": [
    " "
   ]
  },
  {
   "cell_type": "code",
   "execution_count": 284,
   "metadata": {},
   "outputs": [
    {
     "data": {
      "text/html": [
       "<div>\n",
       "<style scoped>\n",
       "    .dataframe tbody tr th:only-of-type {\n",
       "        vertical-align: middle;\n",
       "    }\n",
       "\n",
       "    .dataframe tbody tr th {\n",
       "        vertical-align: top;\n",
       "    }\n",
       "\n",
       "    .dataframe thead th {\n",
       "        text-align: right;\n",
       "    }\n",
       "</style>\n",
       "<table border=\"1\" class=\"dataframe\">\n",
       "  <thead>\n",
       "    <tr style=\"text-align: right;\">\n",
       "      <th></th>\n",
       "      <th>total_images</th>\n",
       "      <th>last_price</th>\n",
       "      <th>total_area</th>\n",
       "      <th>first_day_exposition</th>\n",
       "      <th>rooms</th>\n",
       "      <th>ceiling_height</th>\n",
       "      <th>floors_total</th>\n",
       "      <th>living_area</th>\n",
       "      <th>floor</th>\n",
       "      <th>is_apartment</th>\n",
       "      <th>...</th>\n",
       "      <th>cityCenters_nearest</th>\n",
       "      <th>parks_around3000</th>\n",
       "      <th>parks_nearest</th>\n",
       "      <th>ponds_around3000</th>\n",
       "      <th>ponds_nearest</th>\n",
       "      <th>days_exposition</th>\n",
       "      <th>price_for_metr</th>\n",
       "      <th>week_day</th>\n",
       "      <th>month</th>\n",
       "      <th>year</th>\n",
       "    </tr>\n",
       "  </thead>\n",
       "  <tbody>\n",
       "    <tr>\n",
       "      <th>0</th>\n",
       "      <td>20</td>\n",
       "      <td>13000000.0</td>\n",
       "      <td>108.0</td>\n",
       "      <td>2019-03-07</td>\n",
       "      <td>3</td>\n",
       "      <td>2.70</td>\n",
       "      <td>16</td>\n",
       "      <td>51.000000</td>\n",
       "      <td>8</td>\n",
       "      <td>False</td>\n",
       "      <td>...</td>\n",
       "      <td>16028.0</td>\n",
       "      <td>1.0</td>\n",
       "      <td>482.0</td>\n",
       "      <td>2.0</td>\n",
       "      <td>755.0</td>\n",
       "      <td>57.0</td>\n",
       "      <td>120370.37</td>\n",
       "      <td>3</td>\n",
       "      <td>3</td>\n",
       "      <td>2019</td>\n",
       "    </tr>\n",
       "    <tr>\n",
       "      <th>1</th>\n",
       "      <td>7</td>\n",
       "      <td>3350000.0</td>\n",
       "      <td>40.4</td>\n",
       "      <td>2018-12-04</td>\n",
       "      <td>1</td>\n",
       "      <td>2.65</td>\n",
       "      <td>11</td>\n",
       "      <td>18.600000</td>\n",
       "      <td>1</td>\n",
       "      <td>False</td>\n",
       "      <td>...</td>\n",
       "      <td>18603.0</td>\n",
       "      <td>0.0</td>\n",
       "      <td>NaN</td>\n",
       "      <td>0.0</td>\n",
       "      <td>NaN</td>\n",
       "      <td>81.0</td>\n",
       "      <td>82920.79</td>\n",
       "      <td>1</td>\n",
       "      <td>12</td>\n",
       "      <td>2018</td>\n",
       "    </tr>\n",
       "    <tr>\n",
       "      <th>2</th>\n",
       "      <td>10</td>\n",
       "      <td>5196000.0</td>\n",
       "      <td>56.0</td>\n",
       "      <td>2015-08-20</td>\n",
       "      <td>2</td>\n",
       "      <td>2.65</td>\n",
       "      <td>5</td>\n",
       "      <td>34.300000</td>\n",
       "      <td>4</td>\n",
       "      <td>False</td>\n",
       "      <td>...</td>\n",
       "      <td>13933.0</td>\n",
       "      <td>1.0</td>\n",
       "      <td>90.0</td>\n",
       "      <td>2.0</td>\n",
       "      <td>574.0</td>\n",
       "      <td>558.0</td>\n",
       "      <td>92785.71</td>\n",
       "      <td>3</td>\n",
       "      <td>8</td>\n",
       "      <td>2015</td>\n",
       "    </tr>\n",
       "    <tr>\n",
       "      <th>3</th>\n",
       "      <td>0</td>\n",
       "      <td>64900000.0</td>\n",
       "      <td>159.0</td>\n",
       "      <td>2015-07-24</td>\n",
       "      <td>3</td>\n",
       "      <td>2.65</td>\n",
       "      <td>14</td>\n",
       "      <td>90.289724</td>\n",
       "      <td>9</td>\n",
       "      <td>False</td>\n",
       "      <td>...</td>\n",
       "      <td>6800.0</td>\n",
       "      <td>2.0</td>\n",
       "      <td>84.0</td>\n",
       "      <td>3.0</td>\n",
       "      <td>234.0</td>\n",
       "      <td>424.0</td>\n",
       "      <td>408176.10</td>\n",
       "      <td>4</td>\n",
       "      <td>7</td>\n",
       "      <td>2015</td>\n",
       "    </tr>\n",
       "    <tr>\n",
       "      <th>4</th>\n",
       "      <td>2</td>\n",
       "      <td>10000000.0</td>\n",
       "      <td>100.0</td>\n",
       "      <td>2018-06-19</td>\n",
       "      <td>2</td>\n",
       "      <td>3.03</td>\n",
       "      <td>14</td>\n",
       "      <td>32.000000</td>\n",
       "      <td>13</td>\n",
       "      <td>False</td>\n",
       "      <td>...</td>\n",
       "      <td>8098.0</td>\n",
       "      <td>2.0</td>\n",
       "      <td>112.0</td>\n",
       "      <td>1.0</td>\n",
       "      <td>48.0</td>\n",
       "      <td>121.0</td>\n",
       "      <td>100000.00</td>\n",
       "      <td>1</td>\n",
       "      <td>6</td>\n",
       "      <td>2018</td>\n",
       "    </tr>\n",
       "  </tbody>\n",
       "</table>\n",
       "<p>5 rows × 26 columns</p>\n",
       "</div>"
      ],
      "text/plain": [
       "   total_images  last_price  total_area first_day_exposition  rooms  \\\n",
       "0            20  13000000.0       108.0           2019-03-07      3   \n",
       "1             7   3350000.0        40.4           2018-12-04      1   \n",
       "2            10   5196000.0        56.0           2015-08-20      2   \n",
       "3             0  64900000.0       159.0           2015-07-24      3   \n",
       "4             2  10000000.0       100.0           2018-06-19      2   \n",
       "\n",
       "   ceiling_height  floors_total  living_area  floor  is_apartment  ...  \\\n",
       "0            2.70            16    51.000000      8         False  ...   \n",
       "1            2.65            11    18.600000      1         False  ...   \n",
       "2            2.65             5    34.300000      4         False  ...   \n",
       "3            2.65            14    90.289724      9         False  ...   \n",
       "4            3.03            14    32.000000     13         False  ...   \n",
       "\n",
       "   cityCenters_nearest  parks_around3000  parks_nearest  ponds_around3000  \\\n",
       "0              16028.0               1.0          482.0               2.0   \n",
       "1              18603.0               0.0            NaN               0.0   \n",
       "2              13933.0               1.0           90.0               2.0   \n",
       "3               6800.0               2.0           84.0               3.0   \n",
       "4               8098.0               2.0          112.0               1.0   \n",
       "\n",
       "  ponds_nearest  days_exposition  price_for_metr  week_day  month  year  \n",
       "0         755.0             57.0       120370.37         3      3  2019  \n",
       "1           NaN             81.0        82920.79         1     12  2018  \n",
       "2         574.0            558.0        92785.71         3      8  2015  \n",
       "3         234.0            424.0       408176.10         4      7  2015  \n",
       "4          48.0            121.0       100000.00         1      6  2018  \n",
       "\n",
       "[5 rows x 26 columns]"
      ]
     },
     "execution_count": 284,
     "metadata": {},
     "output_type": "execute_result"
    }
   ],
   "source": [
    "# Проверим появление новых столбцов\n",
    "data.head(5)"
   ]
  },
  {
   "cell_type": "markdown",
   "metadata": {},
   "source": [
    "## Добавление столбца с типом этажа квартиры"
   ]
  },
  {
   "cell_type": "code",
   "execution_count": 285,
   "metadata": {},
   "outputs": [
    {
     "data": {
      "text/html": [
       "<div>\n",
       "<style scoped>\n",
       "    .dataframe tbody tr th:only-of-type {\n",
       "        vertical-align: middle;\n",
       "    }\n",
       "\n",
       "    .dataframe tbody tr th {\n",
       "        vertical-align: top;\n",
       "    }\n",
       "\n",
       "    .dataframe thead th {\n",
       "        text-align: right;\n",
       "    }\n",
       "</style>\n",
       "<table border=\"1\" class=\"dataframe\">\n",
       "  <thead>\n",
       "    <tr style=\"text-align: right;\">\n",
       "      <th></th>\n",
       "      <th>total_images</th>\n",
       "      <th>last_price</th>\n",
       "      <th>total_area</th>\n",
       "      <th>first_day_exposition</th>\n",
       "      <th>rooms</th>\n",
       "      <th>ceiling_height</th>\n",
       "      <th>floors_total</th>\n",
       "      <th>living_area</th>\n",
       "      <th>floor</th>\n",
       "      <th>is_apartment</th>\n",
       "      <th>...</th>\n",
       "      <th>parks_around3000</th>\n",
       "      <th>parks_nearest</th>\n",
       "      <th>ponds_around3000</th>\n",
       "      <th>ponds_nearest</th>\n",
       "      <th>days_exposition</th>\n",
       "      <th>price_for_metr</th>\n",
       "      <th>week_day</th>\n",
       "      <th>month</th>\n",
       "      <th>year</th>\n",
       "      <th>floor_category</th>\n",
       "    </tr>\n",
       "  </thead>\n",
       "  <tbody>\n",
       "    <tr>\n",
       "      <th>23684</th>\n",
       "      <td>20</td>\n",
       "      <td>21400000.0</td>\n",
       "      <td>145.00</td>\n",
       "      <td>2018-11-02</td>\n",
       "      <td>4</td>\n",
       "      <td>3.00</td>\n",
       "      <td>26</td>\n",
       "      <td>71.400000</td>\n",
       "      <td>17</td>\n",
       "      <td>False</td>\n",
       "      <td>...</td>\n",
       "      <td>0.0</td>\n",
       "      <td>NaN</td>\n",
       "      <td>0.0</td>\n",
       "      <td>NaN</td>\n",
       "      <td>182.0</td>\n",
       "      <td>147586.21</td>\n",
       "      <td>4</td>\n",
       "      <td>11</td>\n",
       "      <td>2018</td>\n",
       "      <td>Другой</td>\n",
       "    </tr>\n",
       "    <tr>\n",
       "      <th>23685</th>\n",
       "      <td>15</td>\n",
       "      <td>2490000.0</td>\n",
       "      <td>31.00</td>\n",
       "      <td>2019-01-24</td>\n",
       "      <td>1</td>\n",
       "      <td>2.50</td>\n",
       "      <td>5</td>\n",
       "      <td>17.300000</td>\n",
       "      <td>5</td>\n",
       "      <td>False</td>\n",
       "      <td>...</td>\n",
       "      <td>0.0</td>\n",
       "      <td>NaN</td>\n",
       "      <td>0.0</td>\n",
       "      <td>NaN</td>\n",
       "      <td>99.0</td>\n",
       "      <td>80322.58</td>\n",
       "      <td>3</td>\n",
       "      <td>1</td>\n",
       "      <td>2019</td>\n",
       "      <td>Последний</td>\n",
       "    </tr>\n",
       "    <tr>\n",
       "      <th>23686</th>\n",
       "      <td>8</td>\n",
       "      <td>3300000.0</td>\n",
       "      <td>31.00</td>\n",
       "      <td>2017-04-29</td>\n",
       "      <td>1</td>\n",
       "      <td>2.55</td>\n",
       "      <td>9</td>\n",
       "      <td>18.000000</td>\n",
       "      <td>6</td>\n",
       "      <td>False</td>\n",
       "      <td>...</td>\n",
       "      <td>1.0</td>\n",
       "      <td>140.0</td>\n",
       "      <td>1.0</td>\n",
       "      <td>317.0</td>\n",
       "      <td>193.0</td>\n",
       "      <td>106451.61</td>\n",
       "      <td>5</td>\n",
       "      <td>4</td>\n",
       "      <td>2017</td>\n",
       "      <td>Другой</td>\n",
       "    </tr>\n",
       "    <tr>\n",
       "      <th>23687</th>\n",
       "      <td>6</td>\n",
       "      <td>3200000.0</td>\n",
       "      <td>39.00</td>\n",
       "      <td>2017-12-16</td>\n",
       "      <td>1</td>\n",
       "      <td>2.65</td>\n",
       "      <td>9</td>\n",
       "      <td>20.000000</td>\n",
       "      <td>6</td>\n",
       "      <td>False</td>\n",
       "      <td>...</td>\n",
       "      <td>0.0</td>\n",
       "      <td>NaN</td>\n",
       "      <td>0.0</td>\n",
       "      <td>NaN</td>\n",
       "      <td>38.0</td>\n",
       "      <td>82051.28</td>\n",
       "      <td>5</td>\n",
       "      <td>12</td>\n",
       "      <td>2017</td>\n",
       "      <td>Другой</td>\n",
       "    </tr>\n",
       "    <tr>\n",
       "      <th>23688</th>\n",
       "      <td>19</td>\n",
       "      <td>9200000.0</td>\n",
       "      <td>101.00</td>\n",
       "      <td>2019-04-01</td>\n",
       "      <td>3</td>\n",
       "      <td>3.05</td>\n",
       "      <td>15</td>\n",
       "      <td>63.000000</td>\n",
       "      <td>12</td>\n",
       "      <td>False</td>\n",
       "      <td>...</td>\n",
       "      <td>0.0</td>\n",
       "      <td>NaN</td>\n",
       "      <td>0.0</td>\n",
       "      <td>NaN</td>\n",
       "      <td>23.0</td>\n",
       "      <td>91089.11</td>\n",
       "      <td>0</td>\n",
       "      <td>4</td>\n",
       "      <td>2019</td>\n",
       "      <td>Другой</td>\n",
       "    </tr>\n",
       "    <tr>\n",
       "      <th>23689</th>\n",
       "      <td>13</td>\n",
       "      <td>3550000.0</td>\n",
       "      <td>35.30</td>\n",
       "      <td>2018-02-28</td>\n",
       "      <td>1</td>\n",
       "      <td>2.86</td>\n",
       "      <td>15</td>\n",
       "      <td>16.300000</td>\n",
       "      <td>4</td>\n",
       "      <td>False</td>\n",
       "      <td>...</td>\n",
       "      <td>1.0</td>\n",
       "      <td>353.0</td>\n",
       "      <td>2.0</td>\n",
       "      <td>652.0</td>\n",
       "      <td>29.0</td>\n",
       "      <td>100566.57</td>\n",
       "      <td>2</td>\n",
       "      <td>2</td>\n",
       "      <td>2018</td>\n",
       "      <td>Другой</td>\n",
       "    </tr>\n",
       "    <tr>\n",
       "      <th>23690</th>\n",
       "      <td>3</td>\n",
       "      <td>5500000.0</td>\n",
       "      <td>52.00</td>\n",
       "      <td>2018-07-19</td>\n",
       "      <td>2</td>\n",
       "      <td>2.65</td>\n",
       "      <td>5</td>\n",
       "      <td>31.000000</td>\n",
       "      <td>2</td>\n",
       "      <td>False</td>\n",
       "      <td>...</td>\n",
       "      <td>1.0</td>\n",
       "      <td>300.0</td>\n",
       "      <td>0.0</td>\n",
       "      <td>NaN</td>\n",
       "      <td>15.0</td>\n",
       "      <td>105769.23</td>\n",
       "      <td>3</td>\n",
       "      <td>7</td>\n",
       "      <td>2018</td>\n",
       "      <td>Другой</td>\n",
       "    </tr>\n",
       "    <tr>\n",
       "      <th>23691</th>\n",
       "      <td>11</td>\n",
       "      <td>9470000.0</td>\n",
       "      <td>72.90</td>\n",
       "      <td>2016-10-13</td>\n",
       "      <td>2</td>\n",
       "      <td>2.75</td>\n",
       "      <td>25</td>\n",
       "      <td>40.300000</td>\n",
       "      <td>7</td>\n",
       "      <td>False</td>\n",
       "      <td>...</td>\n",
       "      <td>0.0</td>\n",
       "      <td>NaN</td>\n",
       "      <td>1.0</td>\n",
       "      <td>806.0</td>\n",
       "      <td>519.0</td>\n",
       "      <td>129903.98</td>\n",
       "      <td>3</td>\n",
       "      <td>10</td>\n",
       "      <td>2016</td>\n",
       "      <td>Другой</td>\n",
       "    </tr>\n",
       "    <tr>\n",
       "      <th>23692</th>\n",
       "      <td>2</td>\n",
       "      <td>1350000.0</td>\n",
       "      <td>30.00</td>\n",
       "      <td>2017-07-07</td>\n",
       "      <td>1</td>\n",
       "      <td>2.65</td>\n",
       "      <td>5</td>\n",
       "      <td>17.500000</td>\n",
       "      <td>4</td>\n",
       "      <td>False</td>\n",
       "      <td>...</td>\n",
       "      <td>NaN</td>\n",
       "      <td>NaN</td>\n",
       "      <td>NaN</td>\n",
       "      <td>NaN</td>\n",
       "      <td>413.0</td>\n",
       "      <td>45000.00</td>\n",
       "      <td>4</td>\n",
       "      <td>7</td>\n",
       "      <td>2017</td>\n",
       "      <td>Другой</td>\n",
       "    </tr>\n",
       "    <tr>\n",
       "      <th>23693</th>\n",
       "      <td>9</td>\n",
       "      <td>4600000.0</td>\n",
       "      <td>62.40</td>\n",
       "      <td>2016-08-05</td>\n",
       "      <td>3</td>\n",
       "      <td>2.60</td>\n",
       "      <td>9</td>\n",
       "      <td>40.000000</td>\n",
       "      <td>8</td>\n",
       "      <td>False</td>\n",
       "      <td>...</td>\n",
       "      <td>1.0</td>\n",
       "      <td>352.0</td>\n",
       "      <td>1.0</td>\n",
       "      <td>675.0</td>\n",
       "      <td>239.0</td>\n",
       "      <td>73717.95</td>\n",
       "      <td>4</td>\n",
       "      <td>8</td>\n",
       "      <td>2016</td>\n",
       "      <td>Другой</td>\n",
       "    </tr>\n",
       "    <tr>\n",
       "      <th>23694</th>\n",
       "      <td>9</td>\n",
       "      <td>9700000.0</td>\n",
       "      <td>133.81</td>\n",
       "      <td>2017-03-21</td>\n",
       "      <td>3</td>\n",
       "      <td>3.70</td>\n",
       "      <td>5</td>\n",
       "      <td>73.300000</td>\n",
       "      <td>3</td>\n",
       "      <td>False</td>\n",
       "      <td>...</td>\n",
       "      <td>1.0</td>\n",
       "      <td>796.0</td>\n",
       "      <td>3.0</td>\n",
       "      <td>381.0</td>\n",
       "      <td>773.0</td>\n",
       "      <td>72490.85</td>\n",
       "      <td>1</td>\n",
       "      <td>3</td>\n",
       "      <td>2017</td>\n",
       "      <td>Другой</td>\n",
       "    </tr>\n",
       "    <tr>\n",
       "      <th>23695</th>\n",
       "      <td>14</td>\n",
       "      <td>3100000.0</td>\n",
       "      <td>59.00</td>\n",
       "      <td>2018-01-15</td>\n",
       "      <td>3</td>\n",
       "      <td>2.65</td>\n",
       "      <td>5</td>\n",
       "      <td>38.000000</td>\n",
       "      <td>4</td>\n",
       "      <td>False</td>\n",
       "      <td>...</td>\n",
       "      <td>NaN</td>\n",
       "      <td>NaN</td>\n",
       "      <td>NaN</td>\n",
       "      <td>NaN</td>\n",
       "      <td>45.0</td>\n",
       "      <td>52542.37</td>\n",
       "      <td>0</td>\n",
       "      <td>1</td>\n",
       "      <td>2018</td>\n",
       "      <td>Другой</td>\n",
       "    </tr>\n",
       "    <tr>\n",
       "      <th>23696</th>\n",
       "      <td>18</td>\n",
       "      <td>2500000.0</td>\n",
       "      <td>56.70</td>\n",
       "      <td>2018-02-11</td>\n",
       "      <td>2</td>\n",
       "      <td>2.65</td>\n",
       "      <td>3</td>\n",
       "      <td>29.700000</td>\n",
       "      <td>1</td>\n",
       "      <td>False</td>\n",
       "      <td>...</td>\n",
       "      <td>NaN</td>\n",
       "      <td>NaN</td>\n",
       "      <td>NaN</td>\n",
       "      <td>NaN</td>\n",
       "      <td>446.0</td>\n",
       "      <td>44091.71</td>\n",
       "      <td>6</td>\n",
       "      <td>2</td>\n",
       "      <td>2018</td>\n",
       "      <td>Первый</td>\n",
       "    </tr>\n",
       "    <tr>\n",
       "      <th>23697</th>\n",
       "      <td>13</td>\n",
       "      <td>11475000.0</td>\n",
       "      <td>76.75</td>\n",
       "      <td>2017-03-28</td>\n",
       "      <td>2</td>\n",
       "      <td>3.00</td>\n",
       "      <td>17</td>\n",
       "      <td>43.583247</td>\n",
       "      <td>12</td>\n",
       "      <td>False</td>\n",
       "      <td>...</td>\n",
       "      <td>2.0</td>\n",
       "      <td>173.0</td>\n",
       "      <td>3.0</td>\n",
       "      <td>196.0</td>\n",
       "      <td>602.0</td>\n",
       "      <td>149511.40</td>\n",
       "      <td>1</td>\n",
       "      <td>3</td>\n",
       "      <td>2017</td>\n",
       "      <td>Другой</td>\n",
       "    </tr>\n",
       "    <tr>\n",
       "      <th>23698</th>\n",
       "      <td>4</td>\n",
       "      <td>1350000.0</td>\n",
       "      <td>32.30</td>\n",
       "      <td>2017-07-21</td>\n",
       "      <td>1</td>\n",
       "      <td>2.50</td>\n",
       "      <td>5</td>\n",
       "      <td>12.300000</td>\n",
       "      <td>1</td>\n",
       "      <td>False</td>\n",
       "      <td>...</td>\n",
       "      <td>NaN</td>\n",
       "      <td>NaN</td>\n",
       "      <td>NaN</td>\n",
       "      <td>NaN</td>\n",
       "      <td>651.0</td>\n",
       "      <td>41795.67</td>\n",
       "      <td>4</td>\n",
       "      <td>7</td>\n",
       "      <td>2017</td>\n",
       "      <td>Первый</td>\n",
       "    </tr>\n",
       "  </tbody>\n",
       "</table>\n",
       "<p>15 rows × 27 columns</p>\n",
       "</div>"
      ],
      "text/plain": [
       "       total_images  last_price  total_area first_day_exposition  rooms  \\\n",
       "23684            20  21400000.0      145.00           2018-11-02      4   \n",
       "23685            15   2490000.0       31.00           2019-01-24      1   \n",
       "23686             8   3300000.0       31.00           2017-04-29      1   \n",
       "23687             6   3200000.0       39.00           2017-12-16      1   \n",
       "23688            19   9200000.0      101.00           2019-04-01      3   \n",
       "23689            13   3550000.0       35.30           2018-02-28      1   \n",
       "23690             3   5500000.0       52.00           2018-07-19      2   \n",
       "23691            11   9470000.0       72.90           2016-10-13      2   \n",
       "23692             2   1350000.0       30.00           2017-07-07      1   \n",
       "23693             9   4600000.0       62.40           2016-08-05      3   \n",
       "23694             9   9700000.0      133.81           2017-03-21      3   \n",
       "23695            14   3100000.0       59.00           2018-01-15      3   \n",
       "23696            18   2500000.0       56.70           2018-02-11      2   \n",
       "23697            13  11475000.0       76.75           2017-03-28      2   \n",
       "23698             4   1350000.0       32.30           2017-07-21      1   \n",
       "\n",
       "       ceiling_height  floors_total  living_area  floor  is_apartment  ...  \\\n",
       "23684            3.00            26    71.400000     17         False  ...   \n",
       "23685            2.50             5    17.300000      5         False  ...   \n",
       "23686            2.55             9    18.000000      6         False  ...   \n",
       "23687            2.65             9    20.000000      6         False  ...   \n",
       "23688            3.05            15    63.000000     12         False  ...   \n",
       "23689            2.86            15    16.300000      4         False  ...   \n",
       "23690            2.65             5    31.000000      2         False  ...   \n",
       "23691            2.75            25    40.300000      7         False  ...   \n",
       "23692            2.65             5    17.500000      4         False  ...   \n",
       "23693            2.60             9    40.000000      8         False  ...   \n",
       "23694            3.70             5    73.300000      3         False  ...   \n",
       "23695            2.65             5    38.000000      4         False  ...   \n",
       "23696            2.65             3    29.700000      1         False  ...   \n",
       "23697            3.00            17    43.583247     12         False  ...   \n",
       "23698            2.50             5    12.300000      1         False  ...   \n",
       "\n",
       "       parks_around3000  parks_nearest  ponds_around3000  ponds_nearest  \\\n",
       "23684               0.0            NaN               0.0            NaN   \n",
       "23685               0.0            NaN               0.0            NaN   \n",
       "23686               1.0          140.0               1.0          317.0   \n",
       "23687               0.0            NaN               0.0            NaN   \n",
       "23688               0.0            NaN               0.0            NaN   \n",
       "23689               1.0          353.0               2.0          652.0   \n",
       "23690               1.0          300.0               0.0            NaN   \n",
       "23691               0.0            NaN               1.0          806.0   \n",
       "23692               NaN            NaN               NaN            NaN   \n",
       "23693               1.0          352.0               1.0          675.0   \n",
       "23694               1.0          796.0               3.0          381.0   \n",
       "23695               NaN            NaN               NaN            NaN   \n",
       "23696               NaN            NaN               NaN            NaN   \n",
       "23697               2.0          173.0               3.0          196.0   \n",
       "23698               NaN            NaN               NaN            NaN   \n",
       "\n",
       "      days_exposition  price_for_metr  week_day  month  year  floor_category  \n",
       "23684           182.0       147586.21         4     11  2018          Другой  \n",
       "23685            99.0        80322.58         3      1  2019       Последний  \n",
       "23686           193.0       106451.61         5      4  2017          Другой  \n",
       "23687            38.0        82051.28         5     12  2017          Другой  \n",
       "23688            23.0        91089.11         0      4  2019          Другой  \n",
       "23689            29.0       100566.57         2      2  2018          Другой  \n",
       "23690            15.0       105769.23         3      7  2018          Другой  \n",
       "23691           519.0       129903.98         3     10  2016          Другой  \n",
       "23692           413.0        45000.00         4      7  2017          Другой  \n",
       "23693           239.0        73717.95         4      8  2016          Другой  \n",
       "23694           773.0        72490.85         1      3  2017          Другой  \n",
       "23695            45.0        52542.37         0      1  2018          Другой  \n",
       "23696           446.0        44091.71         6      2  2018          Первый  \n",
       "23697           602.0       149511.40         1      3  2017          Другой  \n",
       "23698           651.0        41795.67         4      7  2017          Первый  \n",
       "\n",
       "[15 rows x 27 columns]"
      ]
     },
     "execution_count": 285,
     "metadata": {},
     "output_type": "execute_result"
    }
   ],
   "source": [
    "#С помощью функции добавим столбец с типом этажа квартиры (значения — «первый», «последний», «другой»)\n",
    "\n",
    "def floor_cat(row):\n",
    "    total_floors = row['floors_total']\n",
    "    floor = row['floor']\n",
    "    if floor == total_floors:\n",
    "        return 'Последний'\n",
    "    elif floor == 1:\n",
    "        return 'Первый'\n",
    "    return 'Другой'\n",
    "\n",
    "\n",
    "data['floor_category'] = data.apply(floor_cat, axis=1)\n",
    "#Выведем для проверки \n",
    "data.tail(15)"
   ]
  },
  {
   "cell_type": "markdown",
   "metadata": {},
   "source": [
    "## Добавление столбца с расстоянием до центра города в километрах"
   ]
  },
  {
   "cell_type": "code",
   "execution_count": 286,
   "metadata": {},
   "outputs": [],
   "source": [
    "#Добавим столбец с округленными значениями расстояния до центра города в километрах\n",
    "data['close_to_cityCenter'] = round(data['cityCenters_nearest'] / 1000)"
   ]
  },
  {
   "cell_type": "code",
   "execution_count": 287,
   "metadata": {},
   "outputs": [
    {
     "data": {
      "text/html": [
       "<div>\n",
       "<style scoped>\n",
       "    .dataframe tbody tr th:only-of-type {\n",
       "        vertical-align: middle;\n",
       "    }\n",
       "\n",
       "    .dataframe tbody tr th {\n",
       "        vertical-align: top;\n",
       "    }\n",
       "\n",
       "    .dataframe thead th {\n",
       "        text-align: right;\n",
       "    }\n",
       "</style>\n",
       "<table border=\"1\" class=\"dataframe\">\n",
       "  <thead>\n",
       "    <tr style=\"text-align: right;\">\n",
       "      <th></th>\n",
       "      <th>total_images</th>\n",
       "      <th>last_price</th>\n",
       "      <th>total_area</th>\n",
       "      <th>first_day_exposition</th>\n",
       "      <th>rooms</th>\n",
       "      <th>ceiling_height</th>\n",
       "      <th>floors_total</th>\n",
       "      <th>living_area</th>\n",
       "      <th>floor</th>\n",
       "      <th>is_apartment</th>\n",
       "      <th>...</th>\n",
       "      <th>parks_nearest</th>\n",
       "      <th>ponds_around3000</th>\n",
       "      <th>ponds_nearest</th>\n",
       "      <th>days_exposition</th>\n",
       "      <th>price_for_metr</th>\n",
       "      <th>week_day</th>\n",
       "      <th>month</th>\n",
       "      <th>year</th>\n",
       "      <th>floor_category</th>\n",
       "      <th>close_to_cityCenter</th>\n",
       "    </tr>\n",
       "  </thead>\n",
       "  <tbody>\n",
       "    <tr>\n",
       "      <th>0</th>\n",
       "      <td>20</td>\n",
       "      <td>13000000.0</td>\n",
       "      <td>108.0</td>\n",
       "      <td>2019-03-07</td>\n",
       "      <td>3</td>\n",
       "      <td>2.70</td>\n",
       "      <td>16</td>\n",
       "      <td>51.000000</td>\n",
       "      <td>8</td>\n",
       "      <td>False</td>\n",
       "      <td>...</td>\n",
       "      <td>482.0</td>\n",
       "      <td>2.0</td>\n",
       "      <td>755.0</td>\n",
       "      <td>57.0</td>\n",
       "      <td>120370.37</td>\n",
       "      <td>3</td>\n",
       "      <td>3</td>\n",
       "      <td>2019</td>\n",
       "      <td>Другой</td>\n",
       "      <td>16.0</td>\n",
       "    </tr>\n",
       "    <tr>\n",
       "      <th>1</th>\n",
       "      <td>7</td>\n",
       "      <td>3350000.0</td>\n",
       "      <td>40.4</td>\n",
       "      <td>2018-12-04</td>\n",
       "      <td>1</td>\n",
       "      <td>2.65</td>\n",
       "      <td>11</td>\n",
       "      <td>18.600000</td>\n",
       "      <td>1</td>\n",
       "      <td>False</td>\n",
       "      <td>...</td>\n",
       "      <td>NaN</td>\n",
       "      <td>0.0</td>\n",
       "      <td>NaN</td>\n",
       "      <td>81.0</td>\n",
       "      <td>82920.79</td>\n",
       "      <td>1</td>\n",
       "      <td>12</td>\n",
       "      <td>2018</td>\n",
       "      <td>Первый</td>\n",
       "      <td>19.0</td>\n",
       "    </tr>\n",
       "    <tr>\n",
       "      <th>2</th>\n",
       "      <td>10</td>\n",
       "      <td>5196000.0</td>\n",
       "      <td>56.0</td>\n",
       "      <td>2015-08-20</td>\n",
       "      <td>2</td>\n",
       "      <td>2.65</td>\n",
       "      <td>5</td>\n",
       "      <td>34.300000</td>\n",
       "      <td>4</td>\n",
       "      <td>False</td>\n",
       "      <td>...</td>\n",
       "      <td>90.0</td>\n",
       "      <td>2.0</td>\n",
       "      <td>574.0</td>\n",
       "      <td>558.0</td>\n",
       "      <td>92785.71</td>\n",
       "      <td>3</td>\n",
       "      <td>8</td>\n",
       "      <td>2015</td>\n",
       "      <td>Другой</td>\n",
       "      <td>14.0</td>\n",
       "    </tr>\n",
       "    <tr>\n",
       "      <th>3</th>\n",
       "      <td>0</td>\n",
       "      <td>64900000.0</td>\n",
       "      <td>159.0</td>\n",
       "      <td>2015-07-24</td>\n",
       "      <td>3</td>\n",
       "      <td>2.65</td>\n",
       "      <td>14</td>\n",
       "      <td>90.289724</td>\n",
       "      <td>9</td>\n",
       "      <td>False</td>\n",
       "      <td>...</td>\n",
       "      <td>84.0</td>\n",
       "      <td>3.0</td>\n",
       "      <td>234.0</td>\n",
       "      <td>424.0</td>\n",
       "      <td>408176.10</td>\n",
       "      <td>4</td>\n",
       "      <td>7</td>\n",
       "      <td>2015</td>\n",
       "      <td>Другой</td>\n",
       "      <td>7.0</td>\n",
       "    </tr>\n",
       "    <tr>\n",
       "      <th>4</th>\n",
       "      <td>2</td>\n",
       "      <td>10000000.0</td>\n",
       "      <td>100.0</td>\n",
       "      <td>2018-06-19</td>\n",
       "      <td>2</td>\n",
       "      <td>3.03</td>\n",
       "      <td>14</td>\n",
       "      <td>32.000000</td>\n",
       "      <td>13</td>\n",
       "      <td>False</td>\n",
       "      <td>...</td>\n",
       "      <td>112.0</td>\n",
       "      <td>1.0</td>\n",
       "      <td>48.0</td>\n",
       "      <td>121.0</td>\n",
       "      <td>100000.00</td>\n",
       "      <td>1</td>\n",
       "      <td>6</td>\n",
       "      <td>2018</td>\n",
       "      <td>Другой</td>\n",
       "      <td>8.0</td>\n",
       "    </tr>\n",
       "  </tbody>\n",
       "</table>\n",
       "<p>5 rows × 28 columns</p>\n",
       "</div>"
      ],
      "text/plain": [
       "   total_images  last_price  total_area first_day_exposition  rooms  \\\n",
       "0            20  13000000.0       108.0           2019-03-07      3   \n",
       "1             7   3350000.0        40.4           2018-12-04      1   \n",
       "2            10   5196000.0        56.0           2015-08-20      2   \n",
       "3             0  64900000.0       159.0           2015-07-24      3   \n",
       "4             2  10000000.0       100.0           2018-06-19      2   \n",
       "\n",
       "   ceiling_height  floors_total  living_area  floor  is_apartment  ...  \\\n",
       "0            2.70            16    51.000000      8         False  ...   \n",
       "1            2.65            11    18.600000      1         False  ...   \n",
       "2            2.65             5    34.300000      4         False  ...   \n",
       "3            2.65            14    90.289724      9         False  ...   \n",
       "4            3.03            14    32.000000     13         False  ...   \n",
       "\n",
       "   parks_nearest  ponds_around3000  ponds_nearest  days_exposition  \\\n",
       "0          482.0               2.0          755.0             57.0   \n",
       "1            NaN               0.0            NaN             81.0   \n",
       "2           90.0               2.0          574.0            558.0   \n",
       "3           84.0               3.0          234.0            424.0   \n",
       "4          112.0               1.0           48.0            121.0   \n",
       "\n",
       "  price_for_metr  week_day  month  year  floor_category  close_to_cityCenter  \n",
       "0      120370.37         3      3  2019          Другой                 16.0  \n",
       "1       82920.79         1     12  2018          Первый                 19.0  \n",
       "2       92785.71         3      8  2015          Другой                 14.0  \n",
       "3      408176.10         4      7  2015          Другой                  7.0  \n",
       "4      100000.00         1      6  2018          Другой                  8.0  \n",
       "\n",
       "[5 rows x 28 columns]"
      ]
     },
     "execution_count": 287,
     "metadata": {},
     "output_type": "execute_result"
    }
   ],
   "source": [
    "data.head(5)"
   ]
  },
  {
   "cell_type": "markdown",
   "metadata": {},
   "source": [
    "# Шаг 4. Исследовательский анализ данных"
   ]
  },
  {
   "cell_type": "markdown",
   "metadata": {},
   "source": [
    "### Изучение общей площади"
   ]
  },
  {
   "cell_type": "code",
   "execution_count": 288,
   "metadata": {},
   "outputs": [
    {
     "data": {
      "text/plain": [
       "<AxesSubplot:>"
      ]
     },
     "execution_count": 288,
     "metadata": {},
     "output_type": "execute_result"
    },
    {
     "data": {
      "image/png": "[encoded data removed]",
      "text/plain": [
       "<Figure size 432x288 with 1 Axes>"
      ]
     },
     "metadata": {
      "needs_background": "light"
     },
     "output_type": "display_data"
    }
   ],
   "source": [
    "#Построим гисторгамму по столбцу\n",
    "\n",
    "data['total_area'].hist(bins=100, range=(0,300), legend=True)"
   ]
  },
  {
   "cell_type": "markdown",
   "metadata": {},
   "source": [
    "Вывод:\n",
    "В основном площадь квартир датасета находится в промежутке от 30 до 70 квадратных метров"
   ]
  },
  {
   "cell_type": "markdown",
   "metadata": {},
   "source": [
    "### Изучение жилой площади"
   ]
  },
  {
   "cell_type": "code",
   "execution_count": 289,
   "metadata": {},
   "outputs": [
    {
     "data": {
      "text/plain": [
       "<AxesSubplot:>"
      ]
     },
     "execution_count": 289,
     "metadata": {},
     "output_type": "execute_result"
    },
    {
     "data": {
      "image/png": "[encoded data removed]",
      "text/plain": [
       "<Figure size 432x288 with 1 Axes>"
      ]
     },
     "metadata": {
      "needs_background": "light"
     },
     "output_type": "display_data"
    }
   ],
   "source": [
    "#Построим график\n",
    "data['living_area'].hist(bins=20, range=(0,100), legend=True)"
   ]
  },
  {
   "cell_type": "markdown",
   "metadata": {},
   "source": [
    "Вывод:\n",
    "    Четко прослеживаются 2 пика. Основная жилая площадь квартир находится в промежутках 15-20 и 25-35 кв м. "
   ]
  },
  {
   "cell_type": "markdown",
   "metadata": {},
   "source": [
    "## Изучим площадь кухни"
   ]
  },
  {
   "cell_type": "code",
   "execution_count": 290,
   "metadata": {},
   "outputs": [
    {
     "data": {
      "text/plain": [
       "<AxesSubplot:>"
      ]
     },
     "execution_count": 290,
     "metadata": {},
     "output_type": "execute_result"
    },
    {
     "data": {
      "image/png": "[encoded data removed]",
      "text/plain": [
       "<Figure size 720x360 with 1 Axes>"
      ]
     },
     "metadata": {
      "needs_background": "light"
     },
     "output_type": "display_data"
    }
   ],
   "source": [
    "#Построим график\n",
    "data['kitchen_area'].hist(figsize = (10,5), bins=30, range=(0,70), legend=True)"
   ]
  },
  {
   "cell_type": "markdown",
   "metadata": {},
   "source": [
    "Вывод:\n",
    "    В основном площадь кухни находитмся в промежутке 5-15 м2"
   ]
  },
  {
   "cell_type": "markdown",
   "metadata": {},
   "source": [
    "## Цена объекта"
   ]
  },
  {
   "cell_type": "code",
   "execution_count": 291,
   "metadata": {},
   "outputs": [
    {
     "data": {
      "text/plain": [
       "<AxesSubplot:>"
      ]
     },
     "execution_count": 291,
     "metadata": {},
     "output_type": "execute_result"
    },
    {
     "data": {
      "image/png": "[encoded data removed]",
      "text/plain": [
       "<Figure size 432x288 with 1 Axes>"
      ]
     },
     "metadata": {
      "needs_background": "light"
     },
     "output_type": "display_data"
    }
   ],
   "source": [
    "#Построим график\n",
    "\n",
    "data['last_price'].hist(bins=100, range=(0, 7000000))"
   ]
  },
  {
   "cell_type": "markdown",
   "metadata": {},
   "source": [
    "Вывод: большая часть цен на квартиры находтся в пределах 3-5 млн"
   ]
  },
  {
   "cell_type": "markdown",
   "metadata": {},
   "source": [
    "## Количество комнат"
   ]
  },
  {
   "cell_type": "code",
   "execution_count": 292,
   "metadata": {},
   "outputs": [
    {
     "data": {
      "text/plain": [
       "array([[<AxesSubplot:title={'center':'rooms'}>]], dtype=object)"
      ]
     },
     "execution_count": 292,
     "metadata": {},
     "output_type": "execute_result"
    },
    {
     "data": {
      "image/png": "[encoded data removed]",
      "text/plain": [
       "<Figure size 432x288 with 1 Axes>"
      ]
     },
     "metadata": {
      "needs_background": "light"
     },
     "output_type": "display_data"
    }
   ],
   "source": [
    "#сделаем срез данных : уберем квартиры -студии и помещения без указания комнат и построим график\n",
    "\n",
    "data.query('studio == False & rooms != 0').hist('rooms', bins=100, range=(0,8))"
   ]
  },
  {
   "cell_type": "markdown",
   "metadata": {},
   "source": [
    "Вывод:\n",
    "    в основном в данных представленны 1-3 комнатные квартиры"
   ]
  },
  {
   "cell_type": "markdown",
   "metadata": {},
   "source": [
    "## Высота потолков"
   ]
  },
  {
   "cell_type": "code",
   "execution_count": 293,
   "metadata": {},
   "outputs": [
    {
     "data": {
      "text/plain": [
       "<AxesSubplot:>"
      ]
     },
     "execution_count": 293,
     "metadata": {},
     "output_type": "execute_result"
    },
    {
     "data": {
      "image/png": "[encoded data removed]",
      "text/plain": [
       "<Figure size 432x288 with 1 Axes>"
      ]
     },
     "metadata": {
      "needs_background": "light"
     },
     "output_type": "display_data"
    }
   ],
   "source": [
    "data['ceiling_height'].hist(bins=40, range=(2, 5))"
   ]
  },
  {
   "cell_type": "markdown",
   "metadata": {},
   "source": [
    "Вывод:\n",
    "    Большая часть кваритир в данных с потолками 2.65 м"
   ]
  },
  {
   "cell_type": "markdown",
   "metadata": {},
   "source": [
    "## Этаж квартиры"
   ]
  },
  {
   "cell_type": "code",
   "execution_count": 294,
   "metadata": {},
   "outputs": [
    {
     "data": {
      "text/plain": [
       "<AxesSubplot:>"
      ]
     },
     "execution_count": 294,
     "metadata": {},
     "output_type": "execute_result"
    },
    {
     "data": {
      "image/png": "[encoded data removed]",
      "text/plain": [
       "<Figure size 432x288 with 1 Axes>"
      ]
     },
     "metadata": {
      "needs_background": "light"
     },
     "output_type": "display_data"
    }
   ],
   "source": [
    "data['floor'].hist(bins=10, range=(0, 30))"
   ]
  },
  {
   "cell_type": "markdown",
   "metadata": {},
   "source": [
    "Вывод: в данных представленны в основном квартиры с 1 по 7 этаж"
   ]
  },
  {
   "cell_type": "markdown",
   "metadata": {},
   "source": [
    "## Тип этажа квартиры («первый», «последний», «другой»)"
   ]
  },
  {
   "cell_type": "code",
   "execution_count": 295,
   "metadata": {},
   "outputs": [
    {
     "data": {
      "text/plain": [
       "<AxesSubplot:>"
      ]
     },
     "execution_count": 295,
     "metadata": {},
     "output_type": "execute_result"
    },
    {
     "data": {
      "image/png": "[encoded data removed]",
      "text/plain": [
       "<Figure size 432x288 with 1 Axes>"
      ]
     },
     "metadata": {
      "needs_background": "light"
     },
     "output_type": "display_data"
    }
   ],
   "source": [
    "data['floor_category'].hist(bins=10)"
   ]
  },
  {
   "cell_type": "markdown",
   "metadata": {},
   "source": [
    "Вывод:\n",
    "В основном в данных квартиры из категории Другой"
   ]
  },
  {
   "cell_type": "markdown",
   "metadata": {},
   "source": [
    "## Общее количество этажей в доме"
   ]
  },
  {
   "cell_type": "code",
   "execution_count": 296,
   "metadata": {},
   "outputs": [
    {
     "data": {
      "text/plain": [
       "<AxesSubplot:>"
      ]
     },
     "execution_count": 296,
     "metadata": {},
     "output_type": "execute_result"
    },
    {
     "data": {
      "image/png": "[encoded data removed]",
      "text/plain": [
       "<Figure size 432x288 with 1 Axes>"
      ]
     },
     "metadata": {
      "needs_background": "light"
     },
     "output_type": "display_data"
    }
   ],
   "source": [
    "data['floors_total'].hist(bins=30,range=(0, 40))"
   ]
  },
  {
   "cell_type": "markdown",
   "metadata": {},
   "source": [
    "Вывод: в данных квартиры в основном с 4 по 6 этаж. Квартиры в основной массе в многоэтажных задниях до 25 этажей. В многоэтажных зданиях (свыше 25 этажей) количество квартир существенно меньше."
   ]
  },
  {
   "cell_type": "markdown",
   "metadata": {},
   "source": [
    "## Расстояние до центра города в метрах"
   ]
  },
  {
   "cell_type": "code",
   "execution_count": 297,
   "metadata": {},
   "outputs": [
    {
     "data": {
      "text/plain": [
       "<AxesSubplot:>"
      ]
     },
     "execution_count": 297,
     "metadata": {},
     "output_type": "execute_result"
    },
    {
     "data": {
      "image/png": "[encoded data removed]",
      "text/plain": [
       "<Figure size 432x288 with 1 Axes>"
      ]
     },
     "metadata": {
      "needs_background": "light"
     },
     "output_type": "display_data"
    }
   ],
   "source": [
    "data['cityCenters_nearest'].hist(bins=10,range=(0, 30000))"
   ]
  },
  {
   "cell_type": "markdown",
   "metadata": {},
   "source": [
    "Вывод: В данных в основном объекты с расстоянием до центра города от 10000 до 18000 метров. Можно предположить, что объекты приемущественно в спальных районах или пригородах"
   ]
  },
  {
   "cell_type": "markdown",
   "metadata": {},
   "source": [
    "## Расстояние до ближайшего аэропорта в метрах"
   ]
  },
  {
   "cell_type": "code",
   "execution_count": 298,
   "metadata": {},
   "outputs": [
    {
     "data": {
      "text/plain": [
       "<AxesSubplot:>"
      ]
     },
     "execution_count": 298,
     "metadata": {},
     "output_type": "execute_result"
    },
    {
     "data": {
      "image/png": "[encoded data removed]",
      "text/plain": [
       "<Figure size 432x288 with 1 Axes>"
      ]
     },
     "metadata": {
      "needs_background": "light"
     },
     "output_type": "display_data"
    }
   ],
   "source": [
    "data['airports_nearest'].hist(bins=30,range=(0, 90000))"
   ]
  },
  {
   "cell_type": "markdown",
   "metadata": {},
   "source": [
    "Вывод: Большая часть квартир датасета находится в промежутке от 5000 до 35000 км до аэропорта, что подтверждает преобладание данных по квартирам в пригороде / окраинах города."
   ]
  },
  {
   "cell_type": "markdown",
   "metadata": {},
   "source": [
    "## Расстояние до ближайшего парка в метрах"
   ]
  },
  {
   "cell_type": "code",
   "execution_count": 299,
   "metadata": {},
   "outputs": [
    {
     "data": {
      "text/plain": [
       "<AxesSubplot:>"
      ]
     },
     "execution_count": 299,
     "metadata": {},
     "output_type": "execute_result"
    },
    {
     "data": {
      "image/png": "[encoded data removed]",
      "text/plain": [
       "<Figure size 432x288 with 1 Axes>"
      ]
     },
     "metadata": {
      "needs_background": "light"
     },
     "output_type": "display_data"
    }
   ],
   "source": [
    "data['parks_nearest'].hist(bins=40,range=(0, 4000))"
   ]
  },
  {
   "cell_type": "markdown",
   "metadata": {},
   "source": [
    "Вывод: большая часть квартир датасета находится в непосредственной близости от парков (в радиусе 1000 метров)."
   ]
  },
  {
   "cell_type": "markdown",
   "metadata": {},
   "source": [
    "## День и месяц публикации объявления"
   ]
  },
  {
   "cell_type": "code",
   "execution_count": 300,
   "metadata": {},
   "outputs": [
    {
     "data": {
      "text/plain": [
       "(0.0, 7.0)"
      ]
     },
     "execution_count": 300,
     "metadata": {},
     "output_type": "execute_result"
    },
    {
     "data": {
      "image/png": "[encoded data removed]",
      "text/plain": [
       "<Figure size 432x288 with 1 Axes>"
      ]
     },
     "metadata": {
      "needs_background": "light"
     },
     "output_type": "display_data"
    }
   ],
   "source": [
    "data['week_day'].hist(bins=100,range=(0, 20), legend=True)\n",
    "plt.xlim(0, 7)"
   ]
  },
  {
   "cell_type": "code",
   "execution_count": 301,
   "metadata": {},
   "outputs": [
    {
     "data": {
      "text/plain": [
       "3    4282\n",
       "1    4172\n",
       "4    3992\n",
       "2    3964\n",
       "0    3604\n",
       "5    1933\n",
       "6    1689\n",
       "Name: week_day, dtype: int64"
      ]
     },
     "execution_count": 301,
     "metadata": {},
     "output_type": "execute_result"
    }
   ],
   "source": [
    "data['week_day'].value_counts().sort_values(ascending=False)"
   ]
  },
  {
   "cell_type": "markdown",
   "metadata": {},
   "source": [
    " "
   ]
  },
  {
   "cell_type": "code",
   "execution_count": 302,
   "metadata": {},
   "outputs": [
    {
     "data": {
      "text/plain": [
       "(0.0, 12.0)"
      ]
     },
     "execution_count": 302,
     "metadata": {},
     "output_type": "execute_result"
    },
    {
     "data": {
      "image/png": "[encoded data removed]",
      "text/plain": [
       "<Figure size 432x288 with 1 Axes>"
      ]
     },
     "metadata": {
      "needs_background": "light"
     },
     "output_type": "display_data"
    }
   ],
   "source": [
    "data['month'].hist(bins=10,range=(0, 20), legend=True)\n",
    "plt.xlim(0, 12)"
   ]
  },
  {
   "cell_type": "code",
   "execution_count": 303,
   "metadata": {},
   "outputs": [
    {
     "data": {
      "text/plain": [
       "2     2638\n",
       "3     2580\n",
       "4     2373\n",
       "11    2367\n",
       "10    2120\n",
       "9     1979\n",
       "6     1754\n",
       "8     1741\n",
       "7     1688\n",
       "12    1636\n",
       "1     1491\n",
       "5     1269\n",
       "Name: month, dtype: int64"
      ]
     },
     "execution_count": 303,
     "metadata": {},
     "output_type": "execute_result"
    }
   ],
   "source": [
    "data['month'].value_counts().sort_values(ascending=False)"
   ]
  },
  {
   "cell_type": "markdown",
   "metadata": {},
   "source": [
    "Вывод: Объявления публиковались в основном в промежутке со 2 по 4 месяц (с февраля по апрель) с 1 по 4 день (со вторника по пятницу)."
   ]
  },
  {
   "cell_type": "markdown",
   "metadata": {},
   "source": [
    "## Изучите, как быстро продавались квартиры "
   ]
  },
  {
   "cell_type": "code",
   "execution_count": 304,
   "metadata": {},
   "outputs": [
    {
     "data": {
      "text/plain": [
       "count    23636.000000\n",
       "mean       185.758335\n",
       "std        233.506829\n",
       "min          0.000000\n",
       "25%         43.000000\n",
       "50%         94.000000\n",
       "75%        237.000000\n",
       "max       1618.000000\n",
       "Name: days_exposition, dtype: float64"
      ]
     },
     "execution_count": 304,
     "metadata": {},
     "output_type": "execute_result"
    }
   ],
   "source": [
    "#Изучим структуру данных о продажах, выведем среднее и медиану\n",
    "data['days_exposition'].describe()"
   ]
  },
  {
   "cell_type": "markdown",
   "metadata": {},
   "source": [
    "Выделяется  разница значений средней(mean) и медианы (50,6%). Средняя больше медианы в два раза и это говорит о том, что \n",
    "в распределении имеются большие значения, влияющие на значение средней, но не оказывающее влияния на медиану. \n",
    "\n",
    "Значение продаж 0 дней выглядит нереалистично. Обычно квартиры на рынке продаются достаточно долго так как это связано с большим количеством бюрократии."
   ]
  },
  {
   "cell_type": "code",
   "execution_count": 305,
   "metadata": {},
   "outputs": [
    {
     "data": {
      "text/plain": [
       "array([[<AxesSubplot:title={'center':'days_exposition'}>]], dtype=object)"
      ]
     },
     "execution_count": 305,
     "metadata": {},
     "output_type": "execute_result"
    },
    {
     "data": {
      "image/png": "[encoded data removed]",
      "text/plain": [
       "<Figure size 432x288 with 1 Axes>"
      ]
     },
     "metadata": {
      "needs_background": "light"
     },
     "output_type": "display_data"
    }
   ],
   "source": [
    "# построим гистограмму по срезу, который не включает значение продаж 0 дней.\n",
    "\n",
    "data.query('days_exposition != 0').hist('days_exposition', bins=100, range=(0,1200))"
   ]
  },
  {
   "cell_type": "code",
   "execution_count": 306,
   "metadata": {},
   "outputs": [
    {
     "data": {
      "text/plain": [
       "<AxesSubplot:>"
      ]
     },
     "execution_count": 306,
     "metadata": {},
     "output_type": "execute_result"
    },
    {
     "data": {
      "image/png": "[encoded data removed]",
      "text/plain": [
       "<Figure size 432x288 with 1 Axes>"
      ]
     },
     "metadata": {
      "needs_background": "light"
     },
     "output_type": "display_data"
    }
   ],
   "source": [
    "# подробнее посмотрим на диаграме размаха\n",
    "data.query('days_exposition != 0').boxplot('days_exposition')\n"
   ]
  },
  {
   "cell_type": "markdown",
   "metadata": {},
   "source": [
    "Большая часть нормальных значений находится в диапазоне до 300 дней, что говорит о том, что квартиры быстрее всего продаются от 6 до 10 месяцев. \n",
    "За пределами 550 дней находятся выбросы данных."
   ]
  },
  {
   "cell_type": "code",
   "execution_count": 307,
   "metadata": {},
   "outputs": [
    {
     "data": {
      "text/plain": [
       "7.6"
      ]
     },
     "execution_count": 307,
     "metadata": {},
     "output_type": "execute_result"
    }
   ],
   "source": [
    "round(((data.query('days_exposition > 550')['days_exposition'].count()) / len(data['days_exposition']) )*100, 1)"
   ]
  },
  {
   "cell_type": "markdown",
   "metadata": {},
   "source": [
    "Необычайно долгими являются продажи квартир более 550 дней. Это 7,6 % от общего количества данных (23636 записей). "
   ]
  },
  {
   "cell_type": "markdown",
   "metadata": {},
   "source": [
    "# Какие факторы больше всего влияют на общую (полную) стоимость объекта?"
   ]
  },
  {
   "cell_type": "code",
   "execution_count": 308,
   "metadata": {},
   "outputs": [
    {
     "data": {
      "text/plain": [
       "count    2.363600e+04\n",
       "mean     6.542963e+06\n",
       "std      1.089916e+07\n",
       "min      1.219000e+04\n",
       "25%      3.403750e+06\n",
       "50%      4.650000e+06\n",
       "75%      6.799250e+06\n",
       "max      7.630000e+08\n",
       "Name: last_price, dtype: float64"
      ]
     },
     "execution_count": 308,
     "metadata": {},
     "output_type": "execute_result"
    }
   ],
   "source": [
    "#Ознакомимся с данными о ценах подробнее\n",
    "data.last_price.describe()"
   ]
  },
  {
   "cell_type": "code",
   "execution_count": 309,
   "metadata": {},
   "outputs": [
    {
     "data": {
      "text/plain": [
       "<AxesSubplot:>"
      ]
     },
     "execution_count": 309,
     "metadata": {},
     "output_type": "execute_result"
    },
    {
     "data": {
      "image/png": "[encoded data removed]",
      "text/plain": [
       "<Figure size 432x288 with 1 Axes>"
      ]
     },
     "metadata": {
      "needs_background": "light"
     },
     "output_type": "display_data"
    }
   ],
   "source": [
    "#Построим график размаха для цены и посмотрим разброс данных\n",
    "data.last_price.plot.box()"
   ]
  },
  {
   "cell_type": "markdown",
   "metadata": {},
   "source": [
    "График неинформативен и для объективного расчета данные необходимо предваритльно подготовить для работы. Поэтому уберем выбросы выше 1,5 верхнего межквартильного размаха"
   ]
  },
  {
   "cell_type": "code",
   "execution_count": 310,
   "metadata": {},
   "outputs": [
    {
     "data": {
      "text/plain": [
       "3395500.0"
      ]
     },
     "execution_count": 310,
     "metadata": {},
     "output_type": "execute_result"
    }
   ],
   "source": [
    "# запишем квантили в переменные quantile1 и quantile3 соответственно:\n",
    "quantile1 = data.last_price.quantile(0.25)\n",
    "quantile3 = data.last_price.quantile(0.75)\n",
    "# Рассчитаем межквартильный размах и запишем в переменную q\n",
    "q= quantile3 - quantile1\n",
    "\n",
    "#выведем полученный межквартильный размах на экран\n",
    "q"
   ]
  },
  {
   "cell_type": "code",
   "execution_count": 311,
   "metadata": {},
   "outputs": [
    {
     "data": {
      "text/html": [
       "<div>\n",
       "<style scoped>\n",
       "    .dataframe tbody tr th:only-of-type {\n",
       "        vertical-align: middle;\n",
       "    }\n",
       "\n",
       "    .dataframe tbody tr th {\n",
       "        vertical-align: top;\n",
       "    }\n",
       "\n",
       "    .dataframe thead th {\n",
       "        text-align: right;\n",
       "    }\n",
       "</style>\n",
       "<table border=\"1\" class=\"dataframe\">\n",
       "  <thead>\n",
       "    <tr style=\"text-align: right;\">\n",
       "      <th></th>\n",
       "      <th>total_images</th>\n",
       "      <th>last_price</th>\n",
       "      <th>total_area</th>\n",
       "      <th>first_day_exposition</th>\n",
       "      <th>rooms</th>\n",
       "      <th>ceiling_height</th>\n",
       "      <th>floors_total</th>\n",
       "      <th>living_area</th>\n",
       "      <th>floor</th>\n",
       "      <th>is_apartment</th>\n",
       "      <th>...</th>\n",
       "      <th>parks_nearest</th>\n",
       "      <th>ponds_around3000</th>\n",
       "      <th>ponds_nearest</th>\n",
       "      <th>days_exposition</th>\n",
       "      <th>price_for_metr</th>\n",
       "      <th>week_day</th>\n",
       "      <th>month</th>\n",
       "      <th>year</th>\n",
       "      <th>floor_category</th>\n",
       "      <th>close_to_cityCenter</th>\n",
       "    </tr>\n",
       "  </thead>\n",
       "  <tbody>\n",
       "    <tr>\n",
       "      <th>1</th>\n",
       "      <td>7</td>\n",
       "      <td>3350000.0</td>\n",
       "      <td>40.4</td>\n",
       "      <td>2018-12-04</td>\n",
       "      <td>1</td>\n",
       "      <td>2.65</td>\n",
       "      <td>11</td>\n",
       "      <td>18.6</td>\n",
       "      <td>1</td>\n",
       "      <td>False</td>\n",
       "      <td>...</td>\n",
       "      <td>NaN</td>\n",
       "      <td>0.0</td>\n",
       "      <td>NaN</td>\n",
       "      <td>81.0</td>\n",
       "      <td>82920.79</td>\n",
       "      <td>1</td>\n",
       "      <td>12</td>\n",
       "      <td>2018</td>\n",
       "      <td>Первый</td>\n",
       "      <td>19.0</td>\n",
       "    </tr>\n",
       "    <tr>\n",
       "      <th>2</th>\n",
       "      <td>10</td>\n",
       "      <td>5196000.0</td>\n",
       "      <td>56.0</td>\n",
       "      <td>2015-08-20</td>\n",
       "      <td>2</td>\n",
       "      <td>2.65</td>\n",
       "      <td>5</td>\n",
       "      <td>34.3</td>\n",
       "      <td>4</td>\n",
       "      <td>False</td>\n",
       "      <td>...</td>\n",
       "      <td>90.0</td>\n",
       "      <td>2.0</td>\n",
       "      <td>574.0</td>\n",
       "      <td>558.0</td>\n",
       "      <td>92785.71</td>\n",
       "      <td>3</td>\n",
       "      <td>8</td>\n",
       "      <td>2015</td>\n",
       "      <td>Другой</td>\n",
       "      <td>14.0</td>\n",
       "    </tr>\n",
       "    <tr>\n",
       "      <th>4</th>\n",
       "      <td>2</td>\n",
       "      <td>10000000.0</td>\n",
       "      <td>100.0</td>\n",
       "      <td>2018-06-19</td>\n",
       "      <td>2</td>\n",
       "      <td>3.03</td>\n",
       "      <td>14</td>\n",
       "      <td>32.0</td>\n",
       "      <td>13</td>\n",
       "      <td>False</td>\n",
       "      <td>...</td>\n",
       "      <td>112.0</td>\n",
       "      <td>1.0</td>\n",
       "      <td>48.0</td>\n",
       "      <td>121.0</td>\n",
       "      <td>100000.00</td>\n",
       "      <td>1</td>\n",
       "      <td>6</td>\n",
       "      <td>2018</td>\n",
       "      <td>Другой</td>\n",
       "      <td>8.0</td>\n",
       "    </tr>\n",
       "    <tr>\n",
       "      <th>5</th>\n",
       "      <td>10</td>\n",
       "      <td>2890000.0</td>\n",
       "      <td>30.4</td>\n",
       "      <td>2018-09-10</td>\n",
       "      <td>1</td>\n",
       "      <td>2.65</td>\n",
       "      <td>12</td>\n",
       "      <td>14.4</td>\n",
       "      <td>5</td>\n",
       "      <td>False</td>\n",
       "      <td>...</td>\n",
       "      <td>NaN</td>\n",
       "      <td>NaN</td>\n",
       "      <td>NaN</td>\n",
       "      <td>55.0</td>\n",
       "      <td>95065.79</td>\n",
       "      <td>0</td>\n",
       "      <td>9</td>\n",
       "      <td>2018</td>\n",
       "      <td>Другой</td>\n",
       "      <td>NaN</td>\n",
       "    </tr>\n",
       "    <tr>\n",
       "      <th>6</th>\n",
       "      <td>6</td>\n",
       "      <td>3700000.0</td>\n",
       "      <td>37.3</td>\n",
       "      <td>2017-11-02</td>\n",
       "      <td>1</td>\n",
       "      <td>2.65</td>\n",
       "      <td>26</td>\n",
       "      <td>10.6</td>\n",
       "      <td>6</td>\n",
       "      <td>False</td>\n",
       "      <td>...</td>\n",
       "      <td>NaN</td>\n",
       "      <td>0.0</td>\n",
       "      <td>NaN</td>\n",
       "      <td>155.0</td>\n",
       "      <td>99195.71</td>\n",
       "      <td>3</td>\n",
       "      <td>11</td>\n",
       "      <td>2017</td>\n",
       "      <td>Другой</td>\n",
       "      <td>19.0</td>\n",
       "    </tr>\n",
       "  </tbody>\n",
       "</table>\n",
       "<p>5 rows × 28 columns</p>\n",
       "</div>"
      ],
      "text/plain": [
       "   total_images  last_price  total_area first_day_exposition  rooms  \\\n",
       "1             7   3350000.0        40.4           2018-12-04      1   \n",
       "2            10   5196000.0        56.0           2015-08-20      2   \n",
       "4             2  10000000.0       100.0           2018-06-19      2   \n",
       "5            10   2890000.0        30.4           2018-09-10      1   \n",
       "6             6   3700000.0        37.3           2017-11-02      1   \n",
       "\n",
       "   ceiling_height  floors_total  living_area  floor  is_apartment  ...  \\\n",
       "1            2.65            11         18.6      1         False  ...   \n",
       "2            2.65             5         34.3      4         False  ...   \n",
       "4            3.03            14         32.0     13         False  ...   \n",
       "5            2.65            12         14.4      5         False  ...   \n",
       "6            2.65            26         10.6      6         False  ...   \n",
       "\n",
       "   parks_nearest  ponds_around3000  ponds_nearest  days_exposition  \\\n",
       "1            NaN               0.0            NaN             81.0   \n",
       "2           90.0               2.0          574.0            558.0   \n",
       "4          112.0               1.0           48.0            121.0   \n",
       "5            NaN               NaN            NaN             55.0   \n",
       "6            NaN               0.0            NaN            155.0   \n",
       "\n",
       "  price_for_metr  week_day  month  year  floor_category  close_to_cityCenter  \n",
       "1       82920.79         1     12  2018          Первый                 19.0  \n",
       "2       92785.71         3      8  2015          Другой                 14.0  \n",
       "4      100000.00         1      6  2018          Другой                  8.0  \n",
       "5       95065.79         0      9  2018          Другой                  NaN  \n",
       "6       99195.71         3     11  2017          Другой                 19.0  \n",
       "\n",
       "[5 rows x 28 columns]"
      ]
     },
     "execution_count": 311,
     "metadata": {},
     "output_type": "execute_result"
    }
   ],
   "source": [
    "# исключим данные выше 1,5 межквартильного размаха и запишем результат в новую переменную\n",
    "data_correct = data.query('last_price <= @quantile3 + 1.5*@q')\n",
    "\n",
    "#выведем для проверки первые 5 строк\n",
    "data_correct.head()\n"
   ]
  },
  {
   "cell_type": "code",
   "execution_count": 312,
   "metadata": {},
   "outputs": [
    {
     "data": {
      "text/plain": [
       "<AxesSubplot:>"
      ]
     },
     "execution_count": 312,
     "metadata": {},
     "output_type": "execute_result"
    },
    {
     "data": {
      "image/png": "[encoded data removed]",
      "text/plain": [
       "<Figure size 432x288 with 1 Axes>"
      ]
     },
     "metadata": {
      "needs_background": "light"
     },
     "output_type": "display_data"
    }
   ],
   "source": [
    "#Построим обновленный график размаха для цены и вновь посмотрим разброс данных\n",
    "data_correct.last_price.plot.box()"
   ]
  },
  {
   "cell_type": "markdown",
   "metadata": {},
   "source": [
    "## Проанализируем, зависит ли цена от общей площади"
   ]
  },
  {
   "cell_type": "code",
   "execution_count": 313,
   "metadata": {},
   "outputs": [
    {
     "data": {
      "image/png": "[encoded data removed]",
      "text/plain": [
       "<Figure size 432x288 with 1 Axes>"
      ]
     },
     "metadata": {
      "needs_background": "light"
     },
     "output_type": "display_data"
    }
   ],
   "source": [
    "sns.scatterplot(data=data_correct, x='total_area', y='last_price', alpha = 0.1)\n",
    "plt.show()\n"
   ]
  },
  {
   "cell_type": "markdown",
   "metadata": {},
   "source": [
    "По графику четко видно, что квартиры с большей площадью стоят дороже"
   ]
  },
  {
   "cell_type": "markdown",
   "metadata": {},
   "source": [
    "## Проанализируем, зависит ли цена от жилой площади на диаграмме рассеивания"
   ]
  },
  {
   "cell_type": "code",
   "execution_count": 314,
   "metadata": {},
   "outputs": [
    {
     "data": {
      "text/plain": [
       "<AxesSubplot:xlabel='living_area', ylabel='last_price'>"
      ]
     },
     "execution_count": 314,
     "metadata": {},
     "output_type": "execute_result"
    },
    {
     "data": {
      "image/png": "[encoded data removed]",
      "text/plain": [
       "<Figure size 432x288 with 1 Axes>"
      ]
     },
     "metadata": {
      "needs_background": "light"
     },
     "output_type": "display_data"
    }
   ],
   "source": [
    "sns.scatterplot(data=data_correct, x='living_area', y='last_price', alpha=0.1)"
   ]
  },
  {
   "cell_type": "markdown",
   "metadata": {},
   "source": [
    "Видим, что чем больше площадь квартиры, тем выше ее цена. Это вполне логично."
   ]
  },
  {
   "cell_type": "markdown",
   "metadata": {},
   "source": [
    "## Проанализируем, зависит ли цена от жилой площади"
   ]
  },
  {
   "cell_type": "code",
   "execution_count": 315,
   "metadata": {},
   "outputs": [
    {
     "data": {
      "image/png": "[encoded data removed]",
      "text/plain": [
       "<Figure size 432x288 with 1 Axes>"
      ]
     },
     "metadata": {
      "needs_background": "light"
     },
     "output_type": "display_data"
    }
   ],
   "source": [
    "sns.scatterplot(data=data_correct, x='living_area', y='last_price', hue='rooms', alpha=0.4, linewidth=0)\n",
    "plt.show()"
   ]
  },
  {
   "cell_type": "markdown",
   "metadata": {},
   "source": [
    "На графике видно, что с увеличением жилой площади возрастает и цена."
   ]
  },
  {
   "cell_type": "markdown",
   "metadata": {},
   "source": [
    "## Проанализируем, зависит ли цена от количества комнат"
   ]
  },
  {
   "cell_type": "code",
   "execution_count": 316,
   "metadata": {},
   "outputs": [
    {
     "data": {
      "image/png": "[encoded data removed]",
      "text/plain": [
       "<Figure size 432x288 with 1 Axes>"
      ]
     },
     "metadata": {
      "needs_background": "light"
     },
     "output_type": "display_data"
    }
   ],
   "source": [
    "sns.scatterplot(data=data_correct, x='rooms', y='last_price', alpha=0.2)\n",
    "plt.show()"
   ]
  },
  {
   "cell_type": "markdown",
   "metadata": {},
   "source": [
    "Видим, что при большем количестве комнат цена на объект выше"
   ]
  },
  {
   "cell_type": "markdown",
   "metadata": {},
   "source": [
    "## Проанализируем, зависит ли цена от этажа, на котором расположена квартира (первый, последний, другой)"
   ]
  },
  {
   "cell_type": "code",
   "execution_count": 317,
   "metadata": {},
   "outputs": [
    {
     "data": {
      "text/plain": [
       "<AxesSubplot:xlabel='last_price', ylabel='floor_category'>"
      ]
     },
     "execution_count": 317,
     "metadata": {},
     "output_type": "execute_result"
    },
    {
     "data": {
      "image/png": "[encoded data removed]",
      "text/plain": [
       "<Figure size 432x288 with 1 Axes>"
      ]
     },
     "metadata": {
      "needs_background": "light"
     },
     "output_type": "display_data"
    }
   ],
   "source": [
    "sns.scatterplot(data=data_correct, x='last_price', y='floor_category', alpha = 0.1)"
   ]
  },
  {
   "cell_type": "markdown",
   "metadata": {},
   "source": [
    "Видим, что квартиры из категории Другой стоят дороже а дешевле всего квартиры на первом этаже."
   ]
  },
  {
   "cell_type": "markdown",
   "metadata": {},
   "source": [
    "## Проанализируем, зависит ли цена от даты размещения (день недели, месяц, год)"
   ]
  },
  {
   "cell_type": "code",
   "execution_count": 318,
   "metadata": {},
   "outputs": [
    {
     "data": {
      "image/png": "[encoded data removed]",
      "text/plain": [
       "<Figure size 432x288 with 1 Axes>"
      ]
     },
     "metadata": {
      "needs_background": "light"
     },
     "output_type": "display_data"
    }
   ],
   "source": [
    "sns.scatterplot(data=data_correct, x='week_day', y='last_price', alpha=0.2, linewidth=0)\n",
    "plt.show()"
   ]
  },
  {
   "cell_type": "markdown",
   "metadata": {},
   "source": [
    "Видим, что с понедельника по пятницу цены выше, чем в субботу и воскресенье"
   ]
  },
  {
   "cell_type": "code",
   "execution_count": 319,
   "metadata": {},
   "outputs": [
    {
     "data": {
      "text/plain": [
       "<AxesSubplot:xlabel='month'>"
      ]
     },
     "execution_count": 319,
     "metadata": {},
     "output_type": "execute_result"
    },
    {
     "data": {
      "image/png": "[encoded data removed]",
      "text/plain": [
       "<Figure size 432x288 with 1 Axes>"
      ]
     },
     "metadata": {
      "needs_background": "light"
     },
     "output_type": "display_data"
    }
   ],
   "source": [
    "(data_correct\n",
    "    .pivot_table(index='month', values='last_price')\n",
    "    .sort_values('last_price',ascending=False)\n",
    "    .plot(kind='bar', legend=False))"
   ]
  },
  {
   "cell_type": "markdown",
   "metadata": {},
   "source": [
    "По графику видно, что цены на квартиры влияет сезонность. Дешевле всего квартиры продаются в июне и январе."
   ]
  },
  {
   "cell_type": "code",
   "execution_count": 320,
   "metadata": {},
   "outputs": [
    {
     "data": {
      "text/plain": [
       "<AxesSubplot:xlabel='year'>"
      ]
     },
     "execution_count": 320,
     "metadata": {},
     "output_type": "execute_result"
    },
    {
     "data": {
      "image/png": "[encoded data removed]",
      "text/plain": [
       "<Figure size 432x288 with 1 Axes>"
      ]
     },
     "metadata": {
      "needs_background": "light"
     },
     "output_type": "display_data"
    }
   ],
   "source": [
    "(data_correct\n",
    "    .pivot_table(index='year', values='last_price')\n",
    "    .plot(kind='bar', legend = False))"
   ]
  },
  {
   "cell_type": "code",
   "execution_count": 321,
   "metadata": {},
   "outputs": [
    {
     "data": {
      "text/html": [
       "<div>\n",
       "<style scoped>\n",
       "    .dataframe tbody tr th:only-of-type {\n",
       "        vertical-align: middle;\n",
       "    }\n",
       "\n",
       "    .dataframe tbody tr th {\n",
       "        vertical-align: top;\n",
       "    }\n",
       "\n",
       "    .dataframe thead th {\n",
       "        text-align: right;\n",
       "    }\n",
       "</style>\n",
       "<table border=\"1\" class=\"dataframe\">\n",
       "  <thead>\n",
       "    <tr style=\"text-align: right;\">\n",
       "      <th></th>\n",
       "      <th>last_price</th>\n",
       "    </tr>\n",
       "    <tr>\n",
       "      <th>year</th>\n",
       "      <th></th>\n",
       "    </tr>\n",
       "  </thead>\n",
       "  <tbody>\n",
       "    <tr>\n",
       "      <th>2014</th>\n",
       "      <td>5.782435e+06</td>\n",
       "    </tr>\n",
       "    <tr>\n",
       "      <th>2015</th>\n",
       "      <td>5.244956e+06</td>\n",
       "    </tr>\n",
       "    <tr>\n",
       "      <th>2016</th>\n",
       "      <td>4.790779e+06</td>\n",
       "    </tr>\n",
       "    <tr>\n",
       "      <th>2017</th>\n",
       "      <td>4.768778e+06</td>\n",
       "    </tr>\n",
       "    <tr>\n",
       "      <th>2018</th>\n",
       "      <td>4.775747e+06</td>\n",
       "    </tr>\n",
       "    <tr>\n",
       "      <th>2019</th>\n",
       "      <td>5.097405e+06</td>\n",
       "    </tr>\n",
       "  </tbody>\n",
       "</table>\n",
       "</div>"
      ],
      "text/plain": [
       "        last_price\n",
       "year              \n",
       "2014  5.782435e+06\n",
       "2015  5.244956e+06\n",
       "2016  4.790779e+06\n",
       "2017  4.768778e+06\n",
       "2018  4.775747e+06\n",
       "2019  5.097405e+06"
      ]
     },
     "execution_count": 321,
     "metadata": {},
     "output_type": "execute_result"
    }
   ],
   "source": [
    "(data_correct\n",
    "    .pivot_table(index='year', values='last_price',aggfunc='mean'))"
   ]
  },
  {
   "cell_type": "markdown",
   "metadata": {},
   "source": [
    "Судя по графику сделаем вывод о том, что c 2014 по 2017 годы цена снижается,но с 2018 по 2019 наблюдется постепенный рост цен."
   ]
  },
  {
   "cell_type": "markdown",
   "metadata": {},
   "source": [
    "# Расчет средней цены одного квадратного метра в 10 населённых пунктах с наибольшим числом объявлений и выделение населённых пунктов с самой высокой и низкой стоимостью квадратного метра."
   ]
  },
  {
   "cell_type": "markdown",
   "metadata": {},
   "source": [
    "Для расчета средней цены одного квадратного метра в 10 населённых пунктах с наибольшим числом объявлений соберем данные в сводную таблицу\n"
   ]
  },
  {
   "cell_type": "code",
   "execution_count": 322,
   "metadata": {},
   "outputs": [
    {
     "data": {
      "text/html": [
       "<div>\n",
       "<style scoped>\n",
       "    .dataframe tbody tr th:only-of-type {\n",
       "        vertical-align: middle;\n",
       "    }\n",
       "\n",
       "    .dataframe tbody tr th {\n",
       "        vertical-align: top;\n",
       "    }\n",
       "\n",
       "    .dataframe thead th {\n",
       "        text-align: right;\n",
       "    }\n",
       "</style>\n",
       "<table border=\"1\" class=\"dataframe\">\n",
       "  <thead>\n",
       "    <tr style=\"text-align: right;\">\n",
       "      <th></th>\n",
       "      <th>count</th>\n",
       "      <th>mean</th>\n",
       "    </tr>\n",
       "    <tr>\n",
       "      <th>locality_name</th>\n",
       "      <th></th>\n",
       "      <th></th>\n",
       "    </tr>\n",
       "  </thead>\n",
       "  <tbody>\n",
       "    <tr>\n",
       "      <th>Санкт-Петербург</th>\n",
       "      <td>13733</td>\n",
       "      <td>105421.819482</td>\n",
       "    </tr>\n",
       "    <tr>\n",
       "      <th>Мурино</th>\n",
       "      <td>590</td>\n",
       "      <td>86087.512017</td>\n",
       "    </tr>\n",
       "    <tr>\n",
       "      <th>Кудрово</th>\n",
       "      <td>469</td>\n",
       "      <td>95152.957527</td>\n",
       "    </tr>\n",
       "    <tr>\n",
       "      <th>Шушары</th>\n",
       "      <td>440</td>\n",
       "      <td>78677.364318</td>\n",
       "    </tr>\n",
       "    <tr>\n",
       "      <th>Всеволожск</th>\n",
       "      <td>396</td>\n",
       "      <td>67275.625859</td>\n",
       "    </tr>\n",
       "    <tr>\n",
       "      <th>Пушкин</th>\n",
       "      <td>338</td>\n",
       "      <td>100290.598698</td>\n",
       "    </tr>\n",
       "    <tr>\n",
       "      <th>Колпино</th>\n",
       "      <td>336</td>\n",
       "      <td>75185.478244</td>\n",
       "    </tr>\n",
       "    <tr>\n",
       "      <th>Парголово</th>\n",
       "      <td>327</td>\n",
       "      <td>90175.913089</td>\n",
       "    </tr>\n",
       "    <tr>\n",
       "      <th>Гатчина</th>\n",
       "      <td>305</td>\n",
       "      <td>68421.902525</td>\n",
       "    </tr>\n",
       "    <tr>\n",
       "      <th>Выборг</th>\n",
       "      <td>234</td>\n",
       "      <td>58027.737393</td>\n",
       "    </tr>\n",
       "  </tbody>\n",
       "</table>\n",
       "</div>"
      ],
      "text/plain": [
       "                 count           mean\n",
       "locality_name                        \n",
       "Санкт-Петербург  13733  105421.819482\n",
       "Мурино             590   86087.512017\n",
       "Кудрово            469   95152.957527\n",
       "Шушары             440   78677.364318\n",
       "Всеволожск         396   67275.625859\n",
       "Пушкин             338  100290.598698\n",
       "Колпино            336   75185.478244\n",
       "Парголово          327   90175.913089\n",
       "Гатчина            305   68421.902525\n",
       "Выборг             234   58027.737393"
      ]
     },
     "execution_count": 322,
     "metadata": {},
     "output_type": "execute_result"
    }
   ],
   "source": [
    "(data_correct\n",
    "    .pivot_table(index='locality_name', values='price_for_metr', aggfunc=('mean', 'count'))\n",
    "    .sort_values(by='count', ascending=False)\n",
    "    .head(10))"
   ]
  },
  {
   "cell_type": "markdown",
   "metadata": {},
   "source": [
    "В сводную таблицу также выделеним населённые пункты с самой высокой стоимостью квадратного метра"
   ]
  },
  {
   "cell_type": "code",
   "execution_count": 323,
   "metadata": {},
   "outputs": [
    {
     "data": {
      "text/html": [
       "<div>\n",
       "<style scoped>\n",
       "    .dataframe tbody tr th:only-of-type {\n",
       "        vertical-align: middle;\n",
       "    }\n",
       "\n",
       "    .dataframe tbody tr th {\n",
       "        vertical-align: top;\n",
       "    }\n",
       "\n",
       "    .dataframe thead th {\n",
       "        text-align: right;\n",
       "    }\n",
       "</style>\n",
       "<table border=\"1\" class=\"dataframe\">\n",
       "  <thead>\n",
       "    <tr style=\"text-align: right;\">\n",
       "      <th></th>\n",
       "      <th>last_price</th>\n",
       "    </tr>\n",
       "    <tr>\n",
       "      <th>locality_name</th>\n",
       "      <th></th>\n",
       "    </tr>\n",
       "  </thead>\n",
       "  <tbody>\n",
       "    <tr>\n",
       "      <th>Хязельки</th>\n",
       "      <td>1.100000e+07</td>\n",
       "    </tr>\n",
       "    <tr>\n",
       "      <th>Репино</th>\n",
       "      <td>6.889139e+06</td>\n",
       "    </tr>\n",
       "    <tr>\n",
       "      <th>Сестрорецк</th>\n",
       "      <td>5.707094e+06</td>\n",
       "    </tr>\n",
       "    <tr>\n",
       "      <th>Санкт-Петербург</th>\n",
       "      <td>5.663542e+06</td>\n",
       "    </tr>\n",
       "    <tr>\n",
       "      <th>Пушкин</th>\n",
       "      <td>5.334385e+06</td>\n",
       "    </tr>\n",
       "    <tr>\n",
       "      <th>Зеленогорск</th>\n",
       "      <td>5.032164e+06</td>\n",
       "    </tr>\n",
       "    <tr>\n",
       "      <th>Заневка</th>\n",
       "      <td>4.781500e+06</td>\n",
       "    </tr>\n",
       "    <tr>\n",
       "      <th>Мистолово</th>\n",
       "      <td>4.770114e+06</td>\n",
       "    </tr>\n",
       "    <tr>\n",
       "      <th>Глинка</th>\n",
       "      <td>4.750000e+06</td>\n",
       "    </tr>\n",
       "    <tr>\n",
       "      <th>Павловск</th>\n",
       "      <td>4.671054e+06</td>\n",
       "    </tr>\n",
       "  </tbody>\n",
       "</table>\n",
       "</div>"
      ],
      "text/plain": [
       "                   last_price\n",
       "locality_name                \n",
       "Хязельки         1.100000e+07\n",
       "Репино           6.889139e+06\n",
       "Сестрорецк       5.707094e+06\n",
       "Санкт-Петербург  5.663542e+06\n",
       "Пушкин           5.334385e+06\n",
       "Зеленогорск      5.032164e+06\n",
       "Заневка          4.781500e+06\n",
       "Мистолово        4.770114e+06\n",
       "Глинка           4.750000e+06\n",
       "Павловск         4.671054e+06"
      ]
     },
     "execution_count": 323,
     "metadata": {},
     "output_type": "execute_result"
    }
   ],
   "source": [
    "(data_correct\n",
    " .pivot_table(index='locality_name', values='last_price')\n",
    " .sort_values(by='last_price', ascending=False)\n",
    " .head(10))"
   ]
  },
  {
   "cell_type": "markdown",
   "metadata": {},
   "source": [
    "В сводную таблицу также выделеним населённые пункты с самой низкой стоимостью квадратного метра"
   ]
  },
  {
   "cell_type": "code",
   "execution_count": 324,
   "metadata": {},
   "outputs": [
    {
     "data": {
      "text/html": [
       "<div>\n",
       "<style scoped>\n",
       "    .dataframe tbody tr th:only-of-type {\n",
       "        vertical-align: middle;\n",
       "    }\n",
       "\n",
       "    .dataframe tbody tr th {\n",
       "        vertical-align: top;\n",
       "    }\n",
       "\n",
       "    .dataframe thead th {\n",
       "        text-align: right;\n",
       "    }\n",
       "</style>\n",
       "<table border=\"1\" class=\"dataframe\">\n",
       "  <thead>\n",
       "    <tr style=\"text-align: right;\">\n",
       "      <th></th>\n",
       "      <th>last_price</th>\n",
       "    </tr>\n",
       "    <tr>\n",
       "      <th>locality_name</th>\n",
       "      <th></th>\n",
       "    </tr>\n",
       "  </thead>\n",
       "  <tbody>\n",
       "    <tr>\n",
       "      <th>Вахнова Кара</th>\n",
       "      <td>450000.0</td>\n",
       "    </tr>\n",
       "    <tr>\n",
       "      <th>Старополье</th>\n",
       "      <td>460000.0</td>\n",
       "    </tr>\n",
       "    <tr>\n",
       "      <th>Бор</th>\n",
       "      <td>500000.0</td>\n",
       "    </tr>\n",
       "    <tr>\n",
       "      <th>Чудской Бор</th>\n",
       "      <td>500000.0</td>\n",
       "    </tr>\n",
       "    <tr>\n",
       "      <th>Совхозный</th>\n",
       "      <td>517500.0</td>\n",
       "    </tr>\n",
       "    <tr>\n",
       "      <th>Свирь</th>\n",
       "      <td>575000.0</td>\n",
       "    </tr>\n",
       "    <tr>\n",
       "      <th>Выскатка</th>\n",
       "      <td>585000.0</td>\n",
       "    </tr>\n",
       "    <tr>\n",
       "      <th>Ям-Тесово</th>\n",
       "      <td>625000.0</td>\n",
       "    </tr>\n",
       "    <tr>\n",
       "      <th>Фалилеево</th>\n",
       "      <td>650000.0</td>\n",
       "    </tr>\n",
       "    <tr>\n",
       "      <th>Коркино</th>\n",
       "      <td>650000.0</td>\n",
       "    </tr>\n",
       "  </tbody>\n",
       "</table>\n",
       "</div>"
      ],
      "text/plain": [
       "               last_price\n",
       "locality_name            \n",
       "Вахнова Кара     450000.0\n",
       "Старополье       460000.0\n",
       "Бор              500000.0\n",
       "Чудской Бор      500000.0\n",
       "Совхозный        517500.0\n",
       "Свирь            575000.0\n",
       "Выскатка         585000.0\n",
       "Ям-Тесово        625000.0\n",
       "Фалилеево        650000.0\n",
       "Коркино          650000.0"
      ]
     },
     "execution_count": 324,
     "metadata": {},
     "output_type": "execute_result"
    }
   ],
   "source": [
    "(data_correct\n",
    ".pivot_table(index='locality_name', values='last_price')\n",
    ".sort_values(by='last_price', ascending=True)\n",
    ".head(10))"
   ]
  },
  {
   "cell_type": "markdown",
   "metadata": {},
   "source": [
    "## Выделение квартир в Санкт-Петербурге и вычисление средней цены каждого километра c описанием того как стоимость объектов зависит от расстояния до центра города"
   ]
  },
  {
   "cell_type": "code",
   "execution_count": 325,
   "metadata": {},
   "outputs": [
    {
     "data": {
      "text/html": [
       "<div>\n",
       "<style scoped>\n",
       "    .dataframe tbody tr th:only-of-type {\n",
       "        vertical-align: middle;\n",
       "    }\n",
       "\n",
       "    .dataframe tbody tr th {\n",
       "        vertical-align: top;\n",
       "    }\n",
       "\n",
       "    .dataframe thead th {\n",
       "        text-align: right;\n",
       "    }\n",
       "</style>\n",
       "<table border=\"1\" class=\"dataframe\">\n",
       "  <thead>\n",
       "    <tr style=\"text-align: right;\">\n",
       "      <th></th>\n",
       "      <th>last_price</th>\n",
       "    </tr>\n",
       "    <tr>\n",
       "      <th>close_to_cityCenter</th>\n",
       "      <th></th>\n",
       "    </tr>\n",
       "  </thead>\n",
       "  <tbody>\n",
       "    <tr>\n",
       "      <th>0.0</th>\n",
       "      <td>8.398000e+06</td>\n",
       "    </tr>\n",
       "    <tr>\n",
       "      <th>1.0</th>\n",
       "      <td>8.145277e+06</td>\n",
       "    </tr>\n",
       "    <tr>\n",
       "      <th>2.0</th>\n",
       "      <td>7.970519e+06</td>\n",
       "    </tr>\n",
       "    <tr>\n",
       "      <th>3.0</th>\n",
       "      <td>7.346575e+06</td>\n",
       "    </tr>\n",
       "    <tr>\n",
       "      <th>4.0</th>\n",
       "      <td>7.606618e+06</td>\n",
       "    </tr>\n",
       "    <tr>\n",
       "      <th>5.0</th>\n",
       "      <td>7.661225e+06</td>\n",
       "    </tr>\n",
       "    <tr>\n",
       "      <th>6.0</th>\n",
       "      <td>7.108234e+06</td>\n",
       "    </tr>\n",
       "    <tr>\n",
       "      <th>7.0</th>\n",
       "      <td>6.635321e+06</td>\n",
       "    </tr>\n",
       "    <tr>\n",
       "      <th>8.0</th>\n",
       "      <td>6.605968e+06</td>\n",
       "    </tr>\n",
       "    <tr>\n",
       "      <th>9.0</th>\n",
       "      <td>5.516022e+06</td>\n",
       "    </tr>\n",
       "    <tr>\n",
       "      <th>10.0</th>\n",
       "      <td>5.426309e+06</td>\n",
       "    </tr>\n",
       "    <tr>\n",
       "      <th>11.0</th>\n",
       "      <td>5.316968e+06</td>\n",
       "    </tr>\n",
       "    <tr>\n",
       "      <th>12.0</th>\n",
       "      <td>5.289195e+06</td>\n",
       "    </tr>\n",
       "    <tr>\n",
       "      <th>13.0</th>\n",
       "      <td>5.509984e+06</td>\n",
       "    </tr>\n",
       "    <tr>\n",
       "      <th>14.0</th>\n",
       "      <td>5.269013e+06</td>\n",
       "    </tr>\n",
       "    <tr>\n",
       "      <th>15.0</th>\n",
       "      <td>5.292485e+06</td>\n",
       "    </tr>\n",
       "    <tr>\n",
       "      <th>16.0</th>\n",
       "      <td>5.097523e+06</td>\n",
       "    </tr>\n",
       "    <tr>\n",
       "      <th>17.0</th>\n",
       "      <td>4.863589e+06</td>\n",
       "    </tr>\n",
       "    <tr>\n",
       "      <th>18.0</th>\n",
       "      <td>4.707132e+06</td>\n",
       "    </tr>\n",
       "    <tr>\n",
       "      <th>19.0</th>\n",
       "      <td>4.809313e+06</td>\n",
       "    </tr>\n",
       "    <tr>\n",
       "      <th>20.0</th>\n",
       "      <td>5.990037e+06</td>\n",
       "    </tr>\n",
       "    <tr>\n",
       "      <th>21.0</th>\n",
       "      <td>5.493469e+06</td>\n",
       "    </tr>\n",
       "    <tr>\n",
       "      <th>22.0</th>\n",
       "      <td>5.173382e+06</td>\n",
       "    </tr>\n",
       "    <tr>\n",
       "      <th>23.0</th>\n",
       "      <td>4.689843e+06</td>\n",
       "    </tr>\n",
       "    <tr>\n",
       "      <th>24.0</th>\n",
       "      <td>3.854430e+06</td>\n",
       "    </tr>\n",
       "    <tr>\n",
       "      <th>25.0</th>\n",
       "      <td>4.052840e+06</td>\n",
       "    </tr>\n",
       "    <tr>\n",
       "      <th>26.0</th>\n",
       "      <td>3.973013e+06</td>\n",
       "    </tr>\n",
       "    <tr>\n",
       "      <th>27.0</th>\n",
       "      <td>2.250000e+06</td>\n",
       "    </tr>\n",
       "    <tr>\n",
       "      <th>28.0</th>\n",
       "      <td>5.026429e+06</td>\n",
       "    </tr>\n",
       "    <tr>\n",
       "      <th>29.0</th>\n",
       "      <td>4.236667e+06</td>\n",
       "    </tr>\n",
       "  </tbody>\n",
       "</table>\n",
       "</div>"
      ],
      "text/plain": [
       "                       last_price\n",
       "close_to_cityCenter              \n",
       "0.0                  8.398000e+06\n",
       "1.0                  8.145277e+06\n",
       "2.0                  7.970519e+06\n",
       "3.0                  7.346575e+06\n",
       "4.0                  7.606618e+06\n",
       "5.0                  7.661225e+06\n",
       "6.0                  7.108234e+06\n",
       "7.0                  6.635321e+06\n",
       "8.0                  6.605968e+06\n",
       "9.0                  5.516022e+06\n",
       "10.0                 5.426309e+06\n",
       "11.0                 5.316968e+06\n",
       "12.0                 5.289195e+06\n",
       "13.0                 5.509984e+06\n",
       "14.0                 5.269013e+06\n",
       "15.0                 5.292485e+06\n",
       "16.0                 5.097523e+06\n",
       "17.0                 4.863589e+06\n",
       "18.0                 4.707132e+06\n",
       "19.0                 4.809313e+06\n",
       "20.0                 5.990037e+06\n",
       "21.0                 5.493469e+06\n",
       "22.0                 5.173382e+06\n",
       "23.0                 4.689843e+06\n",
       "24.0                 3.854430e+06\n",
       "25.0                 4.052840e+06\n",
       "26.0                 3.973013e+06\n",
       "27.0                 2.250000e+06\n",
       "28.0                 5.026429e+06\n",
       "29.0                 4.236667e+06"
      ]
     },
     "execution_count": 325,
     "metadata": {},
     "output_type": "execute_result"
    }
   ],
   "source": [
    "#Выделим квартиры в Санкт-Петербурге в отдельную переменную c указанием средней цены каждого километра\n",
    "\n",
    "cityCentere_close_km = (data_correct\n",
    "                     .query('locality_name == \"Санкт-Петербург\"')\n",
    "                     .pivot_table(index='close_to_cityCenter', values='last_price', aggfunc=('mean')))\n",
    "\n",
    "#проверим результат вычислений\n",
    "cityCentere_close_km"
   ]
  },
  {
   "cell_type": "markdown",
   "metadata": {},
   "source": [
    "Судя по таблице, квартиры в центре стоят существенно дороже остальных в городе и с удаленностью от центра постепенно дешевеют"
   ]
  },
  {
   "cell_type": "markdown",
   "metadata": {},
   "source": [
    "### Общий вывод"
   ]
  },
  {
   "cell_type": "markdown",
   "metadata": {},
   "source": [
    "При подготовке данных было выявлено, что пропусков и ошибок возможно было избежать. Для того, чтобы в дальнейшем сразу иметь качественные исходные данные предлагается сделать некоторые столбцы системы обязательными к заполнению. \n",
    "Также стоит проверить работу системы в части передачи данных о закрытии заявок.  \n",
    "\n",
    "Cогласно проведенному исследовательскому анализу подготовленных данных было выявлено, цена на квартиру зависит от множества факторов самым важным из которых являетcя площадь квартиры и , соответственно, чем ближе квартира к центру находится квартира, тем выше цена за квадратный метр."
   ]
  }
 ],
 "metadata": {
  "ExecuteTimeLog": [
   {
    "duration": 88,
    "start_time": "2023-03-06T13:22:02.497Z"
   },
   {
    "duration": 731,
    "start_time": "2023-03-06T13:22:12.966Z"
   },
   {
    "duration": 85,
    "start_time": "2023-03-06T13:22:33.699Z"
   },
   {
    "duration": 86,
    "start_time": "2023-03-06T13:23:04.607Z"
   },
   {
    "duration": 76,
    "start_time": "2023-03-06T13:23:30.472Z"
   },
   {
    "duration": 74,
    "start_time": "2023-03-06T13:23:37.659Z"
   },
   {
    "duration": 153,
    "start_time": "2023-03-06T13:23:53.207Z"
   },
   {
    "duration": 107,
    "start_time": "2023-03-06T13:24:42.863Z"
   },
   {
    "duration": 119,
    "start_time": "2023-03-06T13:24:54.786Z"
   },
   {
    "duration": 93,
    "start_time": "2023-03-06T13:25:03.237Z"
   },
   {
    "duration": 203,
    "start_time": "2023-03-06T13:29:12.324Z"
   },
   {
    "duration": 283,
    "start_time": "2023-03-06T13:29:26.797Z"
   },
   {
    "duration": 101,
    "start_time": "2023-03-06T13:29:58.161Z"
   },
   {
    "duration": 145,
    "start_time": "2023-03-06T13:30:58.707Z"
   },
   {
    "duration": 105,
    "start_time": "2023-03-06T13:31:05.866Z"
   },
   {
    "duration": 88,
    "start_time": "2023-03-06T13:32:24.770Z"
   },
   {
    "duration": 89,
    "start_time": "2023-03-06T13:32:39.394Z"
   },
   {
    "duration": 88,
    "start_time": "2023-03-06T13:32:42.867Z"
   },
   {
    "duration": 85,
    "start_time": "2023-03-06T13:32:50.165Z"
   },
   {
    "duration": 93,
    "start_time": "2023-03-06T13:35:43.284Z"
   },
   {
    "duration": 1923,
    "start_time": "2023-03-06T13:41:34.195Z"
   },
   {
    "duration": 392,
    "start_time": "2023-03-06T13:41:45.092Z"
   },
   {
    "duration": 88,
    "start_time": "2023-03-06T13:41:54.075Z"
   },
   {
    "duration": 103,
    "start_time": "2023-03-06T13:42:03.270Z"
   },
   {
    "duration": 124,
    "start_time": "2023-03-06T13:42:14.368Z"
   },
   {
    "duration": 98,
    "start_time": "2023-03-06T13:42:32.092Z"
   },
   {
    "duration": 89,
    "start_time": "2023-03-06T13:42:38.098Z"
   },
   {
    "duration": 164,
    "start_time": "2023-03-06T13:42:45.421Z"
   },
   {
    "duration": 154,
    "start_time": "2023-03-06T13:42:50.723Z"
   },
   {
    "duration": 154,
    "start_time": "2023-03-06T13:43:16.734Z"
   },
   {
    "duration": 96,
    "start_time": "2023-03-06T13:43:22.267Z"
   },
   {
    "duration": 102,
    "start_time": "2023-03-06T13:43:34.669Z"
   },
   {
    "duration": 138,
    "start_time": "2023-03-06T13:43:41.633Z"
   },
   {
    "duration": 95,
    "start_time": "2023-03-06T13:43:46.195Z"
   },
   {
    "duration": 103,
    "start_time": "2023-03-06T13:43:55.873Z"
   },
   {
    "duration": 144,
    "start_time": "2023-03-06T13:44:01.617Z"
   },
   {
    "duration": 129,
    "start_time": "2023-03-06T13:44:11.079Z"
   },
   {
    "duration": 123,
    "start_time": "2023-03-06T13:46:49.022Z"
   },
   {
    "duration": 151,
    "start_time": "2023-03-06T13:47:00.575Z"
   },
   {
    "duration": 128,
    "start_time": "2023-03-06T13:52:03.896Z"
   },
   {
    "duration": 96,
    "start_time": "2023-03-06T13:53:07.789Z"
   },
   {
    "duration": 100,
    "start_time": "2023-03-06T13:53:37.092Z"
   },
   {
    "duration": 2529,
    "start_time": "2023-03-06T13:53:53.165Z"
   },
   {
    "duration": 122,
    "start_time": "2023-03-06T13:55:51.493Z"
   },
   {
    "duration": 1892,
    "start_time": "2023-03-06T13:56:20.862Z"
   },
   {
    "duration": 127,
    "start_time": "2023-03-06T13:56:40.605Z"
   },
   {
    "duration": 89,
    "start_time": "2023-03-06T13:56:45.997Z"
   },
   {
    "duration": 128,
    "start_time": "2023-03-06T13:56:53.878Z"
   },
   {
    "duration": 109,
    "start_time": "2023-03-06T13:57:52.888Z"
   },
   {
    "duration": 33,
    "start_time": "2023-03-06T13:58:23.429Z"
   },
   {
    "duration": 21,
    "start_time": "2023-03-06T13:58:41.193Z"
   },
   {
    "duration": 21,
    "start_time": "2023-03-06T13:59:49.528Z"
   },
   {
    "duration": 24,
    "start_time": "2023-03-06T13:59:59.467Z"
   },
   {
    "duration": 15,
    "start_time": "2023-03-06T14:03:42.707Z"
   },
   {
    "duration": 51,
    "start_time": "2023-03-06T16:40:56.457Z"
   },
   {
    "duration": 6,
    "start_time": "2023-03-06T16:41:09.866Z"
   },
   {
    "duration": 652,
    "start_time": "2023-03-06T16:41:17.654Z"
   },
   {
    "duration": 109,
    "start_time": "2023-03-06T16:41:24.268Z"
   },
   {
    "duration": 14,
    "start_time": "2023-03-06T16:41:24.378Z"
   },
   {
    "duration": 2257,
    "start_time": "2023-03-06T16:41:24.393Z"
   },
   {
    "duration": 11,
    "start_time": "2023-03-06T16:41:26.652Z"
   },
   {
    "duration": 46,
    "start_time": "2023-03-06T16:50:29.397Z"
   },
   {
    "duration": 12,
    "start_time": "2023-03-06T16:50:36.649Z"
   },
   {
    "duration": 39,
    "start_time": "2023-03-06T16:57:18.729Z"
   },
   {
    "duration": 29,
    "start_time": "2023-03-06T16:57:40.977Z"
   },
   {
    "duration": 22,
    "start_time": "2023-03-06T16:57:53.759Z"
   },
   {
    "duration": 25,
    "start_time": "2023-03-06T16:58:04.243Z"
   },
   {
    "duration": 43,
    "start_time": "2023-03-06T16:58:40.968Z"
   },
   {
    "duration": 9,
    "start_time": "2023-03-06T16:58:59.068Z"
   },
   {
    "duration": 12,
    "start_time": "2023-03-06T16:59:09.640Z"
   },
   {
    "duration": 2,
    "start_time": "2023-03-06T17:00:43.476Z"
   },
   {
    "duration": 49,
    "start_time": "2023-03-06T17:03:40.429Z"
   },
   {
    "duration": 59,
    "start_time": "2023-03-06T17:18:11.734Z"
   },
   {
    "duration": 205,
    "start_time": "2023-03-06T17:18:27.169Z"
   },
   {
    "duration": 8,
    "start_time": "2023-03-06T17:18:53.447Z"
   },
   {
    "duration": 214,
    "start_time": "2023-03-06T17:22:08.773Z"
   },
   {
    "duration": 218,
    "start_time": "2023-03-06T17:29:53.108Z"
   },
   {
    "duration": 223,
    "start_time": "2023-03-06T17:30:25.458Z"
   },
   {
    "duration": 814,
    "start_time": "2023-03-06T18:00:05.176Z"
   },
   {
    "duration": 870,
    "start_time": "2023-03-06T18:01:29.711Z"
   },
   {
    "duration": 693,
    "start_time": "2023-03-06T18:02:58.397Z"
   },
   {
    "duration": 710,
    "start_time": "2023-03-06T18:04:02.833Z"
   },
   {
    "duration": 4,
    "start_time": "2023-03-06T18:04:35.353Z"
   },
   {
    "duration": 16,
    "start_time": "2023-03-06T18:04:43.826Z"
   },
   {
    "duration": 12,
    "start_time": "2023-03-06T18:06:15.739Z"
   },
   {
    "duration": 12,
    "start_time": "2023-03-06T18:09:09.069Z"
   },
   {
    "duration": 6,
    "start_time": "2023-03-06T18:25:01.977Z"
   },
   {
    "duration": 5,
    "start_time": "2023-03-06T18:27:23.869Z"
   },
   {
    "duration": 799,
    "start_time": "2023-03-06T18:38:10.710Z"
   },
   {
    "duration": 13,
    "start_time": "2023-03-06T18:38:43.414Z"
   },
   {
    "duration": 3,
    "start_time": "2023-03-06T18:40:54.236Z"
   },
   {
    "duration": 60,
    "start_time": "2023-03-06T18:52:13.914Z"
   },
   {
    "duration": 7,
    "start_time": "2023-03-06T18:52:24.813Z"
   },
   {
    "duration": 543,
    "start_time": "2023-03-06T18:52:27.874Z"
   },
   {
    "duration": 16,
    "start_time": "2023-03-06T18:52:31.565Z"
   },
   {
    "duration": 9,
    "start_time": "2023-03-06T18:52:36.711Z"
   },
   {
    "duration": 10168,
    "start_time": "2023-03-06T18:52:55.346Z"
   },
   {
    "duration": 9,
    "start_time": "2023-03-06T18:53:05.515Z"
   },
   {
    "duration": 8454,
    "start_time": "2023-03-06T18:53:55.513Z"
   },
   {
    "duration": 8639,
    "start_time": "2023-03-06T18:55:09.735Z"
   },
   {
    "duration": 77,
    "start_time": "2023-03-07T06:46:14.387Z"
   },
   {
    "duration": 7,
    "start_time": "2023-03-07T06:48:22.803Z"
   },
   {
    "duration": 1234,
    "start_time": "2023-03-07T06:48:28.393Z"
   },
   {
    "duration": 9,
    "start_time": "2023-03-07T06:48:36.987Z"
   },
   {
    "duration": 2468,
    "start_time": "2023-03-07T07:04:04.918Z"
   },
   {
    "duration": 1627,
    "start_time": "2023-03-07T07:04:10.901Z"
   },
   {
    "duration": 17529,
    "start_time": "2023-03-07T07:04:33.571Z"
   },
   {
    "duration": 14867,
    "start_time": "2023-03-07T07:41:33.397Z"
   },
   {
    "duration": 5,
    "start_time": "2023-03-07T07:43:11.198Z"
   },
   {
    "duration": 10,
    "start_time": "2023-03-07T07:50:24.095Z"
   },
   {
    "duration": 36,
    "start_time": "2023-03-07T07:51:38.334Z"
   },
   {
    "duration": 39,
    "start_time": "2023-03-07T07:51:43.447Z"
   },
   {
    "duration": 3,
    "start_time": "2023-03-07T07:53:13.363Z"
   },
   {
    "duration": 47,
    "start_time": "2023-03-07T10:56:47.042Z"
   },
   {
    "duration": 598,
    "start_time": "2023-03-07T10:56:58.687Z"
   },
   {
    "duration": 17,
    "start_time": "2023-03-07T10:56:59.287Z"
   },
   {
    "duration": 2492,
    "start_time": "2023-03-07T10:56:59.306Z"
   },
   {
    "duration": 9,
    "start_time": "2023-03-07T10:57:01.799Z"
   },
   {
    "duration": 17,
    "start_time": "2023-03-07T10:57:01.810Z"
   },
   {
    "duration": 30,
    "start_time": "2023-03-07T10:57:01.828Z"
   },
   {
    "duration": 24,
    "start_time": "2023-03-07T10:57:01.859Z"
   },
   {
    "duration": 40,
    "start_time": "2023-03-07T10:57:01.885Z"
   },
   {
    "duration": 32,
    "start_time": "2023-03-07T10:57:01.926Z"
   },
   {
    "duration": 23,
    "start_time": "2023-03-07T10:57:30.358Z"
   },
   {
    "duration": 20,
    "start_time": "2023-03-07T10:57:43.359Z"
   },
   {
    "duration": 5,
    "start_time": "2023-03-07T11:55:58.262Z"
   },
   {
    "duration": 5,
    "start_time": "2023-03-07T11:56:10.351Z"
   },
   {
    "duration": 42,
    "start_time": "2023-03-07T11:56:40.587Z"
   },
   {
    "duration": 5,
    "start_time": "2023-03-07T11:58:26.702Z"
   },
   {
    "duration": 15,
    "start_time": "2023-03-07T12:20:19.824Z"
   },
   {
    "duration": 113,
    "start_time": "2023-03-07T12:26:04.810Z"
   },
   {
    "duration": 110,
    "start_time": "2023-03-07T12:26:12.263Z"
   },
   {
    "duration": 10,
    "start_time": "2023-03-07T12:26:37.842Z"
   },
   {
    "duration": 16,
    "start_time": "2023-03-07T12:27:21.604Z"
   },
   {
    "duration": 12,
    "start_time": "2023-03-07T12:29:30.700Z"
   },
   {
    "duration": 13,
    "start_time": "2023-03-07T12:30:17.632Z"
   },
   {
    "duration": 22,
    "start_time": "2023-03-07T12:30:25.093Z"
   },
   {
    "duration": 12,
    "start_time": "2023-03-07T12:40:23.984Z"
   },
   {
    "duration": 46,
    "start_time": "2023-03-07T12:41:17.529Z"
   },
   {
    "duration": 15,
    "start_time": "2023-03-07T12:41:40.564Z"
   },
   {
    "duration": 24,
    "start_time": "2023-03-07T12:41:46.593Z"
   },
   {
    "duration": 6,
    "start_time": "2023-03-07T12:56:48.977Z"
   },
   {
    "duration": 52,
    "start_time": "2023-03-07T13:04:01.086Z"
   },
   {
    "duration": 41,
    "start_time": "2023-03-07T13:04:08.786Z"
   },
   {
    "duration": 10,
    "start_time": "2023-03-08T07:41:32.009Z"
   },
   {
    "duration": 46,
    "start_time": "2023-03-08T07:41:48.275Z"
   },
   {
    "duration": 752,
    "start_time": "2023-03-08T07:42:20.324Z"
   },
   {
    "duration": 36,
    "start_time": "2023-03-08T07:42:28.308Z"
   },
   {
    "duration": 17,
    "start_time": "2023-03-08T07:42:43.806Z"
   },
   {
    "duration": 1231,
    "start_time": "2023-03-08T08:25:09.404Z"
   },
   {
    "duration": 1097,
    "start_time": "2023-03-08T09:19:14.049Z"
   },
   {
    "duration": 4,
    "start_time": "2023-03-08T09:19:31.570Z"
   },
   {
    "duration": 509,
    "start_time": "2023-03-08T09:19:41.999Z"
   },
   {
    "duration": 112,
    "start_time": "2023-03-08T09:21:01.424Z"
   },
   {
    "duration": 1074,
    "start_time": "2023-03-08T09:21:09.745Z"
   },
   {
    "duration": 9,
    "start_time": "2023-03-08T09:21:29.293Z"
   },
   {
    "duration": 10,
    "start_time": "2023-03-08T09:21:32.902Z"
   },
   {
    "duration": 1052,
    "start_time": "2023-03-08T09:21:40.376Z"
   },
   {
    "duration": 65,
    "start_time": "2023-03-08T21:49:34.111Z"
   },
   {
    "duration": 7,
    "start_time": "2023-03-08T21:56:19.449Z"
   },
   {
    "duration": 1531,
    "start_time": "2023-03-08T21:56:25.537Z"
   },
   {
    "duration": 7,
    "start_time": "2023-03-08T21:56:33.603Z"
   },
   {
    "duration": 72,
    "start_time": "2023-03-08T21:56:41.694Z"
   },
   {
    "duration": 15,
    "start_time": "2023-03-08T22:01:04.088Z"
   },
   {
    "duration": 5,
    "start_time": "2023-03-08T22:01:25.091Z"
   },
   {
    "duration": 9,
    "start_time": "2023-03-08T22:01:59.595Z"
   },
   {
    "duration": 6,
    "start_time": "2023-03-08T22:04:38.287Z"
   },
   {
    "duration": 187,
    "start_time": "2023-03-08T22:05:28.998Z"
   },
   {
    "duration": 193,
    "start_time": "2023-03-08T22:06:38.050Z"
   },
   {
    "duration": 28,
    "start_time": "2023-03-08T22:07:52.126Z"
   },
   {
    "duration": 2,
    "start_time": "2023-03-08T22:08:47.297Z"
   },
   {
    "duration": 2,
    "start_time": "2023-03-08T22:10:58.458Z"
   },
   {
    "duration": 2,
    "start_time": "2023-03-08T22:15:16.806Z"
   },
   {
    "duration": 2,
    "start_time": "2023-03-08T22:17:02.755Z"
   },
   {
    "duration": 2,
    "start_time": "2023-03-08T22:20:20.134Z"
   },
   {
    "duration": 2,
    "start_time": "2023-03-08T22:28:53.081Z"
   },
   {
    "duration": 3,
    "start_time": "2023-03-08T22:30:51.217Z"
   },
   {
    "duration": 10,
    "start_time": "2023-03-08T22:33:19.788Z"
   },
   {
    "duration": 3,
    "start_time": "2023-03-08T22:34:43.882Z"
   },
   {
    "duration": 9,
    "start_time": "2023-03-08T22:38:23.851Z"
   },
   {
    "duration": 10,
    "start_time": "2023-03-08T22:41:55.047Z"
   },
   {
    "duration": 8,
    "start_time": "2023-03-08T22:45:32.520Z"
   },
   {
    "duration": 50,
    "start_time": "2023-03-09T06:11:50.277Z"
   },
   {
    "duration": 1522,
    "start_time": "2023-03-09T06:11:54.169Z"
   },
   {
    "duration": 14,
    "start_time": "2023-03-09T06:12:00.123Z"
   },
   {
    "duration": 10,
    "start_time": "2023-03-09T06:12:20.005Z"
   },
   {
    "duration": 59,
    "start_time": "2023-03-09T06:31:59.598Z"
   },
   {
    "duration": 73,
    "start_time": "2023-03-09T06:32:12.473Z"
   },
   {
    "duration": 4,
    "start_time": "2023-03-09T06:38:31.539Z"
   },
   {
    "duration": 5,
    "start_time": "2023-03-09T06:38:40.401Z"
   },
   {
    "duration": 9,
    "start_time": "2023-03-09T06:38:56.213Z"
   },
   {
    "duration": 11,
    "start_time": "2023-03-09T06:39:02.451Z"
   },
   {
    "duration": 16,
    "start_time": "2023-03-09T07:03:41.440Z"
   },
   {
    "duration": 10,
    "start_time": "2023-03-09T07:06:39.468Z"
   },
   {
    "duration": 10,
    "start_time": "2023-03-09T07:06:39.666Z"
   },
   {
    "duration": 10,
    "start_time": "2023-03-09T07:06:39.861Z"
   },
   {
    "duration": 23,
    "start_time": "2023-03-09T10:13:38.435Z"
   },
   {
    "duration": 11,
    "start_time": "2023-03-09T10:14:16.294Z"
   },
   {
    "duration": 8,
    "start_time": "2023-03-09T10:24:12.821Z"
   },
   {
    "duration": 7,
    "start_time": "2023-03-09T10:26:36.680Z"
   },
   {
    "duration": 8,
    "start_time": "2023-03-09T10:26:43.786Z"
   },
   {
    "duration": 7,
    "start_time": "2023-03-09T10:27:52.228Z"
   },
   {
    "duration": 7,
    "start_time": "2023-03-09T10:30:22.735Z"
   },
   {
    "duration": 7,
    "start_time": "2023-03-09T10:33:15.403Z"
   },
   {
    "duration": 13,
    "start_time": "2023-03-09T10:33:33.616Z"
   },
   {
    "duration": 12,
    "start_time": "2023-03-09T18:22:27.690Z"
   },
   {
    "duration": 1723,
    "start_time": "2023-03-09T18:22:36.758Z"
   },
   {
    "duration": 114,
    "start_time": "2023-03-09T18:26:24.833Z"
   },
   {
    "duration": 7,
    "start_time": "2023-03-09T18:26:33.167Z"
   },
   {
    "duration": 7,
    "start_time": "2023-03-09T18:27:55.363Z"
   },
   {
    "duration": 14,
    "start_time": "2023-03-09T18:29:40.231Z"
   },
   {
    "duration": 9,
    "start_time": "2023-03-09T18:37:53.781Z"
   },
   {
    "duration": 296,
    "start_time": "2023-03-09T18:38:44.377Z"
   },
   {
    "duration": 256,
    "start_time": "2023-03-09T18:39:53.476Z"
   },
   {
    "duration": 240,
    "start_time": "2023-03-09T18:40:01.742Z"
   },
   {
    "duration": 260,
    "start_time": "2023-03-09T18:47:34.470Z"
   },
   {
    "duration": 35,
    "start_time": "2023-03-09T18:47:46.712Z"
   },
   {
    "duration": 29,
    "start_time": "2023-03-09T18:48:40.815Z"
   },
   {
    "duration": 9,
    "start_time": "2023-03-09T18:49:08.401Z"
   },
   {
    "duration": 243,
    "start_time": "2023-03-09T18:49:44.952Z"
   },
   {
    "duration": 268,
    "start_time": "2023-03-09T18:50:00.384Z"
   },
   {
    "duration": 267,
    "start_time": "2023-03-09T18:55:15.500Z"
   },
   {
    "duration": 264,
    "start_time": "2023-03-09T19:02:49.379Z"
   },
   {
    "duration": 6,
    "start_time": "2023-03-09T19:03:53.587Z"
   },
   {
    "duration": 39,
    "start_time": "2023-03-09T19:04:51.594Z"
   },
   {
    "duration": 30,
    "start_time": "2023-03-09T19:09:31.336Z"
   },
   {
    "duration": 93,
    "start_time": "2023-03-09T19:13:53.278Z"
   },
   {
    "duration": 45,
    "start_time": "2023-03-09T19:14:27.986Z"
   },
   {
    "duration": 12,
    "start_time": "2023-03-09T19:14:44.961Z"
   },
   {
    "duration": 10,
    "start_time": "2023-03-09T19:15:05.482Z"
   },
   {
    "duration": 28,
    "start_time": "2023-03-09T19:22:56.131Z"
   },
   {
    "duration": 7,
    "start_time": "2023-03-09T19:22:58.284Z"
   },
   {
    "duration": 3913,
    "start_time": "2023-03-09T19:57:30.535Z"
   },
   {
    "duration": 5,
    "start_time": "2023-03-09T19:58:59.703Z"
   },
   {
    "duration": 4071,
    "start_time": "2023-03-09T20:01:36.930Z"
   },
   {
    "duration": 60,
    "start_time": "2023-03-10T05:28:00.340Z"
   },
   {
    "duration": 80,
    "start_time": "2023-03-10T05:28:09.506Z"
   },
   {
    "duration": 1632,
    "start_time": "2023-03-10T05:28:16.137Z"
   },
   {
    "duration": 115,
    "start_time": "2023-03-10T05:28:22.550Z"
   },
   {
    "duration": 279,
    "start_time": "2023-03-10T05:28:38.894Z"
   },
   {
    "duration": 78,
    "start_time": "2023-03-10T05:30:11.390Z"
   },
   {
    "duration": 14,
    "start_time": "2023-03-10T05:30:27.771Z"
   },
   {
    "duration": 37,
    "start_time": "2023-03-10T05:31:30.089Z"
   },
   {
    "duration": 6,
    "start_time": "2023-03-10T05:34:07.164Z"
   },
   {
    "duration": 6,
    "start_time": "2023-03-10T05:34:16.439Z"
   },
   {
    "duration": 6,
    "start_time": "2023-03-10T05:34:21.903Z"
   },
   {
    "duration": 12,
    "start_time": "2023-03-10T05:35:13.766Z"
   },
   {
    "duration": 47,
    "start_time": "2023-03-10T05:40:52.727Z"
   },
   {
    "duration": 370,
    "start_time": "2023-03-10T05:50:18.573Z"
   },
   {
    "duration": 51,
    "start_time": "2023-03-10T05:52:55.749Z"
   },
   {
    "duration": 218,
    "start_time": "2023-03-10T05:54:11.738Z"
   },
   {
    "duration": 46,
    "start_time": "2023-03-10T05:54:37.862Z"
   },
   {
    "duration": 274,
    "start_time": "2023-03-10T05:54:44.112Z"
   },
   {
    "duration": 234,
    "start_time": "2023-03-10T05:54:54.690Z"
   },
   {
    "duration": 117,
    "start_time": "2023-03-10T05:55:10.552Z"
   },
   {
    "duration": 242,
    "start_time": "2023-03-10T05:55:19.617Z"
   },
   {
    "duration": 297,
    "start_time": "2023-03-10T05:57:40.715Z"
   },
   {
    "duration": 105,
    "start_time": "2023-03-10T05:57:47.249Z"
   },
   {
    "duration": 217,
    "start_time": "2023-03-10T05:57:59.803Z"
   },
   {
    "duration": 217,
    "start_time": "2023-03-10T05:59:05.776Z"
   },
   {
    "duration": 112,
    "start_time": "2023-03-10T06:00:23.315Z"
   },
   {
    "duration": 219,
    "start_time": "2023-03-10T06:00:37.011Z"
   },
   {
    "duration": 212,
    "start_time": "2023-03-10T06:01:04.839Z"
   },
   {
    "duration": 214,
    "start_time": "2023-03-10T06:01:07.195Z"
   },
   {
    "duration": 117,
    "start_time": "2023-03-10T06:01:15.227Z"
   },
   {
    "duration": 211,
    "start_time": "2023-03-10T06:01:22.212Z"
   },
   {
    "duration": 313,
    "start_time": "2023-03-10T06:02:04.256Z"
   },
   {
    "duration": 124,
    "start_time": "2023-03-10T06:02:11.202Z"
   },
   {
    "duration": 210,
    "start_time": "2023-03-10T06:02:17.046Z"
   },
   {
    "duration": 13,
    "start_time": "2023-03-10T06:05:39.860Z"
   },
   {
    "duration": 14,
    "start_time": "2023-03-10T06:06:04.714Z"
   },
   {
    "duration": 7,
    "start_time": "2023-03-10T06:33:24.841Z"
   },
   {
    "duration": 7,
    "start_time": "2023-03-10T06:33:26.800Z"
   },
   {
    "duration": 67,
    "start_time": "2023-03-10T20:09:30.105Z"
   },
   {
    "duration": 138,
    "start_time": "2023-03-10T20:12:27.950Z"
   },
   {
    "duration": 34,
    "start_time": "2023-03-10T20:13:16.365Z"
   },
   {
    "duration": 1247,
    "start_time": "2023-03-12T19:44:54.556Z"
   },
   {
    "duration": 0,
    "start_time": "2023-03-12T19:44:55.806Z"
   },
   {
    "duration": 0,
    "start_time": "2023-03-12T19:44:55.807Z"
   },
   {
    "duration": 0,
    "start_time": "2023-03-12T19:44:55.808Z"
   },
   {
    "duration": 0,
    "start_time": "2023-03-12T19:44:55.812Z"
   },
   {
    "duration": 0,
    "start_time": "2023-03-12T19:44:55.813Z"
   },
   {
    "duration": 0,
    "start_time": "2023-03-12T19:44:55.814Z"
   },
   {
    "duration": 0,
    "start_time": "2023-03-12T19:44:55.814Z"
   },
   {
    "duration": 0,
    "start_time": "2023-03-12T19:44:55.815Z"
   },
   {
    "duration": 0,
    "start_time": "2023-03-12T19:44:55.816Z"
   },
   {
    "duration": 0,
    "start_time": "2023-03-12T19:44:55.817Z"
   },
   {
    "duration": 0,
    "start_time": "2023-03-12T19:44:55.818Z"
   },
   {
    "duration": 0,
    "start_time": "2023-03-12T19:44:55.819Z"
   },
   {
    "duration": 0,
    "start_time": "2023-03-12T19:44:55.820Z"
   },
   {
    "duration": 0,
    "start_time": "2023-03-12T19:44:55.821Z"
   },
   {
    "duration": 0,
    "start_time": "2023-03-12T19:44:55.822Z"
   },
   {
    "duration": 0,
    "start_time": "2023-03-12T19:44:55.823Z"
   },
   {
    "duration": 0,
    "start_time": "2023-03-12T19:44:55.824Z"
   },
   {
    "duration": 0,
    "start_time": "2023-03-12T19:44:55.825Z"
   },
   {
    "duration": 0,
    "start_time": "2023-03-12T19:44:55.826Z"
   },
   {
    "duration": 0,
    "start_time": "2023-03-12T19:44:55.827Z"
   },
   {
    "duration": 0,
    "start_time": "2023-03-12T19:44:55.828Z"
   },
   {
    "duration": 0,
    "start_time": "2023-03-12T19:44:55.829Z"
   },
   {
    "duration": 0,
    "start_time": "2023-03-12T19:44:55.830Z"
   },
   {
    "duration": 0,
    "start_time": "2023-03-12T19:44:55.831Z"
   },
   {
    "duration": 0,
    "start_time": "2023-03-12T19:44:55.832Z"
   },
   {
    "duration": 0,
    "start_time": "2023-03-12T19:44:55.833Z"
   },
   {
    "duration": 0,
    "start_time": "2023-03-12T19:44:55.834Z"
   },
   {
    "duration": 0,
    "start_time": "2023-03-12T19:44:55.834Z"
   },
   {
    "duration": 0,
    "start_time": "2023-03-12T19:44:55.835Z"
   },
   {
    "duration": 0,
    "start_time": "2023-03-12T19:44:55.836Z"
   },
   {
    "duration": 0,
    "start_time": "2023-03-12T19:44:55.837Z"
   },
   {
    "duration": 0,
    "start_time": "2023-03-12T19:44:55.838Z"
   },
   {
    "duration": 0,
    "start_time": "2023-03-12T19:44:55.839Z"
   },
   {
    "duration": 0,
    "start_time": "2023-03-12T19:44:55.839Z"
   },
   {
    "duration": 0,
    "start_time": "2023-03-12T19:44:55.840Z"
   },
   {
    "duration": 0,
    "start_time": "2023-03-12T19:44:55.841Z"
   },
   {
    "duration": 0,
    "start_time": "2023-03-12T19:44:55.842Z"
   },
   {
    "duration": 0,
    "start_time": "2023-03-12T19:44:55.843Z"
   },
   {
    "duration": 0,
    "start_time": "2023-03-12T19:44:55.844Z"
   },
   {
    "duration": 0,
    "start_time": "2023-03-12T19:44:55.845Z"
   },
   {
    "duration": 0,
    "start_time": "2023-03-12T19:44:55.846Z"
   },
   {
    "duration": 0,
    "start_time": "2023-03-12T19:44:55.847Z"
   },
   {
    "duration": 0,
    "start_time": "2023-03-12T19:44:55.847Z"
   },
   {
    "duration": 0,
    "start_time": "2023-03-12T19:44:55.848Z"
   },
   {
    "duration": 0,
    "start_time": "2023-03-12T19:44:55.849Z"
   },
   {
    "duration": 0,
    "start_time": "2023-03-12T19:44:55.850Z"
   },
   {
    "duration": 0,
    "start_time": "2023-03-12T19:44:55.851Z"
   },
   {
    "duration": 0,
    "start_time": "2023-03-12T19:44:55.852Z"
   },
   {
    "duration": 0,
    "start_time": "2023-03-12T19:44:55.912Z"
   },
   {
    "duration": 0,
    "start_time": "2023-03-12T19:44:55.914Z"
   },
   {
    "duration": 0,
    "start_time": "2023-03-12T19:44:55.915Z"
   },
   {
    "duration": 0,
    "start_time": "2023-03-12T19:44:55.916Z"
   },
   {
    "duration": 0,
    "start_time": "2023-03-12T19:44:55.917Z"
   },
   {
    "duration": 0,
    "start_time": "2023-03-12T19:44:55.918Z"
   },
   {
    "duration": 0,
    "start_time": "2023-03-12T19:44:55.918Z"
   },
   {
    "duration": 0,
    "start_time": "2023-03-12T19:44:55.919Z"
   },
   {
    "duration": 0,
    "start_time": "2023-03-12T19:44:55.920Z"
   },
   {
    "duration": 0,
    "start_time": "2023-03-12T19:44:55.921Z"
   },
   {
    "duration": 0,
    "start_time": "2023-03-12T19:44:55.922Z"
   },
   {
    "duration": 0,
    "start_time": "2023-03-12T19:44:55.923Z"
   },
   {
    "duration": 0,
    "start_time": "2023-03-12T19:44:55.924Z"
   },
   {
    "duration": 0,
    "start_time": "2023-03-12T19:44:55.925Z"
   },
   {
    "duration": 0,
    "start_time": "2023-03-12T19:44:55.926Z"
   },
   {
    "duration": 0,
    "start_time": "2023-03-12T19:44:55.926Z"
   },
   {
    "duration": 0,
    "start_time": "2023-03-12T19:44:55.927Z"
   },
   {
    "duration": 0,
    "start_time": "2023-03-12T19:44:55.928Z"
   },
   {
    "duration": 0,
    "start_time": "2023-03-12T19:44:55.929Z"
   },
   {
    "duration": 0,
    "start_time": "2023-03-12T19:44:55.930Z"
   },
   {
    "duration": 0,
    "start_time": "2023-03-12T19:44:55.930Z"
   },
   {
    "duration": 0,
    "start_time": "2023-03-12T19:44:55.931Z"
   },
   {
    "duration": 0,
    "start_time": "2023-03-12T19:44:55.932Z"
   },
   {
    "duration": 0,
    "start_time": "2023-03-12T19:44:55.933Z"
   },
   {
    "duration": 0,
    "start_time": "2023-03-12T19:44:55.934Z"
   },
   {
    "duration": 0,
    "start_time": "2023-03-12T19:44:55.935Z"
   },
   {
    "duration": 0,
    "start_time": "2023-03-12T19:44:55.936Z"
   },
   {
    "duration": 0,
    "start_time": "2023-03-12T19:44:55.937Z"
   },
   {
    "duration": 91,
    "start_time": "2023-03-12T19:45:37.407Z"
   },
   {
    "duration": 1305,
    "start_time": "2023-03-12T19:45:43.819Z"
   },
   {
    "duration": 14,
    "start_time": "2023-03-12T19:45:45.126Z"
   },
   {
    "duration": 1963,
    "start_time": "2023-03-12T19:45:45.142Z"
   },
   {
    "duration": 105,
    "start_time": "2023-03-12T19:45:47.107Z"
   },
   {
    "duration": 23,
    "start_time": "2023-03-12T19:45:47.214Z"
   },
   {
    "duration": 9,
    "start_time": "2023-03-12T19:45:47.239Z"
   },
   {
    "duration": 7,
    "start_time": "2023-03-12T19:45:47.249Z"
   },
   {
    "duration": 11,
    "start_time": "2023-03-12T19:45:47.258Z"
   },
   {
    "duration": 8,
    "start_time": "2023-03-12T19:45:47.271Z"
   },
   {
    "duration": 32,
    "start_time": "2023-03-12T19:45:47.281Z"
   },
   {
    "duration": 263,
    "start_time": "2023-03-12T19:45:47.315Z"
   },
   {
    "duration": 10,
    "start_time": "2023-03-12T19:45:47.579Z"
   },
   {
    "duration": 6,
    "start_time": "2023-03-12T19:45:47.590Z"
   },
   {
    "duration": 17,
    "start_time": "2023-03-12T19:45:47.598Z"
   },
   {
    "duration": 9,
    "start_time": "2023-03-12T19:45:47.617Z"
   },
   {
    "duration": 5,
    "start_time": "2023-03-12T19:45:47.628Z"
   },
   {
    "duration": 10,
    "start_time": "2023-03-12T19:45:47.635Z"
   },
   {
    "duration": 4,
    "start_time": "2023-03-12T19:45:47.646Z"
   },
   {
    "duration": 8,
    "start_time": "2023-03-12T19:45:47.651Z"
   },
   {
    "duration": 7,
    "start_time": "2023-03-12T19:45:47.660Z"
   },
   {
    "duration": 45,
    "start_time": "2023-03-12T19:45:47.669Z"
   },
   {
    "duration": 10,
    "start_time": "2023-03-12T19:45:47.716Z"
   },
   {
    "duration": 8,
    "start_time": "2023-03-12T19:45:47.727Z"
   },
   {
    "duration": 4,
    "start_time": "2023-03-12T19:45:47.737Z"
   },
   {
    "duration": 9,
    "start_time": "2023-03-12T19:45:47.742Z"
   },
   {
    "duration": 15,
    "start_time": "2023-03-12T19:45:47.752Z"
   },
   {
    "duration": 9,
    "start_time": "2023-03-12T19:45:47.768Z"
   },
   {
    "duration": 41,
    "start_time": "2023-03-12T19:45:47.781Z"
   },
   {
    "duration": 8,
    "start_time": "2023-03-12T19:45:47.824Z"
   },
   {
    "duration": 10,
    "start_time": "2023-03-12T19:45:47.833Z"
   },
   {
    "duration": 9,
    "start_time": "2023-03-12T19:45:47.845Z"
   },
   {
    "duration": 6,
    "start_time": "2023-03-12T19:45:47.855Z"
   },
   {
    "duration": 5,
    "start_time": "2023-03-12T19:45:47.863Z"
   },
   {
    "duration": 56,
    "start_time": "2023-03-12T19:45:47.870Z"
   },
   {
    "duration": 6,
    "start_time": "2023-03-12T19:45:47.928Z"
   },
   {
    "duration": 6,
    "start_time": "2023-03-12T19:45:47.936Z"
   },
   {
    "duration": 6,
    "start_time": "2023-03-12T19:45:47.943Z"
   },
   {
    "duration": 23,
    "start_time": "2023-03-12T19:45:47.950Z"
   },
   {
    "duration": 320,
    "start_time": "2023-03-12T19:45:47.974Z"
   },
   {
    "duration": 4,
    "start_time": "2023-03-12T19:45:48.295Z"
   },
   {
    "duration": 27,
    "start_time": "2023-03-12T19:45:48.300Z"
   },
   {
    "duration": 292,
    "start_time": "2023-03-12T19:45:48.329Z"
   },
   {
    "duration": 171,
    "start_time": "2023-03-12T19:45:48.623Z"
   },
   {
    "duration": 198,
    "start_time": "2023-03-12T19:45:48.796Z"
   },
   {
    "duration": 239,
    "start_time": "2023-03-12T19:45:48.995Z"
   },
   {
    "duration": 262,
    "start_time": "2023-03-12T19:45:49.236Z"
   },
   {
    "duration": 276,
    "start_time": "2023-03-12T19:45:49.500Z"
   },
   {
    "duration": 148,
    "start_time": "2023-03-12T19:45:49.778Z"
   },
   {
    "duration": 119,
    "start_time": "2023-03-12T19:45:49.927Z"
   },
   {
    "duration": 170,
    "start_time": "2023-03-12T19:45:50.047Z"
   },
   {
    "duration": 131,
    "start_time": "2023-03-12T19:45:50.218Z"
   },
   {
    "duration": 149,
    "start_time": "2023-03-12T19:45:50.350Z"
   },
   {
    "duration": 170,
    "start_time": "2023-03-12T19:45:50.501Z"
   },
   {
    "duration": 274,
    "start_time": "2023-03-12T19:45:50.673Z"
   },
   {
    "duration": 5,
    "start_time": "2023-03-12T19:45:50.949Z"
   },
   {
    "duration": 158,
    "start_time": "2023-03-12T19:45:50.956Z"
   },
   {
    "duration": 6,
    "start_time": "2023-03-12T19:45:51.115Z"
   },
   {
    "duration": 11,
    "start_time": "2023-03-12T19:45:51.122Z"
   },
   {
    "duration": 238,
    "start_time": "2023-03-12T19:45:51.135Z"
   },
   {
    "duration": 301,
    "start_time": "2023-03-12T19:45:51.375Z"
   },
   {
    "duration": 9,
    "start_time": "2023-03-12T19:45:51.677Z"
   },
   {
    "duration": 31,
    "start_time": "2023-03-12T19:45:51.687Z"
   },
   {
    "duration": 153,
    "start_time": "2023-03-12T19:45:51.719Z"
   },
   {
    "duration": 7,
    "start_time": "2023-03-12T19:45:51.874Z"
   },
   {
    "duration": 49,
    "start_time": "2023-03-12T19:45:51.882Z"
   },
   {
    "duration": 107,
    "start_time": "2023-03-12T19:45:51.933Z"
   },
   {
    "duration": 173,
    "start_time": "2023-03-12T19:45:52.042Z"
   },
   {
    "duration": 187,
    "start_time": "2023-03-12T19:45:52.217Z"
   },
   {
    "duration": 606,
    "start_time": "2023-03-12T19:45:52.406Z"
   },
   {
    "duration": 194,
    "start_time": "2023-03-12T19:45:53.014Z"
   },
   {
    "duration": 5,
    "start_time": "2023-03-12T19:45:53.211Z"
   },
   {
    "duration": 204,
    "start_time": "2023-03-12T19:45:53.218Z"
   },
   {
    "duration": 73,
    "start_time": "2023-03-12T19:45:53.425Z"
   },
   {
    "duration": 34,
    "start_time": "2023-03-12T19:45:53.511Z"
   },
   {
    "duration": 23,
    "start_time": "2023-03-12T19:45:53.547Z"
   },
   {
    "duration": 40,
    "start_time": "2023-03-12T19:45:53.572Z"
   },
   {
    "duration": 24,
    "start_time": "2023-03-12T19:45:53.614Z"
   },
   {
    "duration": 5,
    "start_time": "2023-03-12T20:02:28.532Z"
   },
   {
    "duration": 1247,
    "start_time": "2023-03-12T20:02:46.010Z"
   },
   {
    "duration": 24,
    "start_time": "2023-03-12T20:02:47.259Z"
   },
   {
    "duration": 1865,
    "start_time": "2023-03-12T20:02:47.285Z"
   },
   {
    "duration": 116,
    "start_time": "2023-03-12T20:02:49.153Z"
   },
   {
    "duration": 25,
    "start_time": "2023-03-12T20:02:49.270Z"
   },
   {
    "duration": 21,
    "start_time": "2023-03-12T20:02:49.296Z"
   },
   {
    "duration": 7,
    "start_time": "2023-03-12T20:02:49.319Z"
   },
   {
    "duration": 5,
    "start_time": "2023-03-12T20:02:49.327Z"
   },
   {
    "duration": 7,
    "start_time": "2023-03-12T20:02:49.333Z"
   },
   {
    "duration": 19,
    "start_time": "2023-03-12T20:02:49.342Z"
   },
   {
    "duration": 7,
    "start_time": "2023-03-12T20:02:49.363Z"
   },
   {
    "duration": 283,
    "start_time": "2023-03-12T20:02:49.371Z"
   },
   {
    "duration": 5,
    "start_time": "2023-03-12T20:02:49.656Z"
   },
   {
    "duration": 10,
    "start_time": "2023-03-12T20:02:49.662Z"
   },
   {
    "duration": 5,
    "start_time": "2023-03-12T20:02:49.673Z"
   },
   {
    "duration": 5,
    "start_time": "2023-03-12T20:02:49.680Z"
   },
   {
    "duration": 31,
    "start_time": "2023-03-12T20:02:49.687Z"
   },
   {
    "duration": 9,
    "start_time": "2023-03-12T20:02:49.719Z"
   },
   {
    "duration": 18,
    "start_time": "2023-03-12T20:02:49.729Z"
   },
   {
    "duration": 4,
    "start_time": "2023-03-12T20:02:49.748Z"
   },
   {
    "duration": 8,
    "start_time": "2023-03-12T20:02:49.753Z"
   },
   {
    "duration": 5,
    "start_time": "2023-03-12T20:02:49.762Z"
   },
   {
    "duration": 9,
    "start_time": "2023-03-12T20:02:49.769Z"
   },
   {
    "duration": 9,
    "start_time": "2023-03-12T20:02:49.779Z"
   },
   {
    "duration": 6,
    "start_time": "2023-03-12T20:02:49.812Z"
   },
   {
    "duration": 5,
    "start_time": "2023-03-12T20:02:49.819Z"
   },
   {
    "duration": 12,
    "start_time": "2023-03-12T20:02:49.826Z"
   },
   {
    "duration": 5,
    "start_time": "2023-03-12T20:02:49.842Z"
   },
   {
    "duration": 14,
    "start_time": "2023-03-12T20:02:49.848Z"
   },
   {
    "duration": 18,
    "start_time": "2023-03-12T20:02:49.863Z"
   },
   {
    "duration": 34,
    "start_time": "2023-03-12T20:02:49.883Z"
   },
   {
    "duration": 10,
    "start_time": "2023-03-12T20:02:49.919Z"
   },
   {
    "duration": 9,
    "start_time": "2023-03-12T20:02:49.930Z"
   },
   {
    "duration": 6,
    "start_time": "2023-03-12T20:02:49.940Z"
   },
   {
    "duration": 3,
    "start_time": "2023-03-12T20:02:49.948Z"
   },
   {
    "duration": 26,
    "start_time": "2023-03-12T20:02:49.953Z"
   },
   {
    "duration": 35,
    "start_time": "2023-03-12T20:02:49.980Z"
   },
   {
    "duration": 8,
    "start_time": "2023-03-12T20:02:50.017Z"
   },
   {
    "duration": 9,
    "start_time": "2023-03-12T20:02:50.027Z"
   },
   {
    "duration": 30,
    "start_time": "2023-03-12T20:02:50.038Z"
   },
   {
    "duration": 320,
    "start_time": "2023-03-12T20:02:50.069Z"
   },
   {
    "duration": 4,
    "start_time": "2023-03-12T20:02:50.391Z"
   },
   {
    "duration": 47,
    "start_time": "2023-03-12T20:02:50.397Z"
   },
   {
    "duration": 277,
    "start_time": "2023-03-12T20:02:50.446Z"
   },
   {
    "duration": 159,
    "start_time": "2023-03-12T20:02:50.725Z"
   },
   {
    "duration": 212,
    "start_time": "2023-03-12T20:02:50.885Z"
   },
   {
    "duration": 238,
    "start_time": "2023-03-12T20:02:51.098Z"
   },
   {
    "duration": 258,
    "start_time": "2023-03-12T20:02:51.337Z"
   },
   {
    "duration": 268,
    "start_time": "2023-03-12T20:02:51.596Z"
   },
   {
    "duration": 163,
    "start_time": "2023-03-12T20:02:51.865Z"
   },
   {
    "duration": 126,
    "start_time": "2023-03-12T20:02:52.029Z"
   },
   {
    "duration": 169,
    "start_time": "2023-03-12T20:02:52.157Z"
   },
   {
    "duration": 132,
    "start_time": "2023-03-12T20:02:52.327Z"
   },
   {
    "duration": 160,
    "start_time": "2023-03-12T20:02:52.461Z"
   },
   {
    "duration": 179,
    "start_time": "2023-03-12T20:02:52.623Z"
   },
   {
    "duration": 266,
    "start_time": "2023-03-12T20:02:52.804Z"
   },
   {
    "duration": 6,
    "start_time": "2023-03-12T20:02:53.072Z"
   },
   {
    "duration": 142,
    "start_time": "2023-03-12T20:02:53.079Z"
   },
   {
    "duration": 6,
    "start_time": "2023-03-12T20:02:53.223Z"
   },
   {
    "duration": 9,
    "start_time": "2023-03-12T20:02:53.231Z"
   },
   {
    "duration": 254,
    "start_time": "2023-03-12T20:02:53.242Z"
   },
   {
    "duration": 250,
    "start_time": "2023-03-12T20:02:53.498Z"
   },
   {
    "duration": 8,
    "start_time": "2023-03-12T20:02:53.750Z"
   },
   {
    "duration": 9,
    "start_time": "2023-03-12T20:02:53.759Z"
   },
   {
    "duration": 121,
    "start_time": "2023-03-12T20:02:53.769Z"
   },
   {
    "duration": 8,
    "start_time": "2023-03-12T20:02:53.891Z"
   },
   {
    "duration": 26,
    "start_time": "2023-03-12T20:02:53.912Z"
   },
   {
    "duration": 127,
    "start_time": "2023-03-12T20:02:53.940Z"
   },
   {
    "duration": 210,
    "start_time": "2023-03-12T20:02:54.069Z"
   },
   {
    "duration": 188,
    "start_time": "2023-03-12T20:02:54.281Z"
   },
   {
    "duration": 578,
    "start_time": "2023-03-12T20:02:54.471Z"
   },
   {
    "duration": 174,
    "start_time": "2023-03-12T20:02:55.051Z"
   },
   {
    "duration": 5,
    "start_time": "2023-03-12T20:02:55.227Z"
   },
   {
    "duration": 180,
    "start_time": "2023-03-12T20:02:55.234Z"
   },
   {
    "duration": 51,
    "start_time": "2023-03-12T20:02:55.416Z"
   },
   {
    "duration": 21,
    "start_time": "2023-03-12T20:02:55.468Z"
   },
   {
    "duration": 35,
    "start_time": "2023-03-12T20:02:55.491Z"
   },
   {
    "duration": 15,
    "start_time": "2023-03-12T20:02:55.528Z"
   },
   {
    "duration": 21,
    "start_time": "2023-03-12T20:02:55.545Z"
   },
   {
    "duration": 4,
    "start_time": "2023-03-12T20:20:58.794Z"
   },
   {
    "duration": 5,
    "start_time": "2023-03-12T20:22:06.392Z"
   },
   {
    "duration": 8,
    "start_time": "2023-03-12T20:22:15.030Z"
   },
   {
    "duration": 6,
    "start_time": "2023-03-12T20:27:59.558Z"
   },
   {
    "duration": 5,
    "start_time": "2023-03-12T20:28:17.962Z"
   },
   {
    "duration": 5,
    "start_time": "2023-03-12T20:36:24.923Z"
   },
   {
    "duration": 267,
    "start_time": "2023-03-12T20:40:56.001Z"
   },
   {
    "duration": 268,
    "start_time": "2023-03-12T20:40:59.557Z"
   },
   {
    "duration": 49,
    "start_time": "2023-03-13T05:22:30.440Z"
   },
   {
    "duration": 1354,
    "start_time": "2023-03-13T05:22:56.647Z"
   },
   {
    "duration": 339,
    "start_time": "2023-03-13T05:22:58.003Z"
   },
   {
    "duration": 1235,
    "start_time": "2023-03-13T05:23:18.833Z"
   },
   {
    "duration": 3,
    "start_time": "2023-03-13T05:23:35.901Z"
   },
   {
    "duration": 97,
    "start_time": "2023-03-13T05:23:35.910Z"
   },
   {
    "duration": 17,
    "start_time": "2023-03-13T05:23:36.009Z"
   },
   {
    "duration": 2095,
    "start_time": "2023-03-13T05:23:36.028Z"
   },
   {
    "duration": 107,
    "start_time": "2023-03-13T05:23:38.125Z"
   },
   {
    "duration": 35,
    "start_time": "2023-03-13T05:23:38.235Z"
   },
   {
    "duration": 10,
    "start_time": "2023-03-13T05:23:38.278Z"
   },
   {
    "duration": 8,
    "start_time": "2023-03-13T05:23:38.290Z"
   },
   {
    "duration": 16,
    "start_time": "2023-03-13T05:23:38.301Z"
   },
   {
    "duration": 27,
    "start_time": "2023-03-13T05:23:38.319Z"
   },
   {
    "duration": 11,
    "start_time": "2023-03-13T05:23:38.349Z"
   },
   {
    "duration": 287,
    "start_time": "2023-03-13T05:23:38.362Z"
   },
   {
    "duration": 10,
    "start_time": "2023-03-13T05:23:38.651Z"
   },
   {
    "duration": 21,
    "start_time": "2023-03-13T05:23:38.662Z"
   },
   {
    "duration": 15,
    "start_time": "2023-03-13T05:23:38.688Z"
   },
   {
    "duration": 23,
    "start_time": "2023-03-13T05:23:38.705Z"
   },
   {
    "duration": 23,
    "start_time": "2023-03-13T05:23:38.730Z"
   },
   {
    "duration": 16,
    "start_time": "2023-03-13T05:23:38.755Z"
   },
   {
    "duration": 5,
    "start_time": "2023-03-13T05:23:38.772Z"
   },
   {
    "duration": 21,
    "start_time": "2023-03-13T05:23:38.779Z"
   },
   {
    "duration": 23,
    "start_time": "2023-03-13T05:23:38.802Z"
   },
   {
    "duration": 21,
    "start_time": "2023-03-13T05:23:38.826Z"
   },
   {
    "duration": 14,
    "start_time": "2023-03-13T05:23:38.849Z"
   },
   {
    "duration": 9,
    "start_time": "2023-03-13T05:23:38.864Z"
   },
   {
    "duration": 12,
    "start_time": "2023-03-13T05:23:38.875Z"
   },
   {
    "duration": 23,
    "start_time": "2023-03-13T05:23:38.889Z"
   },
   {
    "duration": 17,
    "start_time": "2023-03-13T05:23:38.914Z"
   },
   {
    "duration": 13,
    "start_time": "2023-03-13T05:23:38.933Z"
   },
   {
    "duration": 26,
    "start_time": "2023-03-13T05:23:38.948Z"
   },
   {
    "duration": 20,
    "start_time": "2023-03-13T05:23:38.976Z"
   },
   {
    "duration": 31,
    "start_time": "2023-03-13T05:23:38.998Z"
   },
   {
    "duration": 25,
    "start_time": "2023-03-13T05:23:39.031Z"
   },
   {
    "duration": 22,
    "start_time": "2023-03-13T05:23:39.058Z"
   },
   {
    "duration": 24,
    "start_time": "2023-03-13T05:23:39.082Z"
   },
   {
    "duration": 47,
    "start_time": "2023-03-13T05:23:39.108Z"
   },
   {
    "duration": 20,
    "start_time": "2023-03-13T05:23:39.157Z"
   },
   {
    "duration": 17,
    "start_time": "2023-03-13T05:23:39.179Z"
   },
   {
    "duration": 15,
    "start_time": "2023-03-13T05:23:39.198Z"
   },
   {
    "duration": 32,
    "start_time": "2023-03-13T05:23:39.215Z"
   },
   {
    "duration": 348,
    "start_time": "2023-03-13T05:23:39.249Z"
   },
   {
    "duration": 6,
    "start_time": "2023-03-13T05:23:39.599Z"
   },
   {
    "duration": 34,
    "start_time": "2023-03-13T05:23:39.612Z"
   },
   {
    "duration": 361,
    "start_time": "2023-03-13T05:23:39.647Z"
   },
   {
    "duration": 175,
    "start_time": "2023-03-13T05:23:40.011Z"
   },
   {
    "duration": 220,
    "start_time": "2023-03-13T05:23:40.188Z"
   },
   {
    "duration": 269,
    "start_time": "2023-03-13T05:23:40.410Z"
   },
   {
    "duration": 291,
    "start_time": "2023-03-13T05:23:40.681Z"
   },
   {
    "duration": 290,
    "start_time": "2023-03-13T05:23:40.974Z"
   },
   {
    "duration": 165,
    "start_time": "2023-03-13T05:23:41.266Z"
   },
   {
    "duration": 146,
    "start_time": "2023-03-13T05:23:41.433Z"
   },
   {
    "duration": 200,
    "start_time": "2023-03-13T05:23:41.581Z"
   },
   {
    "duration": 149,
    "start_time": "2023-03-13T05:23:41.783Z"
   },
   {
    "duration": 179,
    "start_time": "2023-03-13T05:23:41.933Z"
   },
   {
    "duration": 210,
    "start_time": "2023-03-13T05:23:42.114Z"
   },
   {
    "duration": 352,
    "start_time": "2023-03-13T05:23:42.325Z"
   },
   {
    "duration": 7,
    "start_time": "2023-03-13T05:23:42.679Z"
   },
   {
    "duration": 168,
    "start_time": "2023-03-13T05:23:42.688Z"
   },
   {
    "duration": 7,
    "start_time": "2023-03-13T05:23:42.857Z"
   },
   {
    "duration": 25,
    "start_time": "2023-03-13T05:23:42.865Z"
   },
   {
    "duration": 264,
    "start_time": "2023-03-13T05:23:42.892Z"
   },
   {
    "duration": 268,
    "start_time": "2023-03-13T05:23:43.158Z"
   },
   {
    "duration": 9,
    "start_time": "2023-03-13T05:23:43.428Z"
   },
   {
    "duration": 20,
    "start_time": "2023-03-13T05:23:43.439Z"
   },
   {
    "duration": 141,
    "start_time": "2023-03-13T05:23:43.461Z"
   },
   {
    "duration": 8,
    "start_time": "2023-03-13T05:23:43.604Z"
   },
   {
    "duration": 36,
    "start_time": "2023-03-13T05:23:43.614Z"
   },
   {
    "duration": 135,
    "start_time": "2023-03-13T05:23:43.652Z"
   },
   {
    "duration": 197,
    "start_time": "2023-03-13T05:23:43.790Z"
   },
   {
    "duration": 223,
    "start_time": "2023-03-13T05:23:43.990Z"
   },
   {
    "duration": 663,
    "start_time": "2023-03-13T05:23:44.214Z"
   },
   {
    "duration": 206,
    "start_time": "2023-03-13T05:23:44.879Z"
   },
   {
    "duration": 6,
    "start_time": "2023-03-13T05:23:45.086Z"
   },
   {
    "duration": 202,
    "start_time": "2023-03-13T05:23:45.094Z"
   },
   {
    "duration": 55,
    "start_time": "2023-03-13T05:23:45.298Z"
   },
   {
    "duration": 41,
    "start_time": "2023-03-13T05:23:45.354Z"
   },
   {
    "duration": 16,
    "start_time": "2023-03-13T05:23:45.396Z"
   },
   {
    "duration": 25,
    "start_time": "2023-03-13T05:23:45.413Z"
   },
   {
    "duration": 45,
    "start_time": "2023-03-13T05:23:45.440Z"
   },
   {
    "duration": 69,
    "start_time": "2023-03-13T05:24:58.039Z"
   },
   {
    "duration": 70,
    "start_time": "2023-03-13T05:25:06.811Z"
   },
   {
    "duration": 75,
    "start_time": "2023-03-13T05:53:41.751Z"
   },
   {
    "duration": 70,
    "start_time": "2023-03-13T05:54:45.539Z"
   },
   {
    "duration": 80,
    "start_time": "2023-03-13T19:06:56.329Z"
   },
   {
    "duration": 1388,
    "start_time": "2023-03-13T19:08:38.286Z"
   },
   {
    "duration": 325,
    "start_time": "2023-03-13T19:08:39.676Z"
   },
   {
    "duration": 9,
    "start_time": "2023-03-13T19:08:48.309Z"
   },
   {
    "duration": 3,
    "start_time": "2023-03-13T19:09:03.738Z"
   },
   {
    "duration": 99,
    "start_time": "2023-03-13T19:09:04.403Z"
   },
   {
    "duration": 6,
    "start_time": "2023-03-13T19:09:12.492Z"
   },
   {
    "duration": 7,
    "start_time": "2023-03-13T19:09:16.793Z"
   },
   {
    "duration": 5,
    "start_time": "2023-03-13T19:25:43.594Z"
   },
   {
    "duration": 3,
    "start_time": "2023-03-13T19:25:52.652Z"
   },
   {
    "duration": 98,
    "start_time": "2023-03-13T19:25:53.096Z"
   },
   {
    "duration": 6,
    "start_time": "2023-03-13T19:26:04.506Z"
   },
   {
    "duration": 5,
    "start_time": "2023-03-13T19:26:29.022Z"
   },
   {
    "duration": 138,
    "start_time": "2023-03-13T19:26:39.600Z"
   },
   {
    "duration": 30,
    "start_time": "2023-03-13T19:27:00.698Z"
   },
   {
    "duration": 7,
    "start_time": "2023-03-13T19:28:40.420Z"
   },
   {
    "duration": 7,
    "start_time": "2023-03-13T19:29:09.206Z"
   },
   {
    "duration": 30,
    "start_time": "2023-03-13T19:29:29.096Z"
   },
   {
    "duration": 9,
    "start_time": "2023-03-13T19:30:02.876Z"
   },
   {
    "duration": 108,
    "start_time": "2023-03-13T19:30:02.891Z"
   },
   {
    "duration": 15,
    "start_time": "2023-03-13T19:30:03.001Z"
   },
   {
    "duration": 2217,
    "start_time": "2023-03-13T19:30:03.018Z"
   },
   {
    "duration": 27,
    "start_time": "2023-03-13T19:30:05.238Z"
   },
   {
    "duration": 45,
    "start_time": "2023-03-13T19:30:05.267Z"
   },
   {
    "duration": 11,
    "start_time": "2023-03-13T19:30:05.313Z"
   },
   {
    "duration": 97,
    "start_time": "2023-03-13T19:30:05.326Z"
   },
   {
    "duration": 23,
    "start_time": "2023-03-13T19:30:05.425Z"
   },
   {
    "duration": 18,
    "start_time": "2023-03-13T19:30:05.450Z"
   },
   {
    "duration": 12,
    "start_time": "2023-03-13T19:30:05.471Z"
   },
   {
    "duration": 25,
    "start_time": "2023-03-13T19:30:05.484Z"
   },
   {
    "duration": 41,
    "start_time": "2023-03-13T19:30:05.511Z"
   },
   {
    "duration": 115,
    "start_time": "2023-03-13T19:30:05.553Z"
   },
   {
    "duration": 0,
    "start_time": "2023-03-13T19:30:05.672Z"
   },
   {
    "duration": 0,
    "start_time": "2023-03-13T19:30:05.674Z"
   },
   {
    "duration": 0,
    "start_time": "2023-03-13T19:30:05.675Z"
   },
   {
    "duration": 0,
    "start_time": "2023-03-13T19:30:05.680Z"
   },
   {
    "duration": 0,
    "start_time": "2023-03-13T19:30:05.681Z"
   },
   {
    "duration": 0,
    "start_time": "2023-03-13T19:30:05.682Z"
   },
   {
    "duration": 0,
    "start_time": "2023-03-13T19:30:05.684Z"
   },
   {
    "duration": 0,
    "start_time": "2023-03-13T19:30:05.685Z"
   },
   {
    "duration": 0,
    "start_time": "2023-03-13T19:30:05.686Z"
   },
   {
    "duration": 0,
    "start_time": "2023-03-13T19:30:05.688Z"
   },
   {
    "duration": 0,
    "start_time": "2023-03-13T19:30:05.690Z"
   },
   {
    "duration": 0,
    "start_time": "2023-03-13T19:30:05.691Z"
   },
   {
    "duration": 0,
    "start_time": "2023-03-13T19:30:05.693Z"
   },
   {
    "duration": 0,
    "start_time": "2023-03-13T19:30:05.694Z"
   },
   {
    "duration": 0,
    "start_time": "2023-03-13T19:30:05.695Z"
   },
   {
    "duration": 0,
    "start_time": "2023-03-13T19:30:05.696Z"
   },
   {
    "duration": 0,
    "start_time": "2023-03-13T19:30:05.698Z"
   },
   {
    "duration": 0,
    "start_time": "2023-03-13T19:30:05.700Z"
   },
   {
    "duration": 0,
    "start_time": "2023-03-13T19:30:05.701Z"
   },
   {
    "duration": 0,
    "start_time": "2023-03-13T19:30:05.702Z"
   },
   {
    "duration": 0,
    "start_time": "2023-03-13T19:30:05.703Z"
   },
   {
    "duration": 0,
    "start_time": "2023-03-13T19:30:05.705Z"
   },
   {
    "duration": 0,
    "start_time": "2023-03-13T19:30:05.706Z"
   },
   {
    "duration": 0,
    "start_time": "2023-03-13T19:30:05.708Z"
   },
   {
    "duration": 0,
    "start_time": "2023-03-13T19:30:05.709Z"
   },
   {
    "duration": 0,
    "start_time": "2023-03-13T19:30:05.710Z"
   },
   {
    "duration": 0,
    "start_time": "2023-03-13T19:30:05.711Z"
   },
   {
    "duration": 0,
    "start_time": "2023-03-13T19:30:05.713Z"
   },
   {
    "duration": 0,
    "start_time": "2023-03-13T19:30:05.714Z"
   },
   {
    "duration": 0,
    "start_time": "2023-03-13T19:30:05.715Z"
   },
   {
    "duration": 0,
    "start_time": "2023-03-13T19:30:05.716Z"
   },
   {
    "duration": 0,
    "start_time": "2023-03-13T19:30:05.718Z"
   },
   {
    "duration": 0,
    "start_time": "2023-03-13T19:30:05.719Z"
   },
   {
    "duration": 0,
    "start_time": "2023-03-13T19:30:05.720Z"
   },
   {
    "duration": 0,
    "start_time": "2023-03-13T19:30:05.722Z"
   },
   {
    "duration": 0,
    "start_time": "2023-03-13T19:30:05.782Z"
   },
   {
    "duration": 0,
    "start_time": "2023-03-13T19:30:05.783Z"
   },
   {
    "duration": 0,
    "start_time": "2023-03-13T19:30:05.783Z"
   },
   {
    "duration": 0,
    "start_time": "2023-03-13T19:30:05.784Z"
   },
   {
    "duration": 0,
    "start_time": "2023-03-13T19:30:05.785Z"
   },
   {
    "duration": 0,
    "start_time": "2023-03-13T19:30:05.790Z"
   },
   {
    "duration": 0,
    "start_time": "2023-03-13T19:30:05.791Z"
   },
   {
    "duration": 0,
    "start_time": "2023-03-13T19:30:05.792Z"
   },
   {
    "duration": 0,
    "start_time": "2023-03-13T19:30:05.793Z"
   },
   {
    "duration": 0,
    "start_time": "2023-03-13T19:30:05.794Z"
   },
   {
    "duration": 0,
    "start_time": "2023-03-13T19:30:05.795Z"
   },
   {
    "duration": 0,
    "start_time": "2023-03-13T19:30:05.796Z"
   },
   {
    "duration": 0,
    "start_time": "2023-03-13T19:30:05.797Z"
   },
   {
    "duration": 0,
    "start_time": "2023-03-13T19:30:05.798Z"
   },
   {
    "duration": 0,
    "start_time": "2023-03-13T19:30:05.799Z"
   },
   {
    "duration": 0,
    "start_time": "2023-03-13T19:30:05.801Z"
   },
   {
    "duration": 0,
    "start_time": "2023-03-13T19:30:05.802Z"
   },
   {
    "duration": 0,
    "start_time": "2023-03-13T19:30:05.803Z"
   },
   {
    "duration": 0,
    "start_time": "2023-03-13T19:30:05.804Z"
   },
   {
    "duration": 0,
    "start_time": "2023-03-13T19:30:05.805Z"
   },
   {
    "duration": 0,
    "start_time": "2023-03-13T19:30:05.807Z"
   },
   {
    "duration": 0,
    "start_time": "2023-03-13T19:30:05.808Z"
   },
   {
    "duration": 0,
    "start_time": "2023-03-13T19:30:05.809Z"
   },
   {
    "duration": 0,
    "start_time": "2023-03-13T19:30:05.810Z"
   },
   {
    "duration": 0,
    "start_time": "2023-03-13T19:30:05.811Z"
   },
   {
    "duration": 0,
    "start_time": "2023-03-13T19:30:05.812Z"
   },
   {
    "duration": 0,
    "start_time": "2023-03-13T19:30:05.813Z"
   },
   {
    "duration": 0,
    "start_time": "2023-03-13T19:30:05.814Z"
   },
   {
    "duration": 0,
    "start_time": "2023-03-13T19:30:05.816Z"
   },
   {
    "duration": 0,
    "start_time": "2023-03-13T19:30:05.817Z"
   },
   {
    "duration": 0,
    "start_time": "2023-03-13T19:30:05.818Z"
   },
   {
    "duration": 3,
    "start_time": "2023-03-13T19:30:34.322Z"
   },
   {
    "duration": 119,
    "start_time": "2023-03-13T19:30:34.327Z"
   },
   {
    "duration": 35,
    "start_time": "2023-03-13T19:30:34.449Z"
   },
   {
    "duration": 2176,
    "start_time": "2023-03-13T19:30:34.486Z"
   },
   {
    "duration": 42,
    "start_time": "2023-03-13T19:30:36.664Z"
   },
   {
    "duration": 25,
    "start_time": "2023-03-13T19:30:36.708Z"
   },
   {
    "duration": 12,
    "start_time": "2023-03-13T19:30:36.735Z"
   },
   {
    "duration": 19,
    "start_time": "2023-03-13T19:30:36.749Z"
   },
   {
    "duration": 27,
    "start_time": "2023-03-13T19:30:36.779Z"
   },
   {
    "duration": 27,
    "start_time": "2023-03-13T19:30:36.808Z"
   },
   {
    "duration": 17,
    "start_time": "2023-03-13T19:30:36.838Z"
   },
   {
    "duration": 42,
    "start_time": "2023-03-13T19:30:36.857Z"
   },
   {
    "duration": 47,
    "start_time": "2023-03-13T19:30:36.902Z"
   },
   {
    "duration": 53,
    "start_time": "2023-03-13T19:30:36.951Z"
   },
   {
    "duration": 16,
    "start_time": "2023-03-13T19:30:37.006Z"
   },
   {
    "duration": 27,
    "start_time": "2023-03-13T19:30:37.024Z"
   },
   {
    "duration": 34,
    "start_time": "2023-03-13T19:30:37.053Z"
   },
   {
    "duration": 28,
    "start_time": "2023-03-13T19:30:37.088Z"
   },
   {
    "duration": 24,
    "start_time": "2023-03-13T19:30:37.118Z"
   },
   {
    "duration": 25,
    "start_time": "2023-03-13T19:30:37.143Z"
   },
   {
    "duration": 29,
    "start_time": "2023-03-13T19:30:37.169Z"
   },
   {
    "duration": 21,
    "start_time": "2023-03-13T19:30:37.200Z"
   },
   {
    "duration": 42,
    "start_time": "2023-03-13T19:30:37.223Z"
   },
   {
    "duration": 41,
    "start_time": "2023-03-13T19:30:37.267Z"
   },
   {
    "duration": 11,
    "start_time": "2023-03-13T19:30:37.310Z"
   },
   {
    "duration": 22,
    "start_time": "2023-03-13T19:30:37.323Z"
   },
   {
    "duration": 57,
    "start_time": "2023-03-13T19:30:37.347Z"
   },
   {
    "duration": 91,
    "start_time": "2023-03-13T19:30:37.406Z"
   },
   {
    "duration": 19,
    "start_time": "2023-03-13T19:30:37.504Z"
   },
   {
    "duration": 41,
    "start_time": "2023-03-13T19:30:37.525Z"
   },
   {
    "duration": 7,
    "start_time": "2023-03-13T19:30:37.568Z"
   },
   {
    "duration": 39,
    "start_time": "2023-03-13T19:30:37.577Z"
   },
   {
    "duration": 13,
    "start_time": "2023-03-13T19:30:37.618Z"
   },
   {
    "duration": 21,
    "start_time": "2023-03-13T19:30:37.633Z"
   },
   {
    "duration": 24,
    "start_time": "2023-03-13T19:30:37.656Z"
   },
   {
    "duration": 46,
    "start_time": "2023-03-13T19:30:37.682Z"
   },
   {
    "duration": 17,
    "start_time": "2023-03-13T19:30:37.730Z"
   },
   {
    "duration": 19,
    "start_time": "2023-03-13T19:30:37.749Z"
   },
   {
    "duration": 26,
    "start_time": "2023-03-13T19:30:37.770Z"
   },
   {
    "duration": 39,
    "start_time": "2023-03-13T19:30:37.797Z"
   },
   {
    "duration": 470,
    "start_time": "2023-03-13T19:30:37.837Z"
   },
   {
    "duration": 5,
    "start_time": "2023-03-13T19:30:38.309Z"
   },
   {
    "duration": 53,
    "start_time": "2023-03-13T19:30:38.315Z"
   },
   {
    "duration": 337,
    "start_time": "2023-03-13T19:30:38.370Z"
   },
   {
    "duration": 200,
    "start_time": "2023-03-13T19:30:38.709Z"
   },
   {
    "duration": 218,
    "start_time": "2023-03-13T19:30:38.910Z"
   },
   {
    "duration": 276,
    "start_time": "2023-03-13T19:30:39.130Z"
   },
   {
    "duration": 342,
    "start_time": "2023-03-13T19:30:39.408Z"
   },
   {
    "duration": 203,
    "start_time": "2023-03-13T19:30:39.752Z"
   },
   {
    "duration": 297,
    "start_time": "2023-03-13T19:30:39.956Z"
   },
   {
    "duration": 159,
    "start_time": "2023-03-13T19:30:40.255Z"
   },
   {
    "duration": 211,
    "start_time": "2023-03-13T19:30:40.415Z"
   },
   {
    "duration": 202,
    "start_time": "2023-03-13T19:30:40.628Z"
   },
   {
    "duration": 213,
    "start_time": "2023-03-13T19:30:40.833Z"
   },
   {
    "duration": 219,
    "start_time": "2023-03-13T19:30:41.047Z"
   },
   {
    "duration": 335,
    "start_time": "2023-03-13T19:30:41.268Z"
   },
   {
    "duration": 7,
    "start_time": "2023-03-13T19:30:41.605Z"
   },
   {
    "duration": 194,
    "start_time": "2023-03-13T19:30:41.613Z"
   },
   {
    "duration": 7,
    "start_time": "2023-03-13T19:30:41.809Z"
   },
   {
    "duration": 18,
    "start_time": "2023-03-13T19:30:41.817Z"
   },
   {
    "duration": 292,
    "start_time": "2023-03-13T19:30:41.836Z"
   },
   {
    "duration": 173,
    "start_time": "2023-03-13T19:30:42.130Z"
   },
   {
    "duration": 9,
    "start_time": "2023-03-13T19:30:42.305Z"
   },
   {
    "duration": 20,
    "start_time": "2023-03-13T19:30:42.316Z"
   },
   {
    "duration": 172,
    "start_time": "2023-03-13T19:30:42.337Z"
   },
   {
    "duration": 12,
    "start_time": "2023-03-13T19:30:42.511Z"
   },
   {
    "duration": 66,
    "start_time": "2023-03-13T19:30:42.525Z"
   },
   {
    "duration": 156,
    "start_time": "2023-03-13T19:30:42.593Z"
   },
   {
    "duration": 234,
    "start_time": "2023-03-13T19:30:42.751Z"
   },
   {
    "duration": 239,
    "start_time": "2023-03-13T19:30:42.986Z"
   },
   {
    "duration": 729,
    "start_time": "2023-03-13T19:30:43.228Z"
   },
   {
    "duration": 219,
    "start_time": "2023-03-13T19:30:43.959Z"
   },
   {
    "duration": 5,
    "start_time": "2023-03-13T19:30:44.180Z"
   },
   {
    "duration": 409,
    "start_time": "2023-03-13T19:30:44.191Z"
   },
   {
    "duration": 84,
    "start_time": "2023-03-13T19:30:44.605Z"
   },
   {
    "duration": 24,
    "start_time": "2023-03-13T19:30:44.691Z"
   },
   {
    "duration": 16,
    "start_time": "2023-03-13T19:30:44.717Z"
   },
   {
    "duration": 23,
    "start_time": "2023-03-13T19:30:44.735Z"
   },
   {
    "duration": 43,
    "start_time": "2023-03-13T19:30:44.759Z"
   },
   {
    "duration": 209,
    "start_time": "2023-03-13T19:41:41.722Z"
   },
   {
    "duration": 7816,
    "start_time": "2023-03-13T19:42:28.194Z"
   },
   {
    "duration": 6623,
    "start_time": "2023-03-13T19:42:56.102Z"
   },
   {
    "duration": 6375,
    "start_time": "2023-03-13T19:44:25.698Z"
   },
   {
    "duration": 379,
    "start_time": "2023-03-13T19:47:13.144Z"
   },
   {
    "duration": 102,
    "start_time": "2023-03-13T19:48:09.727Z"
   },
   {
    "duration": 178,
    "start_time": "2023-03-13T19:48:26.989Z"
   },
   {
    "duration": 193,
    "start_time": "2023-03-13T19:48:36.812Z"
   },
   {
    "duration": 159,
    "start_time": "2023-03-13T19:49:27.998Z"
   },
   {
    "duration": 201,
    "start_time": "2023-03-13T19:49:30.680Z"
   },
   {
    "duration": 13,
    "start_time": "2023-03-13T19:55:26.794Z"
   },
   {
    "duration": 9,
    "start_time": "2023-03-13T19:55:44.656Z"
   },
   {
    "duration": 3,
    "start_time": "2023-03-13T19:56:09.416Z"
   },
   {
    "duration": 421,
    "start_time": "2023-03-13T19:56:48.609Z"
   },
   {
    "duration": 168,
    "start_time": "2023-03-13T19:58:21.998Z"
   },
   {
    "duration": 4,
    "start_time": "2023-03-13T19:58:26.053Z"
   },
   {
    "duration": 124,
    "start_time": "2023-03-13T19:58:26.082Z"
   },
   {
    "duration": 15,
    "start_time": "2023-03-13T19:58:26.208Z"
   },
   {
    "duration": 2198,
    "start_time": "2023-03-13T19:58:26.225Z"
   },
   {
    "duration": 28,
    "start_time": "2023-03-13T19:58:28.425Z"
   },
   {
    "duration": 45,
    "start_time": "2023-03-13T19:58:28.454Z"
   },
   {
    "duration": 13,
    "start_time": "2023-03-13T19:58:28.501Z"
   },
   {
    "duration": 9,
    "start_time": "2023-03-13T19:58:28.516Z"
   },
   {
    "duration": 28,
    "start_time": "2023-03-13T19:58:28.526Z"
   },
   {
    "duration": 17,
    "start_time": "2023-03-13T19:58:28.556Z"
   },
   {
    "duration": 30,
    "start_time": "2023-03-13T19:58:28.576Z"
   },
   {
    "duration": 136,
    "start_time": "2023-03-13T19:58:28.608Z"
   },
   {
    "duration": 91,
    "start_time": "2023-03-13T19:58:28.747Z"
   },
   {
    "duration": 31,
    "start_time": "2023-03-13T19:58:28.840Z"
   },
   {
    "duration": 29,
    "start_time": "2023-03-13T19:58:28.873Z"
   },
   {
    "duration": 14,
    "start_time": "2023-03-13T19:58:28.904Z"
   },
   {
    "duration": 23,
    "start_time": "2023-03-13T19:58:28.920Z"
   },
   {
    "duration": 26,
    "start_time": "2023-03-13T19:58:28.945Z"
   },
   {
    "duration": 38,
    "start_time": "2023-03-13T19:58:28.973Z"
   },
   {
    "duration": 10,
    "start_time": "2023-03-13T19:58:29.014Z"
   },
   {
    "duration": 26,
    "start_time": "2023-03-13T19:58:29.026Z"
   },
   {
    "duration": 44,
    "start_time": "2023-03-13T19:58:29.054Z"
   },
   {
    "duration": 31,
    "start_time": "2023-03-13T19:58:29.100Z"
   },
   {
    "duration": 15,
    "start_time": "2023-03-13T19:58:29.134Z"
   },
   {
    "duration": 10,
    "start_time": "2023-03-13T19:58:29.151Z"
   },
   {
    "duration": 33,
    "start_time": "2023-03-13T19:58:29.163Z"
   },
   {
    "duration": 16,
    "start_time": "2023-03-13T19:58:29.198Z"
   },
   {
    "duration": 25,
    "start_time": "2023-03-13T19:58:29.217Z"
   },
   {
    "duration": 18,
    "start_time": "2023-03-13T19:58:29.249Z"
   },
   {
    "duration": 40,
    "start_time": "2023-03-13T19:58:29.269Z"
   },
   {
    "duration": 86,
    "start_time": "2023-03-13T19:58:29.310Z"
   },
   {
    "duration": 25,
    "start_time": "2023-03-13T19:58:29.397Z"
   },
   {
    "duration": 20,
    "start_time": "2023-03-13T19:58:29.424Z"
   },
   {
    "duration": 23,
    "start_time": "2023-03-13T19:58:29.446Z"
   },
   {
    "duration": 28,
    "start_time": "2023-03-13T19:58:29.471Z"
   },
   {
    "duration": 41,
    "start_time": "2023-03-13T19:58:29.502Z"
   },
   {
    "duration": 26,
    "start_time": "2023-03-13T19:58:29.545Z"
   },
   {
    "duration": 17,
    "start_time": "2023-03-13T19:58:29.574Z"
   },
   {
    "duration": 21,
    "start_time": "2023-03-13T19:58:29.592Z"
   },
   {
    "duration": 29,
    "start_time": "2023-03-13T19:58:29.616Z"
   },
   {
    "duration": 336,
    "start_time": "2023-03-13T19:58:29.647Z"
   },
   {
    "duration": 6,
    "start_time": "2023-03-13T19:58:29.984Z"
   },
   {
    "duration": 43,
    "start_time": "2023-03-13T19:58:29.993Z"
   },
   {
    "duration": 335,
    "start_time": "2023-03-13T19:58:30.038Z"
   },
   {
    "duration": 181,
    "start_time": "2023-03-13T19:58:30.376Z"
   },
   {
    "duration": 221,
    "start_time": "2023-03-13T19:58:30.558Z"
   },
   {
    "duration": 547,
    "start_time": "2023-03-13T19:58:30.782Z"
   },
   {
    "duration": 302,
    "start_time": "2023-03-13T19:58:31.331Z"
   },
   {
    "duration": 189,
    "start_time": "2023-03-13T19:58:31.635Z"
   },
   {
    "duration": 174,
    "start_time": "2023-03-13T19:58:31.826Z"
   },
   {
    "duration": 146,
    "start_time": "2023-03-13T19:58:32.002Z"
   },
   {
    "duration": 197,
    "start_time": "2023-03-13T19:58:32.149Z"
   },
   {
    "duration": 153,
    "start_time": "2023-03-13T19:58:32.348Z"
   },
   {
    "duration": 194,
    "start_time": "2023-03-13T19:58:32.503Z"
   },
   {
    "duration": 251,
    "start_time": "2023-03-13T19:58:32.699Z"
   },
   {
    "duration": 330,
    "start_time": "2023-03-13T19:58:32.952Z"
   },
   {
    "duration": 10,
    "start_time": "2023-03-13T19:58:33.288Z"
   },
   {
    "duration": 161,
    "start_time": "2023-03-13T19:58:33.300Z"
   },
   {
    "duration": 31,
    "start_time": "2023-03-13T19:58:33.463Z"
   },
   {
    "duration": 11,
    "start_time": "2023-03-13T19:58:33.496Z"
   },
   {
    "duration": 257,
    "start_time": "2023-03-13T19:58:33.509Z"
   },
   {
    "duration": 150,
    "start_time": "2023-03-13T19:58:33.768Z"
   },
   {
    "duration": 9,
    "start_time": "2023-03-13T19:58:33.920Z"
   },
   {
    "duration": 11,
    "start_time": "2023-03-13T19:58:33.931Z"
   },
   {
    "duration": 151,
    "start_time": "2023-03-13T19:58:33.944Z"
   },
   {
    "duration": 10,
    "start_time": "2023-03-13T19:58:34.097Z"
   },
   {
    "duration": 42,
    "start_time": "2023-03-13T19:58:34.108Z"
   },
   {
    "duration": 137,
    "start_time": "2023-03-13T19:58:34.153Z"
   },
   {
    "duration": 205,
    "start_time": "2023-03-13T19:58:34.293Z"
   },
   {
    "duration": 228,
    "start_time": "2023-03-13T19:58:34.500Z"
   },
   {
    "duration": 723,
    "start_time": "2023-03-13T19:58:34.729Z"
   },
   {
    "duration": 201,
    "start_time": "2023-03-13T19:58:35.454Z"
   },
   {
    "duration": 5,
    "start_time": "2023-03-13T19:58:35.658Z"
   },
   {
    "duration": 209,
    "start_time": "2023-03-13T19:58:35.665Z"
   },
   {
    "duration": 75,
    "start_time": "2023-03-13T19:58:35.878Z"
   },
   {
    "duration": 191,
    "start_time": "2023-03-13T19:58:35.956Z"
   },
   {
    "duration": 445,
    "start_time": "2023-03-13T19:58:36.149Z"
   },
   {
    "duration": 191,
    "start_time": "2023-03-13T19:58:36.596Z"
   },
   {
    "duration": 174,
    "start_time": "2023-03-13T19:58:36.791Z"
   },
   {
    "duration": 29,
    "start_time": "2023-03-13T19:58:36.967Z"
   },
   {
    "duration": 29,
    "start_time": "2023-03-13T19:58:36.998Z"
   },
   {
    "duration": 18,
    "start_time": "2023-03-13T19:58:37.029Z"
   },
   {
    "duration": 44,
    "start_time": "2023-03-13T19:58:37.053Z"
   },
   {
    "duration": 201,
    "start_time": "2023-03-13T20:02:00.536Z"
   },
   {
    "duration": 199,
    "start_time": "2023-03-13T20:02:16.689Z"
   },
   {
    "duration": 165,
    "start_time": "2023-03-13T20:05:47.220Z"
   },
   {
    "duration": 21,
    "start_time": "2023-03-13T20:06:48.122Z"
   },
   {
    "duration": 193,
    "start_time": "2023-03-13T20:08:28.600Z"
   },
   {
    "duration": 81,
    "start_time": "2023-03-13T20:09:03.432Z"
   },
   {
    "duration": 23,
    "start_time": "2023-03-13T20:11:06.406Z"
   },
   {
    "duration": 182,
    "start_time": "2023-03-13T20:11:42.675Z"
   },
   {
    "duration": 181,
    "start_time": "2023-03-13T20:11:51.921Z"
   },
   {
    "duration": 168,
    "start_time": "2023-03-13T20:12:03.603Z"
   },
   {
    "duration": 181,
    "start_time": "2023-03-13T20:12:53.940Z"
   },
   {
    "duration": 173,
    "start_time": "2023-03-13T20:13:04.611Z"
   },
   {
    "duration": 149,
    "start_time": "2023-03-13T20:14:15.575Z"
   },
   {
    "duration": 521,
    "start_time": "2023-03-13T20:17:42.974Z"
   },
   {
    "duration": 194,
    "start_time": "2023-03-13T20:17:50.166Z"
   },
   {
    "duration": 158,
    "start_time": "2023-03-13T20:18:15.596Z"
   },
   {
    "duration": 212,
    "start_time": "2023-03-13T20:19:36.268Z"
   },
   {
    "duration": 156,
    "start_time": "2023-03-13T20:19:58.107Z"
   },
   {
    "duration": 96,
    "start_time": "2023-03-13T20:20:08.779Z"
   },
   {
    "duration": 172,
    "start_time": "2023-03-13T20:20:24.771Z"
   },
   {
    "duration": 240,
    "start_time": "2023-03-13T20:20:52.450Z"
   },
   {
    "duration": 27,
    "start_time": "2023-03-13T20:21:26.190Z"
   },
   {
    "duration": 30,
    "start_time": "2023-03-13T20:22:10.800Z"
   },
   {
    "duration": 22,
    "start_time": "2023-03-13T20:22:20.737Z"
   },
   {
    "duration": 29,
    "start_time": "2023-03-13T20:22:49.584Z"
   },
   {
    "duration": 162,
    "start_time": "2023-03-13T20:23:21.978Z"
   },
   {
    "duration": 167,
    "start_time": "2023-03-13T20:23:41.191Z"
   },
   {
    "duration": 154,
    "start_time": "2023-03-13T20:24:47.415Z"
   },
   {
    "duration": 156,
    "start_time": "2023-03-13T20:24:59.692Z"
   },
   {
    "duration": 160,
    "start_time": "2023-03-13T20:25:52.092Z"
   },
   {
    "duration": 163,
    "start_time": "2023-03-13T20:29:04.740Z"
   },
   {
    "duration": 149,
    "start_time": "2023-03-13T20:32:27.642Z"
   },
   {
    "duration": 17,
    "start_time": "2023-03-13T20:32:47.036Z"
   },
   {
    "duration": 16,
    "start_time": "2023-03-13T20:34:08.683Z"
   },
   {
    "duration": 14,
    "start_time": "2023-03-13T20:34:27.334Z"
   },
   {
    "duration": 3,
    "start_time": "2023-03-13T20:38:41.222Z"
   },
   {
    "duration": 115,
    "start_time": "2023-03-13T20:38:41.226Z"
   },
   {
    "duration": 34,
    "start_time": "2023-03-13T20:38:41.343Z"
   },
   {
    "duration": 2227,
    "start_time": "2023-03-13T20:38:41.379Z"
   },
   {
    "duration": 32,
    "start_time": "2023-03-13T20:38:43.608Z"
   },
   {
    "duration": 53,
    "start_time": "2023-03-13T20:38:43.642Z"
   },
   {
    "duration": 14,
    "start_time": "2023-03-13T20:38:43.698Z"
   },
   {
    "duration": 12,
    "start_time": "2023-03-13T20:38:43.714Z"
   },
   {
    "duration": 13,
    "start_time": "2023-03-13T20:38:43.728Z"
   },
   {
    "duration": 13,
    "start_time": "2023-03-13T20:38:43.743Z"
   },
   {
    "duration": 10,
    "start_time": "2023-03-13T20:38:43.778Z"
   },
   {
    "duration": 22,
    "start_time": "2023-03-13T20:38:43.790Z"
   },
   {
    "duration": 31,
    "start_time": "2023-03-13T20:38:43.814Z"
   },
   {
    "duration": 14,
    "start_time": "2023-03-13T20:38:43.847Z"
   },
   {
    "duration": 8,
    "start_time": "2023-03-13T20:38:43.877Z"
   },
   {
    "duration": 20,
    "start_time": "2023-03-13T20:38:43.887Z"
   },
   {
    "duration": 19,
    "start_time": "2023-03-13T20:38:43.909Z"
   },
   {
    "duration": 8,
    "start_time": "2023-03-13T20:38:43.930Z"
   },
   {
    "duration": 20,
    "start_time": "2023-03-13T20:38:43.940Z"
   },
   {
    "duration": 30,
    "start_time": "2023-03-13T20:38:43.962Z"
   },
   {
    "duration": 13,
    "start_time": "2023-03-13T20:38:43.993Z"
   },
   {
    "duration": 10,
    "start_time": "2023-03-13T20:38:44.007Z"
   },
   {
    "duration": 15,
    "start_time": "2023-03-13T20:38:44.019Z"
   },
   {
    "duration": 12,
    "start_time": "2023-03-13T20:38:44.036Z"
   },
   {
    "duration": 12,
    "start_time": "2023-03-13T20:38:44.049Z"
   },
   {
    "duration": 13,
    "start_time": "2023-03-13T20:38:44.076Z"
   },
   {
    "duration": 15,
    "start_time": "2023-03-13T20:38:44.094Z"
   },
   {
    "duration": 8,
    "start_time": "2023-03-13T20:38:44.112Z"
   },
   {
    "duration": 10,
    "start_time": "2023-03-13T20:38:44.127Z"
   },
   {
    "duration": 51,
    "start_time": "2023-03-13T20:38:44.139Z"
   },
   {
    "duration": 8,
    "start_time": "2023-03-13T20:38:44.192Z"
   },
   {
    "duration": 18,
    "start_time": "2023-03-13T20:38:44.202Z"
   },
   {
    "duration": 10,
    "start_time": "2023-03-13T20:38:44.222Z"
   },
   {
    "duration": 18,
    "start_time": "2023-03-13T20:38:44.234Z"
   },
   {
    "duration": 9,
    "start_time": "2023-03-13T20:38:44.253Z"
   },
   {
    "duration": 65,
    "start_time": "2023-03-13T20:38:44.264Z"
   },
   {
    "duration": 13,
    "start_time": "2023-03-13T20:38:44.331Z"
   },
   {
    "duration": 19,
    "start_time": "2023-03-13T20:38:44.345Z"
   },
   {
    "duration": 26,
    "start_time": "2023-03-13T20:38:44.366Z"
   },
   {
    "duration": 36,
    "start_time": "2023-03-13T20:38:44.394Z"
   },
   {
    "duration": 358,
    "start_time": "2023-03-13T20:38:44.432Z"
   },
   {
    "duration": 5,
    "start_time": "2023-03-13T20:38:44.794Z"
   },
   {
    "duration": 39,
    "start_time": "2023-03-13T20:38:44.801Z"
   },
   {
    "duration": 331,
    "start_time": "2023-03-13T20:38:44.841Z"
   },
   {
    "duration": 182,
    "start_time": "2023-03-13T20:38:45.177Z"
   },
   {
    "duration": 237,
    "start_time": "2023-03-13T20:38:45.361Z"
   },
   {
    "duration": 291,
    "start_time": "2023-03-13T20:38:45.600Z"
   },
   {
    "duration": 302,
    "start_time": "2023-03-13T20:38:45.893Z"
   },
   {
    "duration": 578,
    "start_time": "2023-03-13T20:38:46.197Z"
   },
   {
    "duration": 185,
    "start_time": "2023-03-13T20:38:46.780Z"
   },
   {
    "duration": 153,
    "start_time": "2023-03-13T20:38:46.967Z"
   },
   {
    "duration": 201,
    "start_time": "2023-03-13T20:38:47.122Z"
   },
   {
    "duration": 163,
    "start_time": "2023-03-13T20:38:47.325Z"
   },
   {
    "duration": 177,
    "start_time": "2023-03-13T20:38:47.490Z"
   },
   {
    "duration": 224,
    "start_time": "2023-03-13T20:38:47.669Z"
   },
   {
    "duration": 338,
    "start_time": "2023-03-13T20:38:47.895Z"
   },
   {
    "duration": 7,
    "start_time": "2023-03-13T20:38:48.235Z"
   },
   {
    "duration": 193,
    "start_time": "2023-03-13T20:38:48.244Z"
   },
   {
    "duration": 7,
    "start_time": "2023-03-13T20:38:48.439Z"
   },
   {
    "duration": 14,
    "start_time": "2023-03-13T20:38:48.448Z"
   },
   {
    "duration": 293,
    "start_time": "2023-03-13T20:38:48.464Z"
   },
   {
    "duration": 157,
    "start_time": "2023-03-13T20:38:48.759Z"
   },
   {
    "duration": 10,
    "start_time": "2023-03-13T20:38:48.918Z"
   },
   {
    "duration": 19,
    "start_time": "2023-03-13T20:38:48.930Z"
   },
   {
    "duration": 152,
    "start_time": "2023-03-13T20:38:48.951Z"
   },
   {
    "duration": 9,
    "start_time": "2023-03-13T20:38:49.105Z"
   },
   {
    "duration": 30,
    "start_time": "2023-03-13T20:38:49.116Z"
   },
   {
    "duration": 158,
    "start_time": "2023-03-13T20:38:49.148Z"
   },
   {
    "duration": 206,
    "start_time": "2023-03-13T20:38:49.308Z"
   },
   {
    "duration": 249,
    "start_time": "2023-03-13T20:38:49.516Z"
   },
   {
    "duration": 704,
    "start_time": "2023-03-13T20:38:49.767Z"
   },
   {
    "duration": 217,
    "start_time": "2023-03-13T20:38:50.472Z"
   },
   {
    "duration": 206,
    "start_time": "2023-03-13T20:38:50.692Z"
   },
   {
    "duration": 183,
    "start_time": "2023-03-13T20:38:50.900Z"
   },
   {
    "duration": 175,
    "start_time": "2023-03-13T20:38:51.086Z"
   },
   {
    "duration": 170,
    "start_time": "2023-03-13T20:38:51.263Z"
   },
   {
    "duration": 15,
    "start_time": "2023-03-13T20:38:51.435Z"
   },
   {
    "duration": 38,
    "start_time": "2023-03-13T20:38:51.451Z"
   },
   {
    "duration": 22,
    "start_time": "2023-03-13T20:38:51.491Z"
   },
   {
    "duration": 18,
    "start_time": "2023-03-13T20:38:51.515Z"
   },
   {
    "duration": 61,
    "start_time": "2023-03-13T20:38:51.535Z"
   }
  ],
  "kernelspec": {
   "display_name": "Python 3 (ipykernel)",
   "language": "python",
   "name": "python3"
  },
  "language_info": {
   "codemirror_mode": {
    "name": "ipython",
    "version": 3
   },
   "file_extension": ".py",
   "mimetype": "text/x-python",
   "name": "python",
   "nbconvert_exporter": "python",
   "pygments_lexer": "ipython3",
   "version": "3.9.5"
  },
  "toc": {
   "base_numbering": 1,
   "nav_menu": {},
   "number_sections": true,
   "sideBar": true,
   "skip_h1_title": true,
   "title_cell": "Table of Contents",
   "title_sidebar": "Contents",
   "toc_cell": false,
   "toc_position": {},
   "toc_section_display": true,
   "toc_window_display": false
  }
 },
 "nbformat": 4,
 "nbformat_minor": 2
}
