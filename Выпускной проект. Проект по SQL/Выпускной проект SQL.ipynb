{
 "cells": [
  {
   "cell_type": "markdown",
   "metadata": {},
   "source": [
    "# [Цели исследования](#stage_0_1)\n",
    "\n",
    "# [Описание данных](#stage_0_2)\n",
    "\n",
    "# [1. Изучение таблиц](#stage_1)\n",
    "\n",
    "# [2. Предобработка данных](#stage_2)\n",
    "\n",
    "# [3. Оценка корректности проведения теста](#stage_3)\n",
    "\n",
    "# [4. Исследователький анализ данных](#stage_4)\n",
    "\n",
    "## [Промежуточный вывод](#stage_4_1)\n",
    "\n",
    "# [5.Оценка результатов A/B-тестирования ](#stage_5)\n",
    "## [Промежуточный вывод](#stage_5_1)\n",
    "\n",
    "# [6. Выводы](#stage_6)"
   ]
  },
  {
   "cell_type": "markdown",
   "metadata": {},
   "source": [
    "<a name=\"stage_0_1\"></a>\n",
    "\n",
    "## Цели исследования \n",
    "\n",
    "Проанализировать базу данных приобретенного сервиса для чтения книг по подписке и сформулировать ценностное предложение для нового продукта."
   ]
  },
  {
   "cell_type": "markdown",
   "metadata": {},
   "source": [
    "<a name=\"stage_0_2\"></a>\n",
    "## Описание данных\n",
    "\n",
    "Таблица `books`  \n",
    "Содержит данные о книгах:  \n",
    "- `book_id` — идентификатор книги;  \n",
    "- `author_id` — идентификатор автора;  \n",
    "- `title` — название книги;  \n",
    "- `num_pages` — количество страниц;  \n",
    "- `publication_date` — дата публикации книги;  \n",
    "- `publisher_id` — идентификатор издателя.  \n",
    "\n",
    "Таблица `authors`  \n",
    "Содержит данные об авторах:  \n",
    "- `author_id` — идентификатор автора;  \n",
    "- `author` — имя автора.  \n",
    "\n",
    "Таблица `publishers`  \n",
    "Содержит данные об издательствах:  \n",
    "- `publisher_id` — идентификатор издательства;  \n",
    "- `publisher` — название издательства;  \n",
    "\n",
    "Таблица `ratings`  \n",
    "Содержит данные о пользовательских оценках книг:  \n",
    "- `rating_id` — идентификатор оценки;  \n",
    "- `book_id` — идентификатор книги;  \n",
    "- `username` — имя пользователя, оставившего оценку;  \n",
    "- `rating` — оценка книги.  \n",
    "\n",
    "Таблица `reviews`  \n",
    "Содержит данные о пользовательских обзорах:  \n",
    "- `review_id` — идентификатор обзора;  \n",
    "- `book_id` — идентификатор книги;  \n",
    "- `username` — имя автора обзора;  \n",
    "- `text` — текст обзора.  "
   ]
  },
  {
   "cell_type": "code",
   "execution_count": 1,
   "metadata": {},
   "outputs": [
    {
     "data": {
      "text/html": [
       "<div>\n",
       "<style scoped>\n",
       "    .dataframe tbody tr th:only-of-type {\n",
       "        vertical-align: middle;\n",
       "    }\n",
       "\n",
       "    .dataframe tbody tr th {\n",
       "        vertical-align: top;\n",
       "    }\n",
       "\n",
       "    .dataframe thead th {\n",
       "        text-align: right;\n",
       "    }\n",
       "</style>\n",
       "<table border=\"1\" class=\"dataframe\">\n",
       "  <thead>\n",
       "    <tr style=\"text-align: right;\">\n",
       "      <th></th>\n",
       "      <th>book_id</th>\n",
       "      <th>author_id</th>\n",
       "      <th>title</th>\n",
       "      <th>num_pages</th>\n",
       "      <th>publication_date</th>\n",
       "      <th>publisher_id</th>\n",
       "    </tr>\n",
       "  </thead>\n",
       "  <tbody>\n",
       "    <tr>\n",
       "      <th>0</th>\n",
       "      <td>1</td>\n",
       "      <td>546</td>\n",
       "      <td>'Salem's Lot</td>\n",
       "      <td>594</td>\n",
       "      <td>2005-11-01</td>\n",
       "      <td>93</td>\n",
       "    </tr>\n",
       "    <tr>\n",
       "      <th>1</th>\n",
       "      <td>2</td>\n",
       "      <td>465</td>\n",
       "      <td>1 000 Places to See Before You Die</td>\n",
       "      <td>992</td>\n",
       "      <td>2003-05-22</td>\n",
       "      <td>336</td>\n",
       "    </tr>\n",
       "    <tr>\n",
       "      <th>2</th>\n",
       "      <td>3</td>\n",
       "      <td>407</td>\n",
       "      <td>13 Little Blue Envelopes (Little Blue Envelope...</td>\n",
       "      <td>322</td>\n",
       "      <td>2010-12-21</td>\n",
       "      <td>135</td>\n",
       "    </tr>\n",
       "    <tr>\n",
       "      <th>3</th>\n",
       "      <td>4</td>\n",
       "      <td>82</td>\n",
       "      <td>1491: New Revelations of the Americas Before C...</td>\n",
       "      <td>541</td>\n",
       "      <td>2006-10-10</td>\n",
       "      <td>309</td>\n",
       "    </tr>\n",
       "    <tr>\n",
       "      <th>4</th>\n",
       "      <td>5</td>\n",
       "      <td>125</td>\n",
       "      <td>1776</td>\n",
       "      <td>386</td>\n",
       "      <td>2006-07-04</td>\n",
       "      <td>268</td>\n",
       "    </tr>\n",
       "  </tbody>\n",
       "</table>\n",
       "</div>"
      ],
      "text/plain": [
       "   book_id  author_id                                              title  \\\n",
       "0        1        546                                       'Salem's Lot   \n",
       "1        2        465                 1 000 Places to See Before You Die   \n",
       "2        3        407  13 Little Blue Envelopes (Little Blue Envelope...   \n",
       "3        4         82  1491: New Revelations of the Americas Before C...   \n",
       "4        5        125                                               1776   \n",
       "\n",
       "   num_pages publication_date  publisher_id  \n",
       "0        594       2005-11-01            93  \n",
       "1        992       2003-05-22           336  \n",
       "2        322       2010-12-21           135  \n",
       "3        541       2006-10-10           309  \n",
       "4        386       2006-07-04           268  "
      ]
     },
     "execution_count": 1,
     "metadata": {},
     "output_type": "execute_result"
    }
   ],
   "source": [
    "#Импортируем нужные библиотеки\n",
    "import pandas as pd\n",
    "from sqlalchemy import text, create_engine\n",
    "# устанавливаем параметры\n",
    "db_config = {'user': 'praktikum_student', # имя пользователя\n",
    "'pwd': 'Sdf4$2;d-d30pp', # пароль\n",
    "'host': 'rc1b-wcoijxj3yxfsf3fs.mdb.yandexcloud.net',\n",
    "'port': 6432, # порт подключения\n",
    "'db': 'data-analyst-final-project-db'} # название базы данных\n",
    "connection_string = 'postgresql://{user}:{pwd}@{host}:{port}/{db}'.format(**db_config)\n",
    "# сохраняем коннектор\n",
    "engine = create_engine(connection_string, connect_args={'sslmode':'require'})\n",
    "# чтобы выполнить SQL-запрос, используем Pandas\n",
    "query = '''SELECT * FROM books LIMIT 5'''\n",
    "con=engine.connect()\n",
    "pd.io.sql.read_sql(sql=text(query), con = con)"
   ]
  },
  {
   "cell_type": "code",
   "execution_count": 2,
   "metadata": {},
   "outputs": [],
   "source": [
    "# функция для исследования таблиц\n",
    "def table_analyze(table):\n",
    "    display(pd.io.sql.read_sql(sql=text('''SELECT * FROM {} LIMIT 5'''.format(table)), con = engine.connect()))\n",
    "    pd.io.sql.read_sql(sql=text('''SELECT * FROM {}'''.format(table)), con = engine.connect()).info()\n",
    "    display(pd.io.sql.read_sql(sql=text('''SELECT * FROM {}'''.format(table)), con = engine.connect()).describe())\n",
    "    print('*' *30)"
   ]
  },
  {
   "cell_type": "markdown",
   "metadata": {},
   "source": [
    "<a name=\"stage_0_1\"></a>\n",
    "\n",
    "# 1. Изучение таблиц"
   ]
  },
  {
   "cell_type": "markdown",
   "metadata": {},
   "source": [
    "Применяя функцию table_analyze рассмотрим общую информацию по таблицам."
   ]
  },
  {
   "cell_type": "code",
   "execution_count": 3,
   "metadata": {
    "scrolled": false
   },
   "outputs": [
    {
     "name": "stdout",
     "output_type": "stream",
     "text": [
      "Вывод общей информации по таблице `books`:\n"
     ]
    },
    {
     "data": {
      "text/html": [
       "<div>\n",
       "<style scoped>\n",
       "    .dataframe tbody tr th:only-of-type {\n",
       "        vertical-align: middle;\n",
       "    }\n",
       "\n",
       "    .dataframe tbody tr th {\n",
       "        vertical-align: top;\n",
       "    }\n",
       "\n",
       "    .dataframe thead th {\n",
       "        text-align: right;\n",
       "    }\n",
       "</style>\n",
       "<table border=\"1\" class=\"dataframe\">\n",
       "  <thead>\n",
       "    <tr style=\"text-align: right;\">\n",
       "      <th></th>\n",
       "      <th>book_id</th>\n",
       "      <th>author_id</th>\n",
       "      <th>title</th>\n",
       "      <th>num_pages</th>\n",
       "      <th>publication_date</th>\n",
       "      <th>publisher_id</th>\n",
       "    </tr>\n",
       "  </thead>\n",
       "  <tbody>\n",
       "    <tr>\n",
       "      <th>0</th>\n",
       "      <td>1</td>\n",
       "      <td>546</td>\n",
       "      <td>'Salem's Lot</td>\n",
       "      <td>594</td>\n",
       "      <td>2005-11-01</td>\n",
       "      <td>93</td>\n",
       "    </tr>\n",
       "    <tr>\n",
       "      <th>1</th>\n",
       "      <td>2</td>\n",
       "      <td>465</td>\n",
       "      <td>1 000 Places to See Before You Die</td>\n",
       "      <td>992</td>\n",
       "      <td>2003-05-22</td>\n",
       "      <td>336</td>\n",
       "    </tr>\n",
       "    <tr>\n",
       "      <th>2</th>\n",
       "      <td>3</td>\n",
       "      <td>407</td>\n",
       "      <td>13 Little Blue Envelopes (Little Blue Envelope...</td>\n",
       "      <td>322</td>\n",
       "      <td>2010-12-21</td>\n",
       "      <td>135</td>\n",
       "    </tr>\n",
       "    <tr>\n",
       "      <th>3</th>\n",
       "      <td>4</td>\n",
       "      <td>82</td>\n",
       "      <td>1491: New Revelations of the Americas Before C...</td>\n",
       "      <td>541</td>\n",
       "      <td>2006-10-10</td>\n",
       "      <td>309</td>\n",
       "    </tr>\n",
       "    <tr>\n",
       "      <th>4</th>\n",
       "      <td>5</td>\n",
       "      <td>125</td>\n",
       "      <td>1776</td>\n",
       "      <td>386</td>\n",
       "      <td>2006-07-04</td>\n",
       "      <td>268</td>\n",
       "    </tr>\n",
       "  </tbody>\n",
       "</table>\n",
       "</div>"
      ],
      "text/plain": [
       "   book_id  author_id                                              title  \\\n",
       "0        1        546                                       'Salem's Lot   \n",
       "1        2        465                 1 000 Places to See Before You Die   \n",
       "2        3        407  13 Little Blue Envelopes (Little Blue Envelope...   \n",
       "3        4         82  1491: New Revelations of the Americas Before C...   \n",
       "4        5        125                                               1776   \n",
       "\n",
       "   num_pages publication_date  publisher_id  \n",
       "0        594       2005-11-01            93  \n",
       "1        992       2003-05-22           336  \n",
       "2        322       2010-12-21           135  \n",
       "3        541       2006-10-10           309  \n",
       "4        386       2006-07-04           268  "
      ]
     },
     "metadata": {},
     "output_type": "display_data"
    },
    {
     "name": "stdout",
     "output_type": "stream",
     "text": [
      "<class 'pandas.core.frame.DataFrame'>\n",
      "RangeIndex: 1000 entries, 0 to 999\n",
      "Data columns (total 6 columns):\n",
      " #   Column            Non-Null Count  Dtype \n",
      "---  ------            --------------  ----- \n",
      " 0   book_id           1000 non-null   int64 \n",
      " 1   author_id         1000 non-null   int64 \n",
      " 2   title             1000 non-null   object\n",
      " 3   num_pages         1000 non-null   int64 \n",
      " 4   publication_date  1000 non-null   object\n",
      " 5   publisher_id      1000 non-null   int64 \n",
      "dtypes: int64(4), object(2)\n",
      "memory usage: 47.0+ KB\n"
     ]
    },
    {
     "data": {
      "text/html": [
       "<div>\n",
       "<style scoped>\n",
       "    .dataframe tbody tr th:only-of-type {\n",
       "        vertical-align: middle;\n",
       "    }\n",
       "\n",
       "    .dataframe tbody tr th {\n",
       "        vertical-align: top;\n",
       "    }\n",
       "\n",
       "    .dataframe thead th {\n",
       "        text-align: right;\n",
       "    }\n",
       "</style>\n",
       "<table border=\"1\" class=\"dataframe\">\n",
       "  <thead>\n",
       "    <tr style=\"text-align: right;\">\n",
       "      <th></th>\n",
       "      <th>book_id</th>\n",
       "      <th>author_id</th>\n",
       "      <th>num_pages</th>\n",
       "      <th>publisher_id</th>\n",
       "    </tr>\n",
       "  </thead>\n",
       "  <tbody>\n",
       "    <tr>\n",
       "      <th>count</th>\n",
       "      <td>1000.000000</td>\n",
       "      <td>1000.000000</td>\n",
       "      <td>1000.00000</td>\n",
       "      <td>1000.000000</td>\n",
       "    </tr>\n",
       "    <tr>\n",
       "      <th>mean</th>\n",
       "      <td>500.500000</td>\n",
       "      <td>320.417000</td>\n",
       "      <td>389.11100</td>\n",
       "      <td>171.270000</td>\n",
       "    </tr>\n",
       "    <tr>\n",
       "      <th>std</th>\n",
       "      <td>288.819436</td>\n",
       "      <td>181.620172</td>\n",
       "      <td>229.39014</td>\n",
       "      <td>99.082685</td>\n",
       "    </tr>\n",
       "    <tr>\n",
       "      <th>min</th>\n",
       "      <td>1.000000</td>\n",
       "      <td>1.000000</td>\n",
       "      <td>14.00000</td>\n",
       "      <td>1.000000</td>\n",
       "    </tr>\n",
       "    <tr>\n",
       "      <th>25%</th>\n",
       "      <td>250.750000</td>\n",
       "      <td>162.750000</td>\n",
       "      <td>249.00000</td>\n",
       "      <td>83.000000</td>\n",
       "    </tr>\n",
       "    <tr>\n",
       "      <th>50%</th>\n",
       "      <td>500.500000</td>\n",
       "      <td>316.500000</td>\n",
       "      <td>352.00000</td>\n",
       "      <td>177.500000</td>\n",
       "    </tr>\n",
       "    <tr>\n",
       "      <th>75%</th>\n",
       "      <td>750.250000</td>\n",
       "      <td>481.000000</td>\n",
       "      <td>453.00000</td>\n",
       "      <td>258.000000</td>\n",
       "    </tr>\n",
       "    <tr>\n",
       "      <th>max</th>\n",
       "      <td>1000.000000</td>\n",
       "      <td>636.000000</td>\n",
       "      <td>2690.00000</td>\n",
       "      <td>340.000000</td>\n",
       "    </tr>\n",
       "  </tbody>\n",
       "</table>\n",
       "</div>"
      ],
      "text/plain": [
       "           book_id    author_id   num_pages  publisher_id\n",
       "count  1000.000000  1000.000000  1000.00000   1000.000000\n",
       "mean    500.500000   320.417000   389.11100    171.270000\n",
       "std     288.819436   181.620172   229.39014     99.082685\n",
       "min       1.000000     1.000000    14.00000      1.000000\n",
       "25%     250.750000   162.750000   249.00000     83.000000\n",
       "50%     500.500000   316.500000   352.00000    177.500000\n",
       "75%     750.250000   481.000000   453.00000    258.000000\n",
       "max    1000.000000   636.000000  2690.00000    340.000000"
      ]
     },
     "metadata": {},
     "output_type": "display_data"
    },
    {
     "name": "stdout",
     "output_type": "stream",
     "text": [
      "******************************\n",
      "Вывод общей информации по таблице `authors`:\n"
     ]
    },
    {
     "data": {
      "text/html": [
       "<div>\n",
       "<style scoped>\n",
       "    .dataframe tbody tr th:only-of-type {\n",
       "        vertical-align: middle;\n",
       "    }\n",
       "\n",
       "    .dataframe tbody tr th {\n",
       "        vertical-align: top;\n",
       "    }\n",
       "\n",
       "    .dataframe thead th {\n",
       "        text-align: right;\n",
       "    }\n",
       "</style>\n",
       "<table border=\"1\" class=\"dataframe\">\n",
       "  <thead>\n",
       "    <tr style=\"text-align: right;\">\n",
       "      <th></th>\n",
       "      <th>author_id</th>\n",
       "      <th>author</th>\n",
       "    </tr>\n",
       "  </thead>\n",
       "  <tbody>\n",
       "    <tr>\n",
       "      <th>0</th>\n",
       "      <td>1</td>\n",
       "      <td>A.S. Byatt</td>\n",
       "    </tr>\n",
       "    <tr>\n",
       "      <th>1</th>\n",
       "      <td>2</td>\n",
       "      <td>Aesop/Laura Harris/Laura Gibbs</td>\n",
       "    </tr>\n",
       "    <tr>\n",
       "      <th>2</th>\n",
       "      <td>3</td>\n",
       "      <td>Agatha Christie</td>\n",
       "    </tr>\n",
       "    <tr>\n",
       "      <th>3</th>\n",
       "      <td>4</td>\n",
       "      <td>Alan Brennert</td>\n",
       "    </tr>\n",
       "    <tr>\n",
       "      <th>4</th>\n",
       "      <td>5</td>\n",
       "      <td>Alan Moore/David   Lloyd</td>\n",
       "    </tr>\n",
       "  </tbody>\n",
       "</table>\n",
       "</div>"
      ],
      "text/plain": [
       "   author_id                          author\n",
       "0          1                      A.S. Byatt\n",
       "1          2  Aesop/Laura Harris/Laura Gibbs\n",
       "2          3                 Agatha Christie\n",
       "3          4                   Alan Brennert\n",
       "4          5        Alan Moore/David   Lloyd"
      ]
     },
     "metadata": {},
     "output_type": "display_data"
    },
    {
     "name": "stdout",
     "output_type": "stream",
     "text": [
      "<class 'pandas.core.frame.DataFrame'>\n",
      "RangeIndex: 636 entries, 0 to 635\n",
      "Data columns (total 2 columns):\n",
      " #   Column     Non-Null Count  Dtype \n",
      "---  ------     --------------  ----- \n",
      " 0   author_id  636 non-null    int64 \n",
      " 1   author     636 non-null    object\n",
      "dtypes: int64(1), object(1)\n",
      "memory usage: 10.1+ KB\n"
     ]
    },
    {
     "data": {
      "text/html": [
       "<div>\n",
       "<style scoped>\n",
       "    .dataframe tbody tr th:only-of-type {\n",
       "        vertical-align: middle;\n",
       "    }\n",
       "\n",
       "    .dataframe tbody tr th {\n",
       "        vertical-align: top;\n",
       "    }\n",
       "\n",
       "    .dataframe thead th {\n",
       "        text-align: right;\n",
       "    }\n",
       "</style>\n",
       "<table border=\"1\" class=\"dataframe\">\n",
       "  <thead>\n",
       "    <tr style=\"text-align: right;\">\n",
       "      <th></th>\n",
       "      <th>author_id</th>\n",
       "    </tr>\n",
       "  </thead>\n",
       "  <tbody>\n",
       "    <tr>\n",
       "      <th>count</th>\n",
       "      <td>636.000000</td>\n",
       "    </tr>\n",
       "    <tr>\n",
       "      <th>mean</th>\n",
       "      <td>318.500000</td>\n",
       "    </tr>\n",
       "    <tr>\n",
       "      <th>std</th>\n",
       "      <td>183.741666</td>\n",
       "    </tr>\n",
       "    <tr>\n",
       "      <th>min</th>\n",
       "      <td>1.000000</td>\n",
       "    </tr>\n",
       "    <tr>\n",
       "      <th>25%</th>\n",
       "      <td>159.750000</td>\n",
       "    </tr>\n",
       "    <tr>\n",
       "      <th>50%</th>\n",
       "      <td>318.500000</td>\n",
       "    </tr>\n",
       "    <tr>\n",
       "      <th>75%</th>\n",
       "      <td>477.250000</td>\n",
       "    </tr>\n",
       "    <tr>\n",
       "      <th>max</th>\n",
       "      <td>636.000000</td>\n",
       "    </tr>\n",
       "  </tbody>\n",
       "</table>\n",
       "</div>"
      ],
      "text/plain": [
       "        author_id\n",
       "count  636.000000\n",
       "mean   318.500000\n",
       "std    183.741666\n",
       "min      1.000000\n",
       "25%    159.750000\n",
       "50%    318.500000\n",
       "75%    477.250000\n",
       "max    636.000000"
      ]
     },
     "metadata": {},
     "output_type": "display_data"
    },
    {
     "name": "stdout",
     "output_type": "stream",
     "text": [
      "******************************\n",
      "Вывод общей информации по таблице `publishers`:\n"
     ]
    },
    {
     "data": {
      "text/html": [
       "<div>\n",
       "<style scoped>\n",
       "    .dataframe tbody tr th:only-of-type {\n",
       "        vertical-align: middle;\n",
       "    }\n",
       "\n",
       "    .dataframe tbody tr th {\n",
       "        vertical-align: top;\n",
       "    }\n",
       "\n",
       "    .dataframe thead th {\n",
       "        text-align: right;\n",
       "    }\n",
       "</style>\n",
       "<table border=\"1\" class=\"dataframe\">\n",
       "  <thead>\n",
       "    <tr style=\"text-align: right;\">\n",
       "      <th></th>\n",
       "      <th>publisher_id</th>\n",
       "      <th>publisher</th>\n",
       "    </tr>\n",
       "  </thead>\n",
       "  <tbody>\n",
       "    <tr>\n",
       "      <th>0</th>\n",
       "      <td>1</td>\n",
       "      <td>Ace</td>\n",
       "    </tr>\n",
       "    <tr>\n",
       "      <th>1</th>\n",
       "      <td>2</td>\n",
       "      <td>Ace Book</td>\n",
       "    </tr>\n",
       "    <tr>\n",
       "      <th>2</th>\n",
       "      <td>3</td>\n",
       "      <td>Ace Books</td>\n",
       "    </tr>\n",
       "    <tr>\n",
       "      <th>3</th>\n",
       "      <td>4</td>\n",
       "      <td>Ace Hardcover</td>\n",
       "    </tr>\n",
       "    <tr>\n",
       "      <th>4</th>\n",
       "      <td>5</td>\n",
       "      <td>Addison Wesley Publishing Company</td>\n",
       "    </tr>\n",
       "  </tbody>\n",
       "</table>\n",
       "</div>"
      ],
      "text/plain": [
       "   publisher_id                          publisher\n",
       "0             1                                Ace\n",
       "1             2                           Ace Book\n",
       "2             3                          Ace Books\n",
       "3             4                      Ace Hardcover\n",
       "4             5  Addison Wesley Publishing Company"
      ]
     },
     "metadata": {},
     "output_type": "display_data"
    },
    {
     "name": "stdout",
     "output_type": "stream",
     "text": [
      "<class 'pandas.core.frame.DataFrame'>\n",
      "RangeIndex: 340 entries, 0 to 339\n",
      "Data columns (total 2 columns):\n",
      " #   Column        Non-Null Count  Dtype \n",
      "---  ------        --------------  ----- \n",
      " 0   publisher_id  340 non-null    int64 \n",
      " 1   publisher     340 non-null    object\n",
      "dtypes: int64(1), object(1)\n",
      "memory usage: 5.4+ KB\n"
     ]
    },
    {
     "data": {
      "text/html": [
       "<div>\n",
       "<style scoped>\n",
       "    .dataframe tbody tr th:only-of-type {\n",
       "        vertical-align: middle;\n",
       "    }\n",
       "\n",
       "    .dataframe tbody tr th {\n",
       "        vertical-align: top;\n",
       "    }\n",
       "\n",
       "    .dataframe thead th {\n",
       "        text-align: right;\n",
       "    }\n",
       "</style>\n",
       "<table border=\"1\" class=\"dataframe\">\n",
       "  <thead>\n",
       "    <tr style=\"text-align: right;\">\n",
       "      <th></th>\n",
       "      <th>publisher_id</th>\n",
       "    </tr>\n",
       "  </thead>\n",
       "  <tbody>\n",
       "    <tr>\n",
       "      <th>count</th>\n",
       "      <td>340.000000</td>\n",
       "    </tr>\n",
       "    <tr>\n",
       "      <th>mean</th>\n",
       "      <td>170.500000</td>\n",
       "    </tr>\n",
       "    <tr>\n",
       "      <th>std</th>\n",
       "      <td>98.293777</td>\n",
       "    </tr>\n",
       "    <tr>\n",
       "      <th>min</th>\n",
       "      <td>1.000000</td>\n",
       "    </tr>\n",
       "    <tr>\n",
       "      <th>25%</th>\n",
       "      <td>85.750000</td>\n",
       "    </tr>\n",
       "    <tr>\n",
       "      <th>50%</th>\n",
       "      <td>170.500000</td>\n",
       "    </tr>\n",
       "    <tr>\n",
       "      <th>75%</th>\n",
       "      <td>255.250000</td>\n",
       "    </tr>\n",
       "    <tr>\n",
       "      <th>max</th>\n",
       "      <td>340.000000</td>\n",
       "    </tr>\n",
       "  </tbody>\n",
       "</table>\n",
       "</div>"
      ],
      "text/plain": [
       "       publisher_id\n",
       "count    340.000000\n",
       "mean     170.500000\n",
       "std       98.293777\n",
       "min        1.000000\n",
       "25%       85.750000\n",
       "50%      170.500000\n",
       "75%      255.250000\n",
       "max      340.000000"
      ]
     },
     "metadata": {},
     "output_type": "display_data"
    },
    {
     "name": "stdout",
     "output_type": "stream",
     "text": [
      "******************************\n",
      "Вывод общей информации по таблице `ratings`:\n"
     ]
    },
    {
     "data": {
      "text/html": [
       "<div>\n",
       "<style scoped>\n",
       "    .dataframe tbody tr th:only-of-type {\n",
       "        vertical-align: middle;\n",
       "    }\n",
       "\n",
       "    .dataframe tbody tr th {\n",
       "        vertical-align: top;\n",
       "    }\n",
       "\n",
       "    .dataframe thead th {\n",
       "        text-align: right;\n",
       "    }\n",
       "</style>\n",
       "<table border=\"1\" class=\"dataframe\">\n",
       "  <thead>\n",
       "    <tr style=\"text-align: right;\">\n",
       "      <th></th>\n",
       "      <th>rating_id</th>\n",
       "      <th>book_id</th>\n",
       "      <th>username</th>\n",
       "      <th>rating</th>\n",
       "    </tr>\n",
       "  </thead>\n",
       "  <tbody>\n",
       "    <tr>\n",
       "      <th>0</th>\n",
       "      <td>1</td>\n",
       "      <td>1</td>\n",
       "      <td>ryanfranco</td>\n",
       "      <td>4</td>\n",
       "    </tr>\n",
       "    <tr>\n",
       "      <th>1</th>\n",
       "      <td>2</td>\n",
       "      <td>1</td>\n",
       "      <td>grantpatricia</td>\n",
       "      <td>2</td>\n",
       "    </tr>\n",
       "    <tr>\n",
       "      <th>2</th>\n",
       "      <td>3</td>\n",
       "      <td>1</td>\n",
       "      <td>brandtandrea</td>\n",
       "      <td>5</td>\n",
       "    </tr>\n",
       "    <tr>\n",
       "      <th>3</th>\n",
       "      <td>4</td>\n",
       "      <td>2</td>\n",
       "      <td>lorichen</td>\n",
       "      <td>3</td>\n",
       "    </tr>\n",
       "    <tr>\n",
       "      <th>4</th>\n",
       "      <td>5</td>\n",
       "      <td>2</td>\n",
       "      <td>mariokeller</td>\n",
       "      <td>2</td>\n",
       "    </tr>\n",
       "  </tbody>\n",
       "</table>\n",
       "</div>"
      ],
      "text/plain": [
       "   rating_id  book_id       username  rating\n",
       "0          1        1     ryanfranco       4\n",
       "1          2        1  grantpatricia       2\n",
       "2          3        1   brandtandrea       5\n",
       "3          4        2       lorichen       3\n",
       "4          5        2    mariokeller       2"
      ]
     },
     "metadata": {},
     "output_type": "display_data"
    },
    {
     "name": "stdout",
     "output_type": "stream",
     "text": [
      "<class 'pandas.core.frame.DataFrame'>\n",
      "RangeIndex: 6456 entries, 0 to 6455\n",
      "Data columns (total 4 columns):\n",
      " #   Column     Non-Null Count  Dtype \n",
      "---  ------     --------------  ----- \n",
      " 0   rating_id  6456 non-null   int64 \n",
      " 1   book_id    6456 non-null   int64 \n",
      " 2   username   6456 non-null   object\n",
      " 3   rating     6456 non-null   int64 \n",
      "dtypes: int64(3), object(1)\n",
      "memory usage: 201.9+ KB\n"
     ]
    },
    {
     "data": {
      "text/html": [
       "<div>\n",
       "<style scoped>\n",
       "    .dataframe tbody tr th:only-of-type {\n",
       "        vertical-align: middle;\n",
       "    }\n",
       "\n",
       "    .dataframe tbody tr th {\n",
       "        vertical-align: top;\n",
       "    }\n",
       "\n",
       "    .dataframe thead th {\n",
       "        text-align: right;\n",
       "    }\n",
       "</style>\n",
       "<table border=\"1\" class=\"dataframe\">\n",
       "  <thead>\n",
       "    <tr style=\"text-align: right;\">\n",
       "      <th></th>\n",
       "      <th>rating_id</th>\n",
       "      <th>book_id</th>\n",
       "      <th>rating</th>\n",
       "    </tr>\n",
       "  </thead>\n",
       "  <tbody>\n",
       "    <tr>\n",
       "      <th>count</th>\n",
       "      <td>6456.000000</td>\n",
       "      <td>6456.000000</td>\n",
       "      <td>6456.000000</td>\n",
       "    </tr>\n",
       "    <tr>\n",
       "      <th>mean</th>\n",
       "      <td>3228.500000</td>\n",
       "      <td>510.574195</td>\n",
       "      <td>3.928284</td>\n",
       "    </tr>\n",
       "    <tr>\n",
       "      <th>std</th>\n",
       "      <td>1863.831001</td>\n",
       "      <td>284.141636</td>\n",
       "      <td>0.943303</td>\n",
       "    </tr>\n",
       "    <tr>\n",
       "      <th>min</th>\n",
       "      <td>1.000000</td>\n",
       "      <td>1.000000</td>\n",
       "      <td>1.000000</td>\n",
       "    </tr>\n",
       "    <tr>\n",
       "      <th>25%</th>\n",
       "      <td>1614.750000</td>\n",
       "      <td>291.000000</td>\n",
       "      <td>3.000000</td>\n",
       "    </tr>\n",
       "    <tr>\n",
       "      <th>50%</th>\n",
       "      <td>3228.500000</td>\n",
       "      <td>506.000000</td>\n",
       "      <td>4.000000</td>\n",
       "    </tr>\n",
       "    <tr>\n",
       "      <th>75%</th>\n",
       "      <td>4842.250000</td>\n",
       "      <td>750.000000</td>\n",
       "      <td>5.000000</td>\n",
       "    </tr>\n",
       "    <tr>\n",
       "      <th>max</th>\n",
       "      <td>6456.000000</td>\n",
       "      <td>1000.000000</td>\n",
       "      <td>5.000000</td>\n",
       "    </tr>\n",
       "  </tbody>\n",
       "</table>\n",
       "</div>"
      ],
      "text/plain": [
       "         rating_id      book_id       rating\n",
       "count  6456.000000  6456.000000  6456.000000\n",
       "mean   3228.500000   510.574195     3.928284\n",
       "std    1863.831001   284.141636     0.943303\n",
       "min       1.000000     1.000000     1.000000\n",
       "25%    1614.750000   291.000000     3.000000\n",
       "50%    3228.500000   506.000000     4.000000\n",
       "75%    4842.250000   750.000000     5.000000\n",
       "max    6456.000000  1000.000000     5.000000"
      ]
     },
     "metadata": {},
     "output_type": "display_data"
    },
    {
     "name": "stdout",
     "output_type": "stream",
     "text": [
      "******************************\n",
      "Вывод общей информации по таблице `reviews`:\n"
     ]
    },
    {
     "data": {
      "text/html": [
       "<div>\n",
       "<style scoped>\n",
       "    .dataframe tbody tr th:only-of-type {\n",
       "        vertical-align: middle;\n",
       "    }\n",
       "\n",
       "    .dataframe tbody tr th {\n",
       "        vertical-align: top;\n",
       "    }\n",
       "\n",
       "    .dataframe thead th {\n",
       "        text-align: right;\n",
       "    }\n",
       "</style>\n",
       "<table border=\"1\" class=\"dataframe\">\n",
       "  <thead>\n",
       "    <tr style=\"text-align: right;\">\n",
       "      <th></th>\n",
       "      <th>review_id</th>\n",
       "      <th>book_id</th>\n",
       "      <th>username</th>\n",
       "      <th>text</th>\n",
       "    </tr>\n",
       "  </thead>\n",
       "  <tbody>\n",
       "    <tr>\n",
       "      <th>0</th>\n",
       "      <td>1</td>\n",
       "      <td>1</td>\n",
       "      <td>brandtandrea</td>\n",
       "      <td>Mention society tell send professor analysis. ...</td>\n",
       "    </tr>\n",
       "    <tr>\n",
       "      <th>1</th>\n",
       "      <td>2</td>\n",
       "      <td>1</td>\n",
       "      <td>ryanfranco</td>\n",
       "      <td>Foot glass pretty audience hit themselves. Amo...</td>\n",
       "    </tr>\n",
       "    <tr>\n",
       "      <th>2</th>\n",
       "      <td>3</td>\n",
       "      <td>2</td>\n",
       "      <td>lorichen</td>\n",
       "      <td>Listen treat keep worry. Miss husband tax but ...</td>\n",
       "    </tr>\n",
       "    <tr>\n",
       "      <th>3</th>\n",
       "      <td>4</td>\n",
       "      <td>3</td>\n",
       "      <td>johnsonamanda</td>\n",
       "      <td>Finally month interesting blue could nature cu...</td>\n",
       "    </tr>\n",
       "    <tr>\n",
       "      <th>4</th>\n",
       "      <td>5</td>\n",
       "      <td>3</td>\n",
       "      <td>scotttamara</td>\n",
       "      <td>Nation purpose heavy give wait song will. List...</td>\n",
       "    </tr>\n",
       "  </tbody>\n",
       "</table>\n",
       "</div>"
      ],
      "text/plain": [
       "   review_id  book_id       username  \\\n",
       "0          1        1   brandtandrea   \n",
       "1          2        1     ryanfranco   \n",
       "2          3        2       lorichen   \n",
       "3          4        3  johnsonamanda   \n",
       "4          5        3    scotttamara   \n",
       "\n",
       "                                                text  \n",
       "0  Mention society tell send professor analysis. ...  \n",
       "1  Foot glass pretty audience hit themselves. Amo...  \n",
       "2  Listen treat keep worry. Miss husband tax but ...  \n",
       "3  Finally month interesting blue could nature cu...  \n",
       "4  Nation purpose heavy give wait song will. List...  "
      ]
     },
     "metadata": {},
     "output_type": "display_data"
    },
    {
     "name": "stdout",
     "output_type": "stream",
     "text": [
      "<class 'pandas.core.frame.DataFrame'>\n",
      "RangeIndex: 2793 entries, 0 to 2792\n",
      "Data columns (total 4 columns):\n",
      " #   Column     Non-Null Count  Dtype \n",
      "---  ------     --------------  ----- \n",
      " 0   review_id  2793 non-null   int64 \n",
      " 1   book_id    2793 non-null   int64 \n",
      " 2   username   2793 non-null   object\n",
      " 3   text       2793 non-null   object\n",
      "dtypes: int64(2), object(2)\n",
      "memory usage: 87.4+ KB\n"
     ]
    },
    {
     "data": {
      "text/html": [
       "<div>\n",
       "<style scoped>\n",
       "    .dataframe tbody tr th:only-of-type {\n",
       "        vertical-align: middle;\n",
       "    }\n",
       "\n",
       "    .dataframe tbody tr th {\n",
       "        vertical-align: top;\n",
       "    }\n",
       "\n",
       "    .dataframe thead th {\n",
       "        text-align: right;\n",
       "    }\n",
       "</style>\n",
       "<table border=\"1\" class=\"dataframe\">\n",
       "  <thead>\n",
       "    <tr style=\"text-align: right;\">\n",
       "      <th></th>\n",
       "      <th>review_id</th>\n",
       "      <th>book_id</th>\n",
       "    </tr>\n",
       "  </thead>\n",
       "  <tbody>\n",
       "    <tr>\n",
       "      <th>count</th>\n",
       "      <td>2793.000000</td>\n",
       "      <td>2793.000000</td>\n",
       "    </tr>\n",
       "    <tr>\n",
       "      <th>mean</th>\n",
       "      <td>1397.000000</td>\n",
       "      <td>504.693161</td>\n",
       "    </tr>\n",
       "    <tr>\n",
       "      <th>std</th>\n",
       "      <td>806.413976</td>\n",
       "      <td>288.472931</td>\n",
       "    </tr>\n",
       "    <tr>\n",
       "      <th>min</th>\n",
       "      <td>1.000000</td>\n",
       "      <td>1.000000</td>\n",
       "    </tr>\n",
       "    <tr>\n",
       "      <th>25%</th>\n",
       "      <td>699.000000</td>\n",
       "      <td>259.000000</td>\n",
       "    </tr>\n",
       "    <tr>\n",
       "      <th>50%</th>\n",
       "      <td>1397.000000</td>\n",
       "      <td>505.000000</td>\n",
       "    </tr>\n",
       "    <tr>\n",
       "      <th>75%</th>\n",
       "      <td>2095.000000</td>\n",
       "      <td>753.000000</td>\n",
       "    </tr>\n",
       "    <tr>\n",
       "      <th>max</th>\n",
       "      <td>2793.000000</td>\n",
       "      <td>1000.000000</td>\n",
       "    </tr>\n",
       "  </tbody>\n",
       "</table>\n",
       "</div>"
      ],
      "text/plain": [
       "         review_id      book_id\n",
       "count  2793.000000  2793.000000\n",
       "mean   1397.000000   504.693161\n",
       "std     806.413976   288.472931\n",
       "min       1.000000     1.000000\n",
       "25%     699.000000   259.000000\n",
       "50%    1397.000000   505.000000\n",
       "75%    2095.000000   753.000000\n",
       "max    2793.000000  1000.000000"
      ]
     },
     "metadata": {},
     "output_type": "display_data"
    },
    {
     "name": "stdout",
     "output_type": "stream",
     "text": [
      "******************************\n"
     ]
    }
   ],
   "source": [
    "name_list = ['books', 'authors', 'publishers', 'ratings', 'reviews']\n",
    "for name in name_list:\n",
    "    print(f'Вывод общей информации по таблице `{name}`:')\n",
    "    table_analyze(name)"
   ]
  },
  {
   "cell_type": "markdown",
   "metadata": {},
   "source": [
    "Импортировали необходимыке библиотеки и параметры доступа к базе данных, изучили общую информацию о данных.   \n",
    "\n",
    "Видим, что пропуски отсутствуют. Типы данных также соответствуют значениям."
   ]
  },
  {
   "cell_type": "markdown",
   "metadata": {},
   "source": [
    "<a name=\"stage_2\"></a>\n",
    "# 2. Решение задания"
   ]
  },
  {
   "cell_type": "markdown",
   "metadata": {},
   "source": [
    "1. Посчитаем, сколько книг вышло после 1 января 2000 года;"
   ]
  },
  {
   "cell_type": "code",
   "execution_count": 4,
   "metadata": {},
   "outputs": [
    {
     "data": {
      "text/html": [
       "<div>\n",
       "<style scoped>\n",
       "    .dataframe tbody tr th:only-of-type {\n",
       "        vertical-align: middle;\n",
       "    }\n",
       "\n",
       "    .dataframe tbody tr th {\n",
       "        vertical-align: top;\n",
       "    }\n",
       "\n",
       "    .dataframe thead th {\n",
       "        text-align: right;\n",
       "    }\n",
       "</style>\n",
       "<table border=\"1\" class=\"dataframe\">\n",
       "  <thead>\n",
       "    <tr style=\"text-align: right;\">\n",
       "      <th></th>\n",
       "      <th>books_count</th>\n",
       "    </tr>\n",
       "  </thead>\n",
       "  <tbody>\n",
       "    <tr>\n",
       "      <th>0</th>\n",
       "      <td>821</td>\n",
       "    </tr>\n",
       "  </tbody>\n",
       "</table>\n",
       "</div>"
      ],
      "text/plain": [
       "   books_count\n",
       "0          821"
      ]
     },
     "execution_count": 4,
     "metadata": {},
     "output_type": "execute_result"
    }
   ],
   "source": [
    "query = ''' \n",
    "            SELECT\n",
    "                 COUNT(title) as books_count \n",
    "            FROM books AS b\n",
    "            WHERE publication_date >=DATE('2000-01-01')\n",
    "        '''\n",
    "pd.io.sql.read_sql(sql=text(query), con = engine.connect())"
   ]
  },
  {
   "cell_type": "markdown",
   "metadata": {},
   "source": [
    "После 1 января 2000 года включительно вышла 821 книга."
   ]
  },
  {
   "cell_type": "markdown",
   "metadata": {},
   "source": [
    "2. Для каждой книги посчитайте количество обзоров и среднюю оценку;"
   ]
  },
  {
   "cell_type": "code",
   "execution_count": 5,
   "metadata": {},
   "outputs": [
    {
     "data": {
      "text/html": [
       "<div>\n",
       "<style scoped>\n",
       "    .dataframe tbody tr th:only-of-type {\n",
       "        vertical-align: middle;\n",
       "    }\n",
       "\n",
       "    .dataframe tbody tr th {\n",
       "        vertical-align: top;\n",
       "    }\n",
       "\n",
       "    .dataframe thead th {\n",
       "        text-align: right;\n",
       "    }\n",
       "</style>\n",
       "<table border=\"1\" class=\"dataframe\">\n",
       "  <thead>\n",
       "    <tr style=\"text-align: right;\">\n",
       "      <th></th>\n",
       "      <th>book_id</th>\n",
       "      <th>title</th>\n",
       "      <th>count_reviews</th>\n",
       "      <th>avg_rating</th>\n",
       "    </tr>\n",
       "  </thead>\n",
       "  <tbody>\n",
       "    <tr>\n",
       "      <th>0</th>\n",
       "      <td>297</td>\n",
       "      <td>Hard Times</td>\n",
       "      <td>2.0</td>\n",
       "      <td>5.00</td>\n",
       "    </tr>\n",
       "    <tr>\n",
       "      <th>1</th>\n",
       "      <td>902</td>\n",
       "      <td>The War of Art: Break Through the Blocks &amp; Win...</td>\n",
       "      <td>2.0</td>\n",
       "      <td>5.00</td>\n",
       "    </tr>\n",
       "    <tr>\n",
       "      <th>2</th>\n",
       "      <td>599</td>\n",
       "      <td>Stone of Farewell (Memory  Sorrow  and Thorn  #2)</td>\n",
       "      <td>1.0</td>\n",
       "      <td>5.00</td>\n",
       "    </tr>\n",
       "    <tr>\n",
       "      <th>3</th>\n",
       "      <td>20</td>\n",
       "      <td>A Fistful of Charms (The Hollows  #4)</td>\n",
       "      <td>2.0</td>\n",
       "      <td>5.00</td>\n",
       "    </tr>\n",
       "    <tr>\n",
       "      <th>4</th>\n",
       "      <td>625</td>\n",
       "      <td>The Adventures of Tom Sawyer and Adventures of...</td>\n",
       "      <td>1.0</td>\n",
       "      <td>5.00</td>\n",
       "    </tr>\n",
       "    <tr>\n",
       "      <th>...</th>\n",
       "      <td>...</td>\n",
       "      <td>...</td>\n",
       "      <td>...</td>\n",
       "      <td>...</td>\n",
       "    </tr>\n",
       "    <tr>\n",
       "      <th>995</th>\n",
       "      <td>915</td>\n",
       "      <td>The World Is Flat: A Brief History of the Twen...</td>\n",
       "      <td>3.0</td>\n",
       "      <td>2.25</td>\n",
       "    </tr>\n",
       "    <tr>\n",
       "      <th>996</th>\n",
       "      <td>202</td>\n",
       "      <td>Drowning Ruth</td>\n",
       "      <td>3.0</td>\n",
       "      <td>2.00</td>\n",
       "    </tr>\n",
       "    <tr>\n",
       "      <th>997</th>\n",
       "      <td>316</td>\n",
       "      <td>His Excellency: George Washington</td>\n",
       "      <td>2.0</td>\n",
       "      <td>2.00</td>\n",
       "    </tr>\n",
       "    <tr>\n",
       "      <th>998</th>\n",
       "      <td>371</td>\n",
       "      <td>Junky</td>\n",
       "      <td>2.0</td>\n",
       "      <td>2.00</td>\n",
       "    </tr>\n",
       "    <tr>\n",
       "      <th>999</th>\n",
       "      <td>303</td>\n",
       "      <td>Harvesting the Heart</td>\n",
       "      <td>2.0</td>\n",
       "      <td>1.50</td>\n",
       "    </tr>\n",
       "  </tbody>\n",
       "</table>\n",
       "<p>1000 rows × 4 columns</p>\n",
       "</div>"
      ],
      "text/plain": [
       "     book_id                                              title  \\\n",
       "0        297                                         Hard Times   \n",
       "1        902  The War of Art: Break Through the Blocks & Win...   \n",
       "2        599  Stone of Farewell (Memory  Sorrow  and Thorn  #2)   \n",
       "3         20              A Fistful of Charms (The Hollows  #4)   \n",
       "4        625  The Adventures of Tom Sawyer and Adventures of...   \n",
       "..       ...                                                ...   \n",
       "995      915  The World Is Flat: A Brief History of the Twen...   \n",
       "996      202                                      Drowning Ruth   \n",
       "997      316                  His Excellency: George Washington   \n",
       "998      371                                              Junky   \n",
       "999      303                               Harvesting the Heart   \n",
       "\n",
       "     count_reviews  avg_rating  \n",
       "0              2.0        5.00  \n",
       "1              2.0        5.00  \n",
       "2              1.0        5.00  \n",
       "3              2.0        5.00  \n",
       "4              1.0        5.00  \n",
       "..             ...         ...  \n",
       "995            3.0        2.25  \n",
       "996            3.0        2.00  \n",
       "997            2.0        2.00  \n",
       "998            2.0        2.00  \n",
       "999            2.0        1.50  \n",
       "\n",
       "[1000 rows x 4 columns]"
      ]
     },
     "execution_count": 5,
     "metadata": {},
     "output_type": "execute_result"
    }
   ],
   "source": [
    "query = ''' \n",
    "            WITH temp1 as (\n",
    "            SELECT\n",
    "                 book_id,\n",
    "                 COUNT(review_id) as count_reviews\n",
    "            FROM \n",
    "                reviews as r\n",
    "            GROUP BY book_id\n",
    "            ),\n",
    "            temp2 as (\n",
    "            SELECT\n",
    "                 book_id,\n",
    "                 AVG(rating) as avg_rating\n",
    "            FROM \n",
    "                ratings as ra\n",
    "            GROUP BY book_id\n",
    "            )\n",
    "            SELECT\n",
    "                 b.book_id,\n",
    "                 b.title,\n",
    "                 sum(count_reviews) as count_reviews,\n",
    "                 avg(avg_rating) as avg_rating\n",
    "            FROM \n",
    "                books as b\n",
    "            LEFT JOIN \n",
    "                    temp1 ON b.book_id = temp1.book_id\n",
    "            LEFT JOIN \n",
    "                    temp2 ON b.book_id = temp2.book_id\n",
    "            GROUP BY 1\n",
    "            ORDER BY avg_rating DESC\n",
    "        '''\n",
    "pd.io.sql.read_sql(sql=text(query), con = engine.connect())"
   ]
  },
  {
   "cell_type": "markdown",
   "metadata": {},
   "source": [
    "Вывод отвечает на вопрос поставленной задачи"
   ]
  },
  {
   "cell_type": "markdown",
   "metadata": {},
   "source": [
    "3. Определите издательство, которое выпустило наибольшее число книг толще 50 страниц — так вы исключите из анализа брошюры;"
   ]
  },
  {
   "cell_type": "code",
   "execution_count": 6,
   "metadata": {},
   "outputs": [
    {
     "data": {
      "text/html": [
       "<div>\n",
       "<style scoped>\n",
       "    .dataframe tbody tr th:only-of-type {\n",
       "        vertical-align: middle;\n",
       "    }\n",
       "\n",
       "    .dataframe tbody tr th {\n",
       "        vertical-align: top;\n",
       "    }\n",
       "\n",
       "    .dataframe thead th {\n",
       "        text-align: right;\n",
       "    }\n",
       "</style>\n",
       "<table border=\"1\" class=\"dataframe\">\n",
       "  <thead>\n",
       "    <tr style=\"text-align: right;\">\n",
       "      <th></th>\n",
       "      <th>publisher</th>\n",
       "      <th>book_count</th>\n",
       "    </tr>\n",
       "  </thead>\n",
       "  <tbody>\n",
       "    <tr>\n",
       "      <th>0</th>\n",
       "      <td>Penguin Books</td>\n",
       "      <td>42</td>\n",
       "    </tr>\n",
       "    <tr>\n",
       "      <th>1</th>\n",
       "      <td>Vintage</td>\n",
       "      <td>31</td>\n",
       "    </tr>\n",
       "    <tr>\n",
       "      <th>2</th>\n",
       "      <td>Grand Central Publishing</td>\n",
       "      <td>25</td>\n",
       "    </tr>\n",
       "    <tr>\n",
       "      <th>3</th>\n",
       "      <td>Penguin Classics</td>\n",
       "      <td>24</td>\n",
       "    </tr>\n",
       "    <tr>\n",
       "      <th>4</th>\n",
       "      <td>Ballantine Books</td>\n",
       "      <td>19</td>\n",
       "    </tr>\n",
       "  </tbody>\n",
       "</table>\n",
       "</div>"
      ],
      "text/plain": [
       "                  publisher  book_count\n",
       "0             Penguin Books          42\n",
       "1                   Vintage          31\n",
       "2  Grand Central Publishing          25\n",
       "3          Penguin Classics          24\n",
       "4          Ballantine Books          19"
      ]
     },
     "execution_count": 6,
     "metadata": {},
     "output_type": "execute_result"
    }
   ],
   "source": [
    "query = ''' \n",
    "            SELECT\n",
    "                 p.publisher,\n",
    "                 COUNT(book_id) as book_count\n",
    "            FROM \n",
    "                publishers AS p\n",
    "            JOIN \n",
    "                books as b ON p.publisher_id=b.publisher_id\n",
    "            WHERE \n",
    "                num_pages > 50\n",
    "            GROUP BY 1\n",
    "            ORDER BY 2 DESC\n",
    "        '''\n",
    "pd.io.sql.read_sql(sql=text(query), con = engine.connect()).head()"
   ]
  },
  {
   "cell_type": "markdown",
   "metadata": {},
   "source": [
    "Наибольшее число книг (42 шт) выпустило издательство Penguin Books\t"
   ]
  },
  {
   "cell_type": "markdown",
   "metadata": {},
   "source": [
    "4. Определение автора с самой высокой средней оценкой книг;"
   ]
  },
  {
   "cell_type": "markdown",
   "metadata": {},
   "source": [
    "Учитываем только книги с 50 и более оценками."
   ]
  },
  {
   "cell_type": "code",
   "execution_count": 7,
   "metadata": {},
   "outputs": [
    {
     "data": {
      "text/html": [
       "<div>\n",
       "<style scoped>\n",
       "    .dataframe tbody tr th:only-of-type {\n",
       "        vertical-align: middle;\n",
       "    }\n",
       "\n",
       "    .dataframe tbody tr th {\n",
       "        vertical-align: top;\n",
       "    }\n",
       "\n",
       "    .dataframe thead th {\n",
       "        text-align: right;\n",
       "    }\n",
       "</style>\n",
       "<table border=\"1\" class=\"dataframe\">\n",
       "  <thead>\n",
       "    <tr style=\"text-align: right;\">\n",
       "      <th></th>\n",
       "      <th>a_id</th>\n",
       "      <th>author</th>\n",
       "      <th>avg_rating</th>\n",
       "    </tr>\n",
       "  </thead>\n",
       "  <tbody>\n",
       "    <tr>\n",
       "      <th>0</th>\n",
       "      <td>236</td>\n",
       "      <td>J.K. Rowling/Mary GrandPré</td>\n",
       "      <td>4.29</td>\n",
       "    </tr>\n",
       "    <tr>\n",
       "      <th>1</th>\n",
       "      <td>402</td>\n",
       "      <td>Markus Zusak/Cao Xuân Việt Khương</td>\n",
       "      <td>4.26</td>\n",
       "    </tr>\n",
       "    <tr>\n",
       "      <th>2</th>\n",
       "      <td>240</td>\n",
       "      <td>J.R.R. Tolkien</td>\n",
       "      <td>4.25</td>\n",
       "    </tr>\n",
       "    <tr>\n",
       "      <th>3</th>\n",
       "      <td>376</td>\n",
       "      <td>Louisa May Alcott</td>\n",
       "      <td>4.19</td>\n",
       "    </tr>\n",
       "    <tr>\n",
       "      <th>4</th>\n",
       "      <td>498</td>\n",
       "      <td>Rick Riordan</td>\n",
       "      <td>4.08</td>\n",
       "    </tr>\n",
       "    <tr>\n",
       "      <th>5</th>\n",
       "      <td>621</td>\n",
       "      <td>William Golding</td>\n",
       "      <td>3.90</td>\n",
       "    </tr>\n",
       "    <tr>\n",
       "      <th>6</th>\n",
       "      <td>235</td>\n",
       "      <td>J.D. Salinger</td>\n",
       "      <td>3.83</td>\n",
       "    </tr>\n",
       "    <tr>\n",
       "      <th>7</th>\n",
       "      <td>630</td>\n",
       "      <td>William Shakespeare/Paul Werstine/Barbara A. M...</td>\n",
       "      <td>3.79</td>\n",
       "    </tr>\n",
       "    <tr>\n",
       "      <th>8</th>\n",
       "      <td>469</td>\n",
       "      <td>Paulo Coelho/Alan R. Clarke/Özdemir İnce</td>\n",
       "      <td>3.79</td>\n",
       "    </tr>\n",
       "    <tr>\n",
       "      <th>9</th>\n",
       "      <td>372</td>\n",
       "      <td>Lois Lowry</td>\n",
       "      <td>3.75</td>\n",
       "    </tr>\n",
       "    <tr>\n",
       "      <th>10</th>\n",
       "      <td>106</td>\n",
       "      <td>Dan Brown</td>\n",
       "      <td>3.74</td>\n",
       "    </tr>\n",
       "    <tr>\n",
       "      <th>11</th>\n",
       "      <td>195</td>\n",
       "      <td>George Orwell/Boris Grabnar/Peter Škerl</td>\n",
       "      <td>3.73</td>\n",
       "    </tr>\n",
       "    <tr>\n",
       "      <th>12</th>\n",
       "      <td>554</td>\n",
       "      <td>Stephenie Meyer</td>\n",
       "      <td>3.66</td>\n",
       "    </tr>\n",
       "    <tr>\n",
       "      <th>13</th>\n",
       "      <td>311</td>\n",
       "      <td>John Steinbeck</td>\n",
       "      <td>3.62</td>\n",
       "    </tr>\n",
       "  </tbody>\n",
       "</table>\n",
       "</div>"
      ],
      "text/plain": [
       "    a_id                                             author  avg_rating\n",
       "0    236                         J.K. Rowling/Mary GrandPré        4.29\n",
       "1    402                  Markus Zusak/Cao Xuân Việt Khương        4.26\n",
       "2    240                                     J.R.R. Tolkien        4.25\n",
       "3    376                                  Louisa May Alcott        4.19\n",
       "4    498                                       Rick Riordan        4.08\n",
       "5    621                                    William Golding        3.90\n",
       "6    235                                      J.D. Salinger        3.83\n",
       "7    630  William Shakespeare/Paul Werstine/Barbara A. M...        3.79\n",
       "8    469           Paulo Coelho/Alan R. Clarke/Özdemir İnce        3.79\n",
       "9    372                                         Lois Lowry        3.75\n",
       "10   106                                          Dan Brown        3.74\n",
       "11   195            George Orwell/Boris Grabnar/Peter Škerl        3.73\n",
       "12   554                                    Stephenie Meyer        3.66\n",
       "13   311                                     John Steinbeck        3.62"
      ]
     },
     "execution_count": 7,
     "metadata": {},
     "output_type": "execute_result"
    }
   ],
   "source": [
    "query = ''' WITH temp1 AS (SELECT \n",
    "                                book_id\n",
    "                           FROM \n",
    "                                ratings\n",
    "                           GROUP BY \n",
    "                                   book_id\n",
    "                           HAVING \n",
    "                                COUNT(rating_id) >= 50),\n",
    "\n",
    "                temp2 AS (SELECT \n",
    "                                b.author_id as a_id,\n",
    "                                ROUND(AVG(r.rating),2) AS avg_rating\n",
    "                       FROM \n",
    "                           temp1\n",
    "                       JOIN \n",
    "                           books b ON b.book_id = temp1.book_id\n",
    "                       JOIN \n",
    "                           ratings r ON r.book_id=temp1.book_id\n",
    "                       GROUP BY \n",
    "                               b.author_id\n",
    "                       ORDER BY \n",
    "                               avg_rating DESC)\n",
    "\n",
    "          SELECT \n",
    "                temp2.a_id,\n",
    "                a.author,\n",
    "                temp2.avg_rating\n",
    "          FROM \n",
    "                temp2\n",
    "          JOIN\n",
    "                authors a ON temp2.a_id=a.author_id\n",
    "          ORDER BY avg_rating DESC\n",
    "            \n",
    "        '''\n",
    "pd.io.sql.read_sql(sql=text(query), con = engine.connect())"
   ]
  },
  {
   "cell_type": "markdown",
   "metadata": {},
   "source": [
    "Автором с самой высокой средней оценкой книг является J.K. Rowling/Mary GrandPré."
   ]
  },
  {
   "cell_type": "markdown",
   "metadata": {},
   "source": [
    "5. Посчитаем среднее количество обзоров от пользователей, которые поставили больше 48 оценок."
   ]
  },
  {
   "cell_type": "code",
   "execution_count": 8,
   "metadata": {},
   "outputs": [
    {
     "data": {
      "text/html": [
       "<div>\n",
       "<style scoped>\n",
       "    .dataframe tbody tr th:only-of-type {\n",
       "        vertical-align: middle;\n",
       "    }\n",
       "\n",
       "    .dataframe tbody tr th {\n",
       "        vertical-align: top;\n",
       "    }\n",
       "\n",
       "    .dataframe thead th {\n",
       "        text-align: right;\n",
       "    }\n",
       "</style>\n",
       "<table border=\"1\" class=\"dataframe\">\n",
       "  <thead>\n",
       "    <tr style=\"text-align: right;\">\n",
       "      <th></th>\n",
       "      <th>avg_reviews</th>\n",
       "    </tr>\n",
       "  </thead>\n",
       "  <tbody>\n",
       "    <tr>\n",
       "      <th>0</th>\n",
       "      <td>24.0</td>\n",
       "    </tr>\n",
       "  </tbody>\n",
       "</table>\n",
       "</div>"
      ],
      "text/plain": [
       "   avg_reviews\n",
       "0         24.0"
      ]
     },
     "execution_count": 8,
     "metadata": {},
     "output_type": "execute_result"
    }
   ],
   "source": [
    "query = ''' \n",
    "            SELECT\n",
    "                 ROUND(AVG(review_ids)) AS avg_reviews\n",
    "            FROM \n",
    "                (SELECT\n",
    "                        COUNT(review_id) AS review_ids\n",
    "                        FROM\n",
    "                            (SELECT\n",
    "                                    username\n",
    "                            FROM\n",
    "                                ratings\n",
    "                            GROUP BY 1\n",
    "                            HAVING\n",
    "                                COUNT(rating_id) > 48) as tmp1\n",
    "            LEFT JOIN \n",
    "                    reviews as r ON tmp1.username = r.username\n",
    "            GROUP BY \n",
    "                    tmp1.username)as tmp2\n",
    "        '''\n",
    "pd.io.sql.read_sql(sql=text(query), con = engine.connect())"
   ]
  },
  {
   "cell_type": "markdown",
   "metadata": {},
   "source": [
    "Средним количеством обзоров от пользователей, которые поставили больше 48 оценок, является 24"
   ]
  },
  {
   "cell_type": "markdown",
   "metadata": {},
   "source": [
    "<a name=\"stage_5\"></a>\n",
    "\n",
    "# 5. Выводы"
   ]
  },
  {
   "cell_type": "markdown",
   "metadata": {},
   "source": [
    "По результатам выполнения sql запросов мы имеем следующие данные:\n",
    "1. После 1 января 2000 года включительно вышла 821 книга;    \n",
    "2. Для каждой книги посчитано количество обзоров и средняя оценка;  \n",
    "3. Наибольшее число книг (42 шт) выпустило издательство Penguin Books;  \n",
    "4. Автором с самой высокой средней оценкой книг является J.K. Rowling/Mary GrandPré.  \n",
    "5. Средним количеством обзоров от пользователей, которые поставили больше 48 оценок, является 24"
   ]
  }
 ],
 "metadata": {
  "ExecuteTimeLog": [
   {
    "duration": 1334,
    "start_time": "2023-10-15T19:46:27.906Z"
   },
   {
    "duration": 4,
    "start_time": "2023-10-15T19:46:29.242Z"
   },
   {
    "duration": 28,
    "start_time": "2023-10-15T19:46:29.247Z"
   },
   {
    "duration": 285,
    "start_time": "2023-10-15T19:46:29.277Z"
   },
   {
    "duration": 11,
    "start_time": "2023-10-15T19:46:29.564Z"
   },
   {
    "duration": 32,
    "start_time": "2023-10-15T19:46:29.576Z"
   },
   {
    "duration": 25,
    "start_time": "2023-10-15T19:46:29.610Z"
   },
   {
    "duration": 22,
    "start_time": "2023-10-15T19:46:29.636Z"
   },
   {
    "duration": 26,
    "start_time": "2023-10-15T19:46:29.659Z"
   },
   {
    "duration": 14,
    "start_time": "2023-10-15T19:46:29.688Z"
   },
   {
    "duration": 35,
    "start_time": "2023-10-15T19:46:29.704Z"
   },
   {
    "duration": 34,
    "start_time": "2023-10-15T19:46:29.741Z"
   },
   {
    "duration": 70,
    "start_time": "2023-10-15T19:46:29.776Z"
   },
   {
    "duration": 20,
    "start_time": "2023-10-15T19:46:29.847Z"
   },
   {
    "duration": 59,
    "start_time": "2023-10-15T19:46:29.869Z"
   },
   {
    "duration": 35,
    "start_time": "2023-10-15T19:46:29.930Z"
   },
   {
    "duration": 50,
    "start_time": "2023-10-15T19:46:29.967Z"
   },
   {
    "duration": 375,
    "start_time": "2023-10-15T19:46:30.019Z"
   },
   {
    "duration": 353,
    "start_time": "2023-10-15T19:46:30.395Z"
   },
   {
    "duration": 287,
    "start_time": "2023-10-15T19:46:30.749Z"
   },
   {
    "duration": 12,
    "start_time": "2023-10-15T19:46:31.038Z"
   },
   {
    "duration": 489,
    "start_time": "2023-10-15T19:46:31.052Z"
   },
   {
    "duration": 288,
    "start_time": "2023-10-15T19:46:31.543Z"
   },
   {
    "duration": 358,
    "start_time": "2023-10-15T19:46:31.833Z"
   },
   {
    "duration": 171,
    "start_time": "2023-10-15T19:46:32.192Z"
   },
   {
    "duration": 62,
    "start_time": "2023-10-15T19:46:32.364Z"
   },
   {
    "duration": 359,
    "start_time": "2023-10-15T19:46:32.428Z"
   },
   {
    "duration": 187,
    "start_time": "2023-10-15T19:46:32.791Z"
   },
   {
    "duration": 5,
    "start_time": "2023-10-15T19:46:32.980Z"
   },
   {
    "duration": 301,
    "start_time": "2023-10-15T19:46:32.986Z"
   },
   {
    "duration": 262,
    "start_time": "2023-10-15T19:46:33.289Z"
   },
   {
    "duration": 26,
    "start_time": "2023-10-15T19:46:33.552Z"
   },
   {
    "duration": 4,
    "start_time": "2023-10-15T19:46:33.580Z"
   },
   {
    "duration": 27,
    "start_time": "2023-10-15T19:46:33.585Z"
   },
   {
    "duration": 40,
    "start_time": "2023-10-15T19:46:33.614Z"
   },
   {
    "duration": 32,
    "start_time": "2023-10-15T19:46:33.655Z"
   },
   {
    "duration": 21,
    "start_time": "2023-10-15T19:46:33.689Z"
   },
   {
    "duration": 38,
    "start_time": "2023-10-15T19:46:33.712Z"
   },
   {
    "duration": 54,
    "start_time": "2023-10-15T19:46:33.752Z"
   },
   {
    "duration": 5,
    "start_time": "2023-10-15T19:46:33.807Z"
   },
   {
    "duration": 24,
    "start_time": "2023-10-15T19:46:33.813Z"
   },
   {
    "duration": 49,
    "start_time": "2023-10-16T13:09:34.789Z"
   },
   {
    "duration": 1402,
    "start_time": "2023-10-17T13:36:48.216Z"
   },
   {
    "duration": 4,
    "start_time": "2023-10-17T13:36:49.620Z"
   },
   {
    "duration": 18,
    "start_time": "2023-10-17T13:36:49.625Z"
   },
   {
    "duration": 325,
    "start_time": "2023-10-17T13:36:49.644Z"
   },
   {
    "duration": 14,
    "start_time": "2023-10-17T13:36:49.971Z"
   },
   {
    "duration": 55,
    "start_time": "2023-10-17T13:36:49.987Z"
   },
   {
    "duration": 28,
    "start_time": "2023-10-17T13:36:50.044Z"
   },
   {
    "duration": 40,
    "start_time": "2023-10-17T13:36:50.074Z"
   },
   {
    "duration": 28,
    "start_time": "2023-10-17T13:36:50.116Z"
   },
   {
    "duration": 47,
    "start_time": "2023-10-17T13:36:50.146Z"
   },
   {
    "duration": 49,
    "start_time": "2023-10-17T13:36:50.195Z"
   },
   {
    "duration": 16,
    "start_time": "2023-10-17T13:36:50.246Z"
   },
   {
    "duration": 17,
    "start_time": "2023-10-17T13:36:50.264Z"
   },
   {
    "duration": 26,
    "start_time": "2023-10-17T13:36:50.284Z"
   },
   {
    "duration": 24,
    "start_time": "2023-10-17T13:36:50.312Z"
   },
   {
    "duration": 18,
    "start_time": "2023-10-17T13:36:50.338Z"
   },
   {
    "duration": 48,
    "start_time": "2023-10-17T13:36:50.358Z"
   },
   {
    "duration": 334,
    "start_time": "2023-10-17T13:36:50.409Z"
   },
   {
    "duration": 395,
    "start_time": "2023-10-17T13:36:50.745Z"
   },
   {
    "duration": 293,
    "start_time": "2023-10-17T13:36:51.142Z"
   },
   {
    "duration": 14,
    "start_time": "2023-10-17T13:36:51.437Z"
   },
   {
    "duration": 512,
    "start_time": "2023-10-17T13:36:51.452Z"
   },
   {
    "duration": 322,
    "start_time": "2023-10-17T13:36:51.967Z"
   },
   {
    "duration": 384,
    "start_time": "2023-10-17T13:36:52.292Z"
   },
   {
    "duration": 174,
    "start_time": "2023-10-17T13:36:52.677Z"
   },
   {
    "duration": 15,
    "start_time": "2023-10-17T13:36:52.853Z"
   },
   {
    "duration": 213,
    "start_time": "2023-10-17T13:36:52.869Z"
   },
   {
    "duration": 228,
    "start_time": "2023-10-17T13:36:53.083Z"
   },
   {
    "duration": 6,
    "start_time": "2023-10-17T13:36:53.313Z"
   },
   {
    "duration": 355,
    "start_time": "2023-10-17T13:36:53.321Z"
   },
   {
    "duration": 311,
    "start_time": "2023-10-17T13:36:53.678Z"
   },
   {
    "duration": 35,
    "start_time": "2023-10-17T13:36:53.991Z"
   },
   {
    "duration": 6,
    "start_time": "2023-10-17T13:36:54.028Z"
   },
   {
    "duration": 23,
    "start_time": "2023-10-17T13:36:54.036Z"
   },
   {
    "duration": 31,
    "start_time": "2023-10-17T13:36:54.067Z"
   },
   {
    "duration": 52,
    "start_time": "2023-10-17T13:36:54.099Z"
   },
   {
    "duration": 24,
    "start_time": "2023-10-17T13:36:54.153Z"
   },
   {
    "duration": 39,
    "start_time": "2023-10-17T13:36:54.179Z"
   },
   {
    "duration": 10,
    "start_time": "2023-10-17T13:36:54.220Z"
   },
   {
    "duration": 25,
    "start_time": "2023-10-17T13:36:54.232Z"
   },
   {
    "duration": 1508,
    "start_time": "2023-12-13T02:10:52.134Z"
   },
   {
    "duration": 4,
    "start_time": "2023-12-13T02:10:53.644Z"
   },
   {
    "duration": 10,
    "start_time": "2023-12-13T02:10:53.649Z"
   },
   {
    "duration": 77,
    "start_time": "2023-12-13T02:10:53.665Z"
   },
   {
    "duration": 13,
    "start_time": "2023-12-13T02:10:53.744Z"
   },
   {
    "duration": 12,
    "start_time": "2023-12-13T02:10:53.759Z"
   },
   {
    "duration": 18,
    "start_time": "2023-12-13T02:10:53.772Z"
   },
   {
    "duration": 7,
    "start_time": "2023-12-13T02:10:53.791Z"
   },
   {
    "duration": 6,
    "start_time": "2023-12-13T02:10:53.799Z"
   },
   {
    "duration": 72,
    "start_time": "2023-12-13T02:10:53.808Z"
   },
   {
    "duration": 6,
    "start_time": "2023-12-13T02:10:53.881Z"
   },
   {
    "duration": 13,
    "start_time": "2023-12-13T02:10:53.888Z"
   },
   {
    "duration": 4,
    "start_time": "2023-12-13T02:10:53.903Z"
   },
   {
    "duration": 7,
    "start_time": "2023-12-13T02:10:53.908Z"
   },
   {
    "duration": 31,
    "start_time": "2023-12-13T02:10:53.916Z"
   },
   {
    "duration": 14,
    "start_time": "2023-12-13T02:10:53.948Z"
   },
   {
    "duration": 35,
    "start_time": "2023-12-13T02:10:53.963Z"
   },
   {
    "duration": 5,
    "start_time": "2023-12-13T02:10:53.999Z"
   },
   {
    "duration": 12,
    "start_time": "2023-12-13T02:10:54.005Z"
   },
   {
    "duration": 16,
    "start_time": "2023-12-13T02:10:54.018Z"
   },
   {
    "duration": 22,
    "start_time": "2023-12-13T02:10:54.035Z"
   },
   {
    "duration": 18,
    "start_time": "2023-12-13T02:10:54.058Z"
   },
   {
    "duration": 39,
    "start_time": "2023-12-13T02:10:54.077Z"
   },
   {
    "duration": 10,
    "start_time": "2023-12-13T02:10:54.118Z"
   },
   {
    "duration": 8,
    "start_time": "2023-12-13T02:10:54.129Z"
   },
   {
    "duration": 26,
    "start_time": "2023-12-13T02:10:54.139Z"
   },
   {
    "duration": 15,
    "start_time": "2023-12-13T02:10:54.166Z"
   },
   {
    "duration": 34,
    "start_time": "2023-12-13T02:10:54.184Z"
   },
   {
    "duration": 17,
    "start_time": "2023-12-13T02:10:54.219Z"
   },
   {
    "duration": 29,
    "start_time": "2023-12-13T02:10:54.237Z"
   },
   {
    "duration": 1525,
    "start_time": "2023-12-13T02:10:54.268Z"
   },
   {
    "duration": 393,
    "start_time": "2023-12-13T02:10:55.795Z"
   },
   {
    "duration": 14,
    "start_time": "2023-12-13T02:10:56.189Z"
   },
   {
    "duration": 33,
    "start_time": "2023-12-13T02:10:56.205Z"
   },
   {
    "duration": 652,
    "start_time": "2023-12-13T02:10:56.239Z"
   },
   {
    "duration": 21,
    "start_time": "2023-12-13T02:10:56.892Z"
   },
   {
    "duration": 90,
    "start_time": "2023-12-13T02:10:56.915Z"
   },
   {
    "duration": 70,
    "start_time": "2023-12-13T02:10:57.007Z"
   },
   {
    "duration": 44,
    "start_time": "2023-12-13T02:10:57.079Z"
   },
   {
    "duration": 42,
    "start_time": "2023-12-13T02:10:57.125Z"
   },
   {
    "duration": 45,
    "start_time": "2023-12-13T02:10:57.168Z"
   },
   {
    "duration": 21,
    "start_time": "2023-12-13T02:10:57.215Z"
   },
   {
    "duration": 320,
    "start_time": "2023-12-13T02:10:57.237Z"
   },
   {
    "duration": 48,
    "start_time": "2023-12-13T02:10:57.559Z"
   },
   {
    "duration": 23,
    "start_time": "2023-12-13T02:10:57.608Z"
   },
   {
    "duration": 61,
    "start_time": "2023-12-13T02:10:57.632Z"
   },
   {
    "duration": 22,
    "start_time": "2023-12-13T02:10:57.695Z"
   },
   {
    "duration": 56,
    "start_time": "2023-12-13T02:10:57.719Z"
   },
   {
    "duration": 20,
    "start_time": "2023-12-13T02:10:57.777Z"
   },
   {
    "duration": 42,
    "start_time": "2023-12-13T02:10:57.799Z"
   },
   {
    "duration": 21,
    "start_time": "2023-12-13T02:10:57.866Z"
   },
   {
    "duration": 344,
    "start_time": "2023-12-13T02:10:57.889Z"
   },
   {
    "duration": 147,
    "start_time": "2023-12-13T02:10:58.234Z"
   },
   {
    "duration": 21,
    "start_time": "2023-12-13T02:10:58.382Z"
   },
   {
    "duration": 347,
    "start_time": "2023-12-13T02:10:58.405Z"
   },
   {
    "duration": 48,
    "start_time": "2023-12-13T02:10:58.753Z"
   },
   {
    "duration": 11,
    "start_time": "2023-12-13T02:10:58.803Z"
   },
   {
    "duration": 5,
    "start_time": "2023-12-13T02:10:58.816Z"
   },
   {
    "duration": 5,
    "start_time": "2023-12-13T02:10:58.822Z"
   },
   {
    "duration": 7,
    "start_time": "2023-12-13T02:10:58.828Z"
   },
   {
    "duration": 32,
    "start_time": "2023-12-13T02:10:58.837Z"
   },
   {
    "duration": 71,
    "start_time": "2023-12-13T02:10:58.870Z"
   },
   {
    "duration": 8872,
    "start_time": "2023-12-21T14:36:13.848Z"
   },
   {
    "duration": 4,
    "start_time": "2023-12-21T14:36:22.723Z"
   },
   {
    "duration": 934,
    "start_time": "2023-12-21T14:36:22.728Z"
   },
   {
    "duration": 51,
    "start_time": "2023-12-21T14:36:23.664Z"
   },
   {
    "duration": 65,
    "start_time": "2023-12-21T14:36:23.717Z"
   },
   {
    "duration": 53,
    "start_time": "2023-12-21T14:36:23.784Z"
   },
   {
    "duration": 58,
    "start_time": "2023-12-21T14:36:23.839Z"
   },
   {
    "duration": 53,
    "start_time": "2023-12-21T14:36:23.898Z"
   },
   {
    "duration": 57,
    "start_time": "2023-12-21T14:37:15.187Z"
   },
   {
    "duration": 50,
    "start_time": "2023-12-21T18:20:08.172Z"
   },
   {
    "duration": 69,
    "start_time": "2023-12-21T18:20:39.257Z"
   },
   {
    "duration": 8661,
    "start_time": "2023-12-21T18:21:09.361Z"
   },
   {
    "duration": 4,
    "start_time": "2023-12-21T18:21:18.024Z"
   },
   {
    "duration": 971,
    "start_time": "2023-12-21T18:21:18.030Z"
   },
   {
    "duration": 50,
    "start_time": "2023-12-21T18:21:19.003Z"
   },
   {
    "duration": 120,
    "start_time": "2023-12-21T18:21:19.054Z"
   },
   {
    "duration": 0,
    "start_time": "2023-12-21T18:21:19.176Z"
   },
   {
    "duration": 0,
    "start_time": "2023-12-21T18:21:19.177Z"
   },
   {
    "duration": 0,
    "start_time": "2023-12-21T18:21:19.178Z"
   },
   {
    "duration": 145,
    "start_time": "2023-12-21T18:21:50.712Z"
   },
   {
    "duration": 85,
    "start_time": "2023-12-21T18:22:27.001Z"
   },
   {
    "duration": 90,
    "start_time": "2023-12-21T18:23:22.613Z"
   },
   {
    "duration": 87,
    "start_time": "2023-12-21T18:24:50.727Z"
   },
   {
    "duration": 91,
    "start_time": "2023-12-21T18:24:59.451Z"
   },
   {
    "duration": 58,
    "start_time": "2023-12-21T18:25:21.478Z"
   },
   {
    "duration": 57,
    "start_time": "2023-12-21T18:25:41.822Z"
   },
   {
    "duration": 57,
    "start_time": "2023-12-21T18:27:28.492Z"
   },
   {
    "duration": 57,
    "start_time": "2023-12-21T18:27:32.342Z"
   },
   {
    "duration": 61,
    "start_time": "2023-12-21T18:31:27.704Z"
   },
   {
    "duration": 144,
    "start_time": "2023-12-21T18:31:43.074Z"
   },
   {
    "duration": 146,
    "start_time": "2023-12-21T18:31:52.533Z"
   },
   {
    "duration": 55,
    "start_time": "2023-12-21T18:33:24.348Z"
   },
   {
    "duration": 59,
    "start_time": "2023-12-21T18:34:26.254Z"
   },
   {
    "duration": 55,
    "start_time": "2023-12-21T18:34:39.723Z"
   },
   {
    "duration": 67,
    "start_time": "2023-12-21T18:35:12.202Z"
   },
   {
    "duration": 59,
    "start_time": "2023-12-21T18:37:15.178Z"
   },
   {
    "duration": 128,
    "start_time": "2023-12-21T18:37:40.120Z"
   },
   {
    "duration": 57,
    "start_time": "2023-12-21T18:38:40.153Z"
   },
   {
    "duration": 58,
    "start_time": "2023-12-21T18:39:12.536Z"
   },
   {
    "duration": 8605,
    "start_time": "2023-12-21T18:39:46.622Z"
   },
   {
    "duration": 4,
    "start_time": "2023-12-21T18:39:55.229Z"
   },
   {
    "duration": 917,
    "start_time": "2023-12-21T18:39:55.234Z"
   },
   {
    "duration": 50,
    "start_time": "2023-12-21T18:39:56.153Z"
   },
   {
    "duration": 65,
    "start_time": "2023-12-21T18:39:56.205Z"
   },
   {
    "duration": 54,
    "start_time": "2023-12-21T18:39:56.272Z"
   },
   {
    "duration": 56,
    "start_time": "2023-12-21T18:39:56.327Z"
   },
   {
    "duration": 52,
    "start_time": "2023-12-21T18:39:56.385Z"
   },
   {
    "duration": 9036,
    "start_time": "2023-12-21T20:58:11.912Z"
   },
   {
    "duration": 4,
    "start_time": "2023-12-21T20:58:20.950Z"
   },
   {
    "duration": 925,
    "start_time": "2023-12-21T20:58:20.955Z"
   },
   {
    "duration": 50,
    "start_time": "2023-12-21T20:58:21.882Z"
   },
   {
    "duration": 67,
    "start_time": "2023-12-21T20:58:21.934Z"
   },
   {
    "duration": 53,
    "start_time": "2023-12-21T20:58:22.002Z"
   },
   {
    "duration": 56,
    "start_time": "2023-12-21T20:58:22.056Z"
   },
   {
    "duration": 52,
    "start_time": "2023-12-21T20:58:22.113Z"
   }
  ],
  "kernelspec": {
   "display_name": "Python 3 (ipykernel)",
   "language": "python",
   "name": "python3"
  },
  "language_info": {
   "codemirror_mode": {
    "name": "ipython",
    "version": 3
   },
   "file_extension": ".py",
   "mimetype": "text/x-python",
   "name": "python",
   "nbconvert_exporter": "python",
   "pygments_lexer": "ipython3",
   "version": "3.9.5"
  },
  "toc": {
   "base_numbering": 1,
   "nav_menu": {},
   "number_sections": false,
   "sideBar": true,
   "skip_h1_title": false,
   "title_cell": "Table of Contents",
   "title_sidebar": "Contents",
   "toc_cell": false,
   "toc_position": {
    "height": "calc(100% - 180px)",
    "left": "10px",
    "top": "150px",
    "width": "282px"
   },
   "toc_section_display": true,
   "toc_window_display": true
  }
 },
 "nbformat": 4,
 "nbformat_minor": 2
}
